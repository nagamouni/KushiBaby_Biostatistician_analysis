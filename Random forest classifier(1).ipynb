{
 "cells": [
  {
   "cell_type": "code",
   "execution_count": 1,
   "id": "b9e7fc2e",
   "metadata": {},
   "outputs": [],
   "source": [
    "import pandas as pd\n",
    "import numpy as np\n",
    "import matplotlib.pyplot as plt\n",
    "import seaborn as sns\n",
    "from scipy import stats"
   ]
  },
  {
   "cell_type": "markdown",
   "id": "bee244c2",
   "metadata": {},
   "source": [
    "#  Data discription :\n",
    "\n",
    "#  \tperson_id : \n",
    "unique identity of a person\n",
    "#   tobacco_consumption   : \n",
    "Whether person consumes tobacco\t\n",
    "#   alcohol_consumption\t : \n",
    "Whether person consumes alcohol\t\n",
    "#   sdh_occupational_risk :\n",
    "Social determinants of health - risk of occupation\t\n",
    "0\tmissing value\t\n",
    "1\tBurning the residue of the crop\t\n",
    "2\tBurning garbage\t\n",
    "3\tWorking in a smoke factory\t\n",
    "4\tWorking in gas/dust/smoke pollution industries\t\n",
    "5\tWorking in brick kiln and glass industry\t\n",
    "6\tWorking in mining industry\t\n",
    "7\tWorking in handloom/julaha industry\t\n",
    "8\tStone workmanship or pottery work\t\n",
    "9\tNone\t\n",
    "\n",
    "#   gender\t:\t\t\n",
    "F\tFemale\t\n",
    "M\tMale\t\n",
    "\n",
    "#   religion\t: \n",
    "0\tmissing value\t\n",
    "1\tHindu\t\n",
    "2\tMuslim\t\n",
    "3\tSikh\t\n",
    "4\tChristian\t\n",
    "5\tBuddhist\t\n",
    "6\tJain\t\n",
    "7\tOther\t\n",
    "# caste:\n",
    "0\tmissing value\t\n",
    "1\tGen\t\n",
    "2\tSC\t\n",
    "3\tST\t\n",
    "4\tOBC\t\n",
    "5\tOther\t\n",
    "# is_literate:Whether the person knows to read and write\t\n",
    "yes\n",
    "\n",
    "no\n",
    "# Age:age of a person\n",
    "\n",
    "# education_status \t: \n",
    "0\tmissing value\t\n",
    "1\tNo formal education\t\n",
    "2\tPrimary 1–5th\t\n",
    "3\tMiddle 6–8th\t\n",
    "4\tSecondary\t\n",
    "5\tHigher secondary\t\n",
    "6\tGraduate\t\n",
    "7\tPost graduate\t\n",
    "# occupation_status\n",
    "0\tmissing value\t\n",
    "1\tGovernment service\t\n",
    "2\tPrivate service\t\n",
    "3\tSelf business\t\n",
    "4\tAgriculture\t\n",
    "5\tLabour\t\n",
    "6\tHouse work\t\n",
    "7\tRetired\t\n",
    "8\tUnemployed\t\n",
    "9\tHousewife/Housemaker\t\n",
    "10\tStudent(Study only)\t\n",
    "# primary_cooking_fuel\n",
    "0\tmissing value\t\n",
    "1\tBurning wood\t\n",
    "2\tCrop residues\t\n",
    "3\tCow dung cakes\t\n",
    "4\tCoal\t\n",
    "5\tKerosene oil (kerosene)\t\n",
    "6\tLPG\t\n",
    "7\tOther\t\n",
    "8\tNone\t\n",
    "# primary_drinking_water\n",
    "\t\t\n",
    "0\tmissing value\t\n",
    "1\tR.O water personal\t\n",
    "2\tR.O water public\t\n",
    "3\tTap water\t\n",
    "4\tHandpump/Tube well inside house\t\n",
    "5\tHandpump/Tube well outside house\t\n",
    "6\tWell\t\n",
    "7\tWater tanks\t\n",
    "8\tTanker\t\n",
    "9\tRiver water\t\n",
    "10\tPond\t\n",
    "11\tOther\t\n",
    " \n",
    "# primary_toilet\n",
    "0\tmissing value\t\n",
    "1\tToilet with water\t\n",
    "2\tToilet without water\t\n",
    "3\tToilet with drier pits with running water\t\n",
    "4\tToilet with drier pits without running water\t\n",
    "5\tPublic Toilet\t\n",
    "6\tNo toilet\t\n",
    "7\tOther\t\n",
    "\n",
    "# primary_transport\n",
    "\t\t\n",
    "0\tmissing value\t\n",
    "1\tMotorcycle (Two wheeler)\t\n",
    "2\tCar (Four wheeler)\t\n",
    "3\tTractor\t\n",
    "4\tAnimal cart\t\n",
    "5\tPublic transport\t\n",
    "6\tNone\t\n",
    "7\tOther\t\n",
    "\n",
    "# toilet_usage_status\n",
    "\t\t\n",
    "0\tmissing value\t\n",
    "1\tEveryone\t\n",
    "2\tFew members\t\n",
    "3\tNo one\t\n",
    "# primary_electricity\n",
    "\t\t\n",
    "0\tmissing value\t\n",
    "1\tLine electricity\t\n",
    "2\tGenerator\t\n",
    "3\tSolar power\t\n",
    "4\tKerosene lamp\t\n",
    "5\tOther\t\n",
    "\n",
    "# primary_house_material\n",
    "0\tmissing value\t\n",
    "1\tClay house\t\n",
    "2\tMade of clay and slurry (Kachcha-Pakka)\t\n",
    "3\tBrick and concrete house (Pakka)\t\n",
    "4\tBrick and concrete house (Teen Shed)\t\n",
    "5\tBrick and concrete house (Khaprail)\t\n",
    "6\tMade of wood and teen shed\t\n",
    "7\tHut/House made of hay\t\n",
    "8\tOther\t\n",
    "\n",
    "\n",
    "                                     \n"
   ]
  },
  {
   "cell_type": "markdown",
   "id": "9beaa662",
   "metadata": {},
   "source": [
    "# Data Reading"
   ]
  },
  {
   "cell_type": "code",
   "execution_count": 2,
   "id": "84229ef5",
   "metadata": {},
   "outputs": [],
   "source": [
    "data=pd.read_excel(\"Biostatistician_Challenge_Dataset.xlsx\")"
   ]
  },
  {
   "cell_type": "code",
   "execution_count": 3,
   "id": "76c44b88",
   "metadata": {},
   "outputs": [
    {
     "data": {
      "text/html": [
       "<div>\n",
       "<style scoped>\n",
       "    .dataframe tbody tr th:only-of-type {\n",
       "        vertical-align: middle;\n",
       "    }\n",
       "\n",
       "    .dataframe tbody tr th {\n",
       "        vertical-align: top;\n",
       "    }\n",
       "\n",
       "    .dataframe thead th {\n",
       "        text-align: right;\n",
       "    }\n",
       "</style>\n",
       "<table border=\"1\" class=\"dataframe\">\n",
       "  <thead>\n",
       "    <tr style=\"text-align: right;\">\n",
       "      <th></th>\n",
       "      <th>person_id</th>\n",
       "      <th>tobacco_consumption</th>\n",
       "      <th>alcohol_consumption</th>\n",
       "      <th>sdh_occupational_risk</th>\n",
       "      <th>gender</th>\n",
       "      <th>religion</th>\n",
       "      <th>caste</th>\n",
       "      <th>is_literate</th>\n",
       "      <th>age</th>\n",
       "      <th>education_status</th>\n",
       "      <th>occupation_status</th>\n",
       "      <th>primary_cooking_fuel</th>\n",
       "      <th>primary_drinking_water</th>\n",
       "      <th>primary_toilet</th>\n",
       "      <th>primary_transport</th>\n",
       "      <th>toilet_usage_status</th>\n",
       "      <th>primary_electricity</th>\n",
       "      <th>primary_house_material</th>\n",
       "      <th>diseases</th>\n",
       "    </tr>\n",
       "  </thead>\n",
       "  <tbody>\n",
       "    <tr>\n",
       "      <th>0</th>\n",
       "      <td>3177498</td>\n",
       "      <td>In past/sometimes</td>\n",
       "      <td>Yes</td>\n",
       "      <td>9.0</td>\n",
       "      <td>M</td>\n",
       "      <td>1</td>\n",
       "      <td>3</td>\n",
       "      <td>Yes</td>\n",
       "      <td>30.0</td>\n",
       "      <td>Primary 1-5th</td>\n",
       "      <td>5.0</td>\n",
       "      <td>1</td>\n",
       "      <td>5.0</td>\n",
       "      <td>6.0</td>\n",
       "      <td>Motorcycle (Two wheeler)</td>\n",
       "      <td>0.0</td>\n",
       "      <td>1.0</td>\n",
       "      <td>1</td>\n",
       "      <td>0</td>\n",
       "    </tr>\n",
       "    <tr>\n",
       "      <th>1</th>\n",
       "      <td>3177499</td>\n",
       "      <td>NaN</td>\n",
       "      <td>NaN</td>\n",
       "      <td>0.0</td>\n",
       "      <td>F</td>\n",
       "      <td>0</td>\n",
       "      <td>0</td>\n",
       "      <td>No</td>\n",
       "      <td>2.0</td>\n",
       "      <td>0</td>\n",
       "      <td>0.0</td>\n",
       "      <td>1</td>\n",
       "      <td>5.0</td>\n",
       "      <td>6.0</td>\n",
       "      <td>Motorcycle (Two wheeler)</td>\n",
       "      <td>0.0</td>\n",
       "      <td>1.0</td>\n",
       "      <td>1</td>\n",
       "      <td>0</td>\n",
       "    </tr>\n",
       "    <tr>\n",
       "      <th>2</th>\n",
       "      <td>3177500</td>\n",
       "      <td>In past/sometimes</td>\n",
       "      <td>Yes</td>\n",
       "      <td>0.0</td>\n",
       "      <td>F</td>\n",
       "      <td>1</td>\n",
       "      <td>3</td>\n",
       "      <td>Yes</td>\n",
       "      <td>29.0</td>\n",
       "      <td>Middle 6-8th</td>\n",
       "      <td>9.0</td>\n",
       "      <td>1</td>\n",
       "      <td>5.0</td>\n",
       "      <td>6.0</td>\n",
       "      <td>Motorcycle (Two wheeler)</td>\n",
       "      <td>0.0</td>\n",
       "      <td>1.0</td>\n",
       "      <td>1</td>\n",
       "      <td>0</td>\n",
       "    </tr>\n",
       "    <tr>\n",
       "      <th>3</th>\n",
       "      <td>3177501</td>\n",
       "      <td>NaN</td>\n",
       "      <td>NaN</td>\n",
       "      <td>0.0</td>\n",
       "      <td>F</td>\n",
       "      <td>0</td>\n",
       "      <td>0</td>\n",
       "      <td>No</td>\n",
       "      <td>68.0</td>\n",
       "      <td>0</td>\n",
       "      <td>0.0</td>\n",
       "      <td>0</td>\n",
       "      <td>0.0</td>\n",
       "      <td>0.0</td>\n",
       "      <td>0</td>\n",
       "      <td>0.0</td>\n",
       "      <td>0.0</td>\n",
       "      <td>0</td>\n",
       "      <td>0</td>\n",
       "    </tr>\n",
       "    <tr>\n",
       "      <th>4</th>\n",
       "      <td>3177502</td>\n",
       "      <td>In past/sometimes</td>\n",
       "      <td>Yes</td>\n",
       "      <td>9.0</td>\n",
       "      <td>M</td>\n",
       "      <td>1</td>\n",
       "      <td>3</td>\n",
       "      <td>Yes</td>\n",
       "      <td>22.0</td>\n",
       "      <td>Primary 1-5th</td>\n",
       "      <td>5.0</td>\n",
       "      <td>0</td>\n",
       "      <td>0.0</td>\n",
       "      <td>0.0</td>\n",
       "      <td>0</td>\n",
       "      <td>0.0</td>\n",
       "      <td>0.0</td>\n",
       "      <td>0</td>\n",
       "      <td>0</td>\n",
       "    </tr>\n",
       "  </tbody>\n",
       "</table>\n",
       "</div>"
      ],
      "text/plain": [
       "   person_id tobacco_consumption alcohol_consumption  sdh_occupational_risk  \\\n",
       "0    3177498   In past/sometimes                 Yes                    9.0   \n",
       "1    3177499                 NaN                 NaN                    0.0   \n",
       "2    3177500   In past/sometimes                 Yes                    0.0   \n",
       "3    3177501                 NaN                 NaN                    0.0   \n",
       "4    3177502   In past/sometimes                 Yes                    9.0   \n",
       "\n",
       "  gender  religion  caste is_literate   age education_status  \\\n",
       "0      M         1      3         Yes  30.0    Primary 1-5th   \n",
       "1      F         0      0          No   2.0                0   \n",
       "2      F         1      3         Yes  29.0     Middle 6-8th   \n",
       "3      F         0      0          No  68.0                0   \n",
       "4      M         1      3         Yes  22.0    Primary 1-5th   \n",
       "\n",
       "   occupation_status primary_cooking_fuel  primary_drinking_water  \\\n",
       "0                5.0                    1                     5.0   \n",
       "1                0.0                    1                     5.0   \n",
       "2                9.0                    1                     5.0   \n",
       "3                0.0                    0                     0.0   \n",
       "4                5.0                    0                     0.0   \n",
       "\n",
       "   primary_toilet         primary_transport  toilet_usage_status  \\\n",
       "0             6.0  Motorcycle (Two wheeler)                  0.0   \n",
       "1             6.0  Motorcycle (Two wheeler)                  0.0   \n",
       "2             6.0  Motorcycle (Two wheeler)                  0.0   \n",
       "3             0.0                         0                  0.0   \n",
       "4             0.0                         0                  0.0   \n",
       "\n",
       "   primary_electricity primary_house_material  diseases  \n",
       "0                  1.0                      1         0  \n",
       "1                  1.0                      1         0  \n",
       "2                  1.0                      1         0  \n",
       "3                  0.0                      0         0  \n",
       "4                  0.0                      0         0  "
      ]
     },
     "execution_count": 3,
     "metadata": {},
     "output_type": "execute_result"
    }
   ],
   "source": [
    "data.head()"
   ]
  },
  {
   "cell_type": "code",
   "execution_count": 4,
   "id": "97e2c3d3",
   "metadata": {},
   "outputs": [
    {
     "data": {
      "text/plain": [
       "Index(['person_id', 'tobacco_consumption', 'alcohol_consumption',\n",
       "       'sdh_occupational_risk', 'gender', 'religion', 'caste', 'is_literate',\n",
       "       'age', 'education_status', 'occupation_status', 'primary_cooking_fuel',\n",
       "       'primary_drinking_water', 'primary_toilet', 'primary_transport',\n",
       "       'toilet_usage_status', 'primary_electricity', 'primary_house_material',\n",
       "       'diseases'],\n",
       "      dtype='object')"
      ]
     },
     "execution_count": 4,
     "metadata": {},
     "output_type": "execute_result"
    }
   ],
   "source": [
    "data.columns"
   ]
  },
  {
   "cell_type": "code",
   "execution_count": 5,
   "id": "a4bc8891",
   "metadata": {},
   "outputs": [
    {
     "data": {
      "text/html": [
       "<div>\n",
       "<style scoped>\n",
       "    .dataframe tbody tr th:only-of-type {\n",
       "        vertical-align: middle;\n",
       "    }\n",
       "\n",
       "    .dataframe tbody tr th {\n",
       "        vertical-align: top;\n",
       "    }\n",
       "\n",
       "    .dataframe thead th {\n",
       "        text-align: right;\n",
       "    }\n",
       "</style>\n",
       "<table border=\"1\" class=\"dataframe\">\n",
       "  <thead>\n",
       "    <tr style=\"text-align: right;\">\n",
       "      <th></th>\n",
       "      <th>person_id</th>\n",
       "      <th>sdh_occupational_risk</th>\n",
       "      <th>religion</th>\n",
       "      <th>caste</th>\n",
       "      <th>age</th>\n",
       "      <th>occupation_status</th>\n",
       "      <th>primary_drinking_water</th>\n",
       "      <th>primary_toilet</th>\n",
       "      <th>toilet_usage_status</th>\n",
       "      <th>primary_electricity</th>\n",
       "      <th>diseases</th>\n",
       "    </tr>\n",
       "  </thead>\n",
       "  <tbody>\n",
       "    <tr>\n",
       "      <th>count</th>\n",
       "      <td>1.390430e+05</td>\n",
       "      <td>137812.000000</td>\n",
       "      <td>139043.000000</td>\n",
       "      <td>139043.000000</td>\n",
       "      <td>113049.000000</td>\n",
       "      <td>138388.000000</td>\n",
       "      <td>135068.000000</td>\n",
       "      <td>135068.000000</td>\n",
       "      <td>133479.000000</td>\n",
       "      <td>135068.000000</td>\n",
       "      <td>139043.000000</td>\n",
       "    </tr>\n",
       "    <tr>\n",
       "      <th>mean</th>\n",
       "      <td>1.865410e+06</td>\n",
       "      <td>3.343054</td>\n",
       "      <td>0.950152</td>\n",
       "      <td>2.379602</td>\n",
       "      <td>30.128334</td>\n",
       "      <td>3.248237</td>\n",
       "      <td>4.087082</td>\n",
       "      <td>3.464159</td>\n",
       "      <td>0.587695</td>\n",
       "      <td>0.989968</td>\n",
       "      <td>0.032896</td>\n",
       "    </tr>\n",
       "    <tr>\n",
       "      <th>std</th>\n",
       "      <td>1.325424e+06</td>\n",
       "      <td>4.254496</td>\n",
       "      <td>0.570509</td>\n",
       "      <td>1.235876</td>\n",
       "      <td>20.086139</td>\n",
       "      <td>3.234125</td>\n",
       "      <td>1.962417</td>\n",
       "      <td>2.473946</td>\n",
       "      <td>0.807194</td>\n",
       "      <td>0.722426</td>\n",
       "      <td>0.178366</td>\n",
       "    </tr>\n",
       "    <tr>\n",
       "      <th>min</th>\n",
       "      <td>9.200000e+01</td>\n",
       "      <td>0.000000</td>\n",
       "      <td>0.000000</td>\n",
       "      <td>0.000000</td>\n",
       "      <td>0.000000</td>\n",
       "      <td>0.000000</td>\n",
       "      <td>0.000000</td>\n",
       "      <td>0.000000</td>\n",
       "      <td>0.000000</td>\n",
       "      <td>0.000000</td>\n",
       "      <td>0.000000</td>\n",
       "    </tr>\n",
       "    <tr>\n",
       "      <th>25%</th>\n",
       "      <td>2.386855e+05</td>\n",
       "      <td>0.000000</td>\n",
       "      <td>1.000000</td>\n",
       "      <td>1.000000</td>\n",
       "      <td>14.000000</td>\n",
       "      <td>0.000000</td>\n",
       "      <td>3.000000</td>\n",
       "      <td>1.000000</td>\n",
       "      <td>0.000000</td>\n",
       "      <td>1.000000</td>\n",
       "      <td>0.000000</td>\n",
       "    </tr>\n",
       "    <tr>\n",
       "      <th>50%</th>\n",
       "      <td>2.165214e+06</td>\n",
       "      <td>0.000000</td>\n",
       "      <td>1.000000</td>\n",
       "      <td>3.000000</td>\n",
       "      <td>26.000000</td>\n",
       "      <td>4.000000</td>\n",
       "      <td>5.000000</td>\n",
       "      <td>3.000000</td>\n",
       "      <td>0.000000</td>\n",
       "      <td>1.000000</td>\n",
       "      <td>0.000000</td>\n",
       "    </tr>\n",
       "    <tr>\n",
       "      <th>75%</th>\n",
       "      <td>3.055472e+06</td>\n",
       "      <td>9.000000</td>\n",
       "      <td>1.000000</td>\n",
       "      <td>3.000000</td>\n",
       "      <td>43.000000</td>\n",
       "      <td>6.000000</td>\n",
       "      <td>5.000000</td>\n",
       "      <td>6.000000</td>\n",
       "      <td>1.000000</td>\n",
       "      <td>1.000000</td>\n",
       "      <td>0.000000</td>\n",
       "    </tr>\n",
       "    <tr>\n",
       "      <th>max</th>\n",
       "      <td>3.829822e+06</td>\n",
       "      <td>9.000000</td>\n",
       "      <td>7.000000</td>\n",
       "      <td>5.000000</td>\n",
       "      <td>120.000000</td>\n",
       "      <td>10.000000</td>\n",
       "      <td>11.000000</td>\n",
       "      <td>7.000000</td>\n",
       "      <td>3.000000</td>\n",
       "      <td>5.000000</td>\n",
       "      <td>1.000000</td>\n",
       "    </tr>\n",
       "  </tbody>\n",
       "</table>\n",
       "</div>"
      ],
      "text/plain": [
       "          person_id  sdh_occupational_risk       religion          caste  \\\n",
       "count  1.390430e+05          137812.000000  139043.000000  139043.000000   \n",
       "mean   1.865410e+06               3.343054       0.950152       2.379602   \n",
       "std    1.325424e+06               4.254496       0.570509       1.235876   \n",
       "min    9.200000e+01               0.000000       0.000000       0.000000   \n",
       "25%    2.386855e+05               0.000000       1.000000       1.000000   \n",
       "50%    2.165214e+06               0.000000       1.000000       3.000000   \n",
       "75%    3.055472e+06               9.000000       1.000000       3.000000   \n",
       "max    3.829822e+06               9.000000       7.000000       5.000000   \n",
       "\n",
       "                 age  occupation_status  primary_drinking_water  \\\n",
       "count  113049.000000      138388.000000           135068.000000   \n",
       "mean       30.128334           3.248237                4.087082   \n",
       "std        20.086139           3.234125                1.962417   \n",
       "min         0.000000           0.000000                0.000000   \n",
       "25%        14.000000           0.000000                3.000000   \n",
       "50%        26.000000           4.000000                5.000000   \n",
       "75%        43.000000           6.000000                5.000000   \n",
       "max       120.000000          10.000000               11.000000   \n",
       "\n",
       "       primary_toilet  toilet_usage_status  primary_electricity       diseases  \n",
       "count   135068.000000        133479.000000        135068.000000  139043.000000  \n",
       "mean         3.464159             0.587695             0.989968       0.032896  \n",
       "std          2.473946             0.807194             0.722426       0.178366  \n",
       "min          0.000000             0.000000             0.000000       0.000000  \n",
       "25%          1.000000             0.000000             1.000000       0.000000  \n",
       "50%          3.000000             0.000000             1.000000       0.000000  \n",
       "75%          6.000000             1.000000             1.000000       0.000000  \n",
       "max          7.000000             3.000000             5.000000       1.000000  "
      ]
     },
     "execution_count": 5,
     "metadata": {},
     "output_type": "execute_result"
    }
   ],
   "source": [
    "data.describe()"
   ]
  },
  {
   "cell_type": "code",
   "execution_count": 6,
   "id": "62f4c616",
   "metadata": {},
   "outputs": [
    {
     "data": {
      "text/plain": [
       "(139043, 19)"
      ]
     },
     "execution_count": 6,
     "metadata": {},
     "output_type": "execute_result"
    }
   ],
   "source": [
    "data.shape"
   ]
  },
  {
   "cell_type": "code",
   "execution_count": 7,
   "id": "ba4b397c",
   "metadata": {},
   "outputs": [
    {
     "data": {
      "text/html": [
       "<div>\n",
       "<style scoped>\n",
       "    .dataframe tbody tr th:only-of-type {\n",
       "        vertical-align: middle;\n",
       "    }\n",
       "\n",
       "    .dataframe tbody tr th {\n",
       "        vertical-align: top;\n",
       "    }\n",
       "\n",
       "    .dataframe thead th {\n",
       "        text-align: right;\n",
       "    }\n",
       "</style>\n",
       "<table border=\"1\" class=\"dataframe\">\n",
       "  <thead>\n",
       "    <tr style=\"text-align: right;\">\n",
       "      <th></th>\n",
       "      <th>tobacco_consumption</th>\n",
       "      <th>alcohol_consumption</th>\n",
       "      <th>sdh_occupational_risk</th>\n",
       "      <th>gender</th>\n",
       "      <th>religion</th>\n",
       "      <th>caste</th>\n",
       "      <th>is_literate</th>\n",
       "      <th>age</th>\n",
       "      <th>education_status</th>\n",
       "      <th>occupation_status</th>\n",
       "      <th>primary_cooking_fuel</th>\n",
       "      <th>primary_drinking_water</th>\n",
       "      <th>primary_toilet</th>\n",
       "      <th>primary_transport</th>\n",
       "      <th>toilet_usage_status</th>\n",
       "      <th>primary_electricity</th>\n",
       "      <th>primary_house_material</th>\n",
       "      <th>diseases</th>\n",
       "    </tr>\n",
       "  </thead>\n",
       "  <tbody>\n",
       "    <tr>\n",
       "      <th>0</th>\n",
       "      <td>In past/sometimes</td>\n",
       "      <td>Yes</td>\n",
       "      <td>9.0</td>\n",
       "      <td>M</td>\n",
       "      <td>1</td>\n",
       "      <td>3</td>\n",
       "      <td>Yes</td>\n",
       "      <td>30.0</td>\n",
       "      <td>Primary 1-5th</td>\n",
       "      <td>5.0</td>\n",
       "      <td>1</td>\n",
       "      <td>5.0</td>\n",
       "      <td>6.0</td>\n",
       "      <td>Motorcycle (Two wheeler)</td>\n",
       "      <td>0.0</td>\n",
       "      <td>1.0</td>\n",
       "      <td>1</td>\n",
       "      <td>0</td>\n",
       "    </tr>\n",
       "    <tr>\n",
       "      <th>1</th>\n",
       "      <td>NaN</td>\n",
       "      <td>NaN</td>\n",
       "      <td>0.0</td>\n",
       "      <td>F</td>\n",
       "      <td>0</td>\n",
       "      <td>0</td>\n",
       "      <td>No</td>\n",
       "      <td>2.0</td>\n",
       "      <td>0</td>\n",
       "      <td>0.0</td>\n",
       "      <td>1</td>\n",
       "      <td>5.0</td>\n",
       "      <td>6.0</td>\n",
       "      <td>Motorcycle (Two wheeler)</td>\n",
       "      <td>0.0</td>\n",
       "      <td>1.0</td>\n",
       "      <td>1</td>\n",
       "      <td>0</td>\n",
       "    </tr>\n",
       "  </tbody>\n",
       "</table>\n",
       "</div>"
      ],
      "text/plain": [
       "  tobacco_consumption alcohol_consumption  sdh_occupational_risk gender  \\\n",
       "0   In past/sometimes                 Yes                    9.0      M   \n",
       "1                 NaN                 NaN                    0.0      F   \n",
       "\n",
       "   religion  caste is_literate   age education_status  occupation_status  \\\n",
       "0         1      3         Yes  30.0    Primary 1-5th                5.0   \n",
       "1         0      0          No   2.0                0                0.0   \n",
       "\n",
       "  primary_cooking_fuel  primary_drinking_water  primary_toilet  \\\n",
       "0                    1                     5.0             6.0   \n",
       "1                    1                     5.0             6.0   \n",
       "\n",
       "          primary_transport  toilet_usage_status  primary_electricity  \\\n",
       "0  Motorcycle (Two wheeler)                  0.0                  1.0   \n",
       "1  Motorcycle (Two wheeler)                  0.0                  1.0   \n",
       "\n",
       "  primary_house_material  diseases  \n",
       "0                      1         0  \n",
       "1                      1         0  "
      ]
     },
     "execution_count": 7,
     "metadata": {},
     "output_type": "execute_result"
    }
   ],
   "source": [
    "df=data.drop(['person_id'], axis=1)\n",
    "df.head(2)"
   ]
  },
  {
   "cell_type": "code",
   "execution_count": 8,
   "id": "798dad18",
   "metadata": {},
   "outputs": [
    {
     "data": {
      "text/html": [
       "<div>\n",
       "<style scoped>\n",
       "    .dataframe tbody tr th:only-of-type {\n",
       "        vertical-align: middle;\n",
       "    }\n",
       "\n",
       "    .dataframe tbody tr th {\n",
       "        vertical-align: top;\n",
       "    }\n",
       "\n",
       "    .dataframe thead th {\n",
       "        text-align: right;\n",
       "    }\n",
       "</style>\n",
       "<table border=\"1\" class=\"dataframe\">\n",
       "  <thead>\n",
       "    <tr style=\"text-align: right;\">\n",
       "      <th></th>\n",
       "      <th>person_id</th>\n",
       "      <th>sdh_occupational_risk</th>\n",
       "      <th>religion</th>\n",
       "      <th>caste</th>\n",
       "      <th>age</th>\n",
       "      <th>occupation_status</th>\n",
       "      <th>primary_drinking_water</th>\n",
       "      <th>primary_toilet</th>\n",
       "      <th>toilet_usage_status</th>\n",
       "      <th>primary_electricity</th>\n",
       "      <th>diseases</th>\n",
       "    </tr>\n",
       "  </thead>\n",
       "  <tbody>\n",
       "    <tr>\n",
       "      <th>count</th>\n",
       "      <td>1.390430e+05</td>\n",
       "      <td>137812.000000</td>\n",
       "      <td>139043.000000</td>\n",
       "      <td>139043.000000</td>\n",
       "      <td>113049.000000</td>\n",
       "      <td>138388.000000</td>\n",
       "      <td>135068.000000</td>\n",
       "      <td>135068.000000</td>\n",
       "      <td>133479.000000</td>\n",
       "      <td>135068.000000</td>\n",
       "      <td>139043.000000</td>\n",
       "    </tr>\n",
       "    <tr>\n",
       "      <th>mean</th>\n",
       "      <td>1.865410e+06</td>\n",
       "      <td>3.343054</td>\n",
       "      <td>0.950152</td>\n",
       "      <td>2.379602</td>\n",
       "      <td>30.128334</td>\n",
       "      <td>3.248237</td>\n",
       "      <td>4.087082</td>\n",
       "      <td>3.464159</td>\n",
       "      <td>0.587695</td>\n",
       "      <td>0.989968</td>\n",
       "      <td>0.032896</td>\n",
       "    </tr>\n",
       "    <tr>\n",
       "      <th>std</th>\n",
       "      <td>1.325424e+06</td>\n",
       "      <td>4.254496</td>\n",
       "      <td>0.570509</td>\n",
       "      <td>1.235876</td>\n",
       "      <td>20.086139</td>\n",
       "      <td>3.234125</td>\n",
       "      <td>1.962417</td>\n",
       "      <td>2.473946</td>\n",
       "      <td>0.807194</td>\n",
       "      <td>0.722426</td>\n",
       "      <td>0.178366</td>\n",
       "    </tr>\n",
       "    <tr>\n",
       "      <th>min</th>\n",
       "      <td>9.200000e+01</td>\n",
       "      <td>0.000000</td>\n",
       "      <td>0.000000</td>\n",
       "      <td>0.000000</td>\n",
       "      <td>0.000000</td>\n",
       "      <td>0.000000</td>\n",
       "      <td>0.000000</td>\n",
       "      <td>0.000000</td>\n",
       "      <td>0.000000</td>\n",
       "      <td>0.000000</td>\n",
       "      <td>0.000000</td>\n",
       "    </tr>\n",
       "    <tr>\n",
       "      <th>25%</th>\n",
       "      <td>2.386855e+05</td>\n",
       "      <td>0.000000</td>\n",
       "      <td>1.000000</td>\n",
       "      <td>1.000000</td>\n",
       "      <td>14.000000</td>\n",
       "      <td>0.000000</td>\n",
       "      <td>3.000000</td>\n",
       "      <td>1.000000</td>\n",
       "      <td>0.000000</td>\n",
       "      <td>1.000000</td>\n",
       "      <td>0.000000</td>\n",
       "    </tr>\n",
       "    <tr>\n",
       "      <th>50%</th>\n",
       "      <td>2.165214e+06</td>\n",
       "      <td>0.000000</td>\n",
       "      <td>1.000000</td>\n",
       "      <td>3.000000</td>\n",
       "      <td>26.000000</td>\n",
       "      <td>4.000000</td>\n",
       "      <td>5.000000</td>\n",
       "      <td>3.000000</td>\n",
       "      <td>0.000000</td>\n",
       "      <td>1.000000</td>\n",
       "      <td>0.000000</td>\n",
       "    </tr>\n",
       "    <tr>\n",
       "      <th>75%</th>\n",
       "      <td>3.055472e+06</td>\n",
       "      <td>9.000000</td>\n",
       "      <td>1.000000</td>\n",
       "      <td>3.000000</td>\n",
       "      <td>43.000000</td>\n",
       "      <td>6.000000</td>\n",
       "      <td>5.000000</td>\n",
       "      <td>6.000000</td>\n",
       "      <td>1.000000</td>\n",
       "      <td>1.000000</td>\n",
       "      <td>0.000000</td>\n",
       "    </tr>\n",
       "    <tr>\n",
       "      <th>max</th>\n",
       "      <td>3.829822e+06</td>\n",
       "      <td>9.000000</td>\n",
       "      <td>7.000000</td>\n",
       "      <td>5.000000</td>\n",
       "      <td>120.000000</td>\n",
       "      <td>10.000000</td>\n",
       "      <td>11.000000</td>\n",
       "      <td>7.000000</td>\n",
       "      <td>3.000000</td>\n",
       "      <td>5.000000</td>\n",
       "      <td>1.000000</td>\n",
       "    </tr>\n",
       "  </tbody>\n",
       "</table>\n",
       "</div>"
      ],
      "text/plain": [
       "          person_id  sdh_occupational_risk       religion          caste  \\\n",
       "count  1.390430e+05          137812.000000  139043.000000  139043.000000   \n",
       "mean   1.865410e+06               3.343054       0.950152       2.379602   \n",
       "std    1.325424e+06               4.254496       0.570509       1.235876   \n",
       "min    9.200000e+01               0.000000       0.000000       0.000000   \n",
       "25%    2.386855e+05               0.000000       1.000000       1.000000   \n",
       "50%    2.165214e+06               0.000000       1.000000       3.000000   \n",
       "75%    3.055472e+06               9.000000       1.000000       3.000000   \n",
       "max    3.829822e+06               9.000000       7.000000       5.000000   \n",
       "\n",
       "                 age  occupation_status  primary_drinking_water  \\\n",
       "count  113049.000000      138388.000000           135068.000000   \n",
       "mean       30.128334           3.248237                4.087082   \n",
       "std        20.086139           3.234125                1.962417   \n",
       "min         0.000000           0.000000                0.000000   \n",
       "25%        14.000000           0.000000                3.000000   \n",
       "50%        26.000000           4.000000                5.000000   \n",
       "75%        43.000000           6.000000                5.000000   \n",
       "max       120.000000          10.000000               11.000000   \n",
       "\n",
       "       primary_toilet  toilet_usage_status  primary_electricity       diseases  \n",
       "count   135068.000000        133479.000000        135068.000000  139043.000000  \n",
       "mean         3.464159             0.587695             0.989968       0.032896  \n",
       "std          2.473946             0.807194             0.722426       0.178366  \n",
       "min          0.000000             0.000000             0.000000       0.000000  \n",
       "25%          1.000000             0.000000             1.000000       0.000000  \n",
       "50%          3.000000             0.000000             1.000000       0.000000  \n",
       "75%          6.000000             1.000000             1.000000       0.000000  \n",
       "max          7.000000             3.000000             5.000000       1.000000  "
      ]
     },
     "execution_count": 8,
     "metadata": {},
     "output_type": "execute_result"
    }
   ],
   "source": [
    "data.describe()"
   ]
  },
  {
   "cell_type": "markdown",
   "id": "1af1930b",
   "metadata": {},
   "source": [
    "#  Data Cleaning"
   ]
  },
  {
   "cell_type": "code",
   "execution_count": 9,
   "id": "e3889780",
   "metadata": {},
   "outputs": [
    {
     "name": "stdout",
     "output_type": "stream",
     "text": [
      "<class 'pandas.core.frame.DataFrame'>\n",
      "RangeIndex: 139043 entries, 0 to 139042\n",
      "Data columns (total 18 columns):\n",
      " #   Column                  Non-Null Count   Dtype  \n",
      "---  ------                  --------------   -----  \n",
      " 0   tobacco_consumption     91065 non-null   object \n",
      " 1   alcohol_consumption     123738 non-null  object \n",
      " 2   sdh_occupational_risk   137812 non-null  float64\n",
      " 3   gender                  139043 non-null  object \n",
      " 4   religion                139043 non-null  int64  \n",
      " 5   caste                   139043 non-null  int64  \n",
      " 6   is_literate             139043 non-null  object \n",
      " 7   age                     113049 non-null  float64\n",
      " 8   education_status        137322 non-null  object \n",
      " 9   occupation_status       138388 non-null  float64\n",
      " 10  primary_cooking_fuel    135068 non-null  object \n",
      " 11  primary_drinking_water  135068 non-null  float64\n",
      " 12  primary_toilet          135068 non-null  float64\n",
      " 13  primary_transport       135068 non-null  object \n",
      " 14  toilet_usage_status     133479 non-null  float64\n",
      " 15  primary_electricity     135068 non-null  float64\n",
      " 16  primary_house_material  135068 non-null  object \n",
      " 17  diseases                139043 non-null  int64  \n",
      "dtypes: float64(7), int64(3), object(8)\n",
      "memory usage: 19.1+ MB\n"
     ]
    }
   ],
   "source": [
    "df.info()"
   ]
  },
  {
   "cell_type": "code",
   "execution_count": 10,
   "id": "4e09a06d",
   "metadata": {},
   "outputs": [
    {
     "data": {
      "text/plain": [
       "tobacco_consumption       47978\n",
       "alcohol_consumption       15305\n",
       "sdh_occupational_risk      1231\n",
       "gender                        0\n",
       "religion                      0\n",
       "caste                         0\n",
       "is_literate                   0\n",
       "age                       25994\n",
       "education_status           1721\n",
       "occupation_status           655\n",
       "primary_cooking_fuel       3975\n",
       "primary_drinking_water     3975\n",
       "primary_toilet             3975\n",
       "primary_transport          3975\n",
       "toilet_usage_status        5564\n",
       "primary_electricity        3975\n",
       "primary_house_material     3975\n",
       "diseases                      0\n",
       "dtype: int64"
      ]
     },
     "execution_count": 10,
     "metadata": {},
     "output_type": "execute_result"
    }
   ],
   "source": [
    "df.isnull().sum()"
   ]
  },
  {
   "cell_type": "code",
   "execution_count": 11,
   "id": "ca3dece9",
   "metadata": {},
   "outputs": [
    {
     "data": {
      "text/plain": [
       "Never                79248\n",
       "In past/sometimes     7205\n",
       "Daily                 4612\n",
       "Name: tobacco_consumption, dtype: int64"
      ]
     },
     "execution_count": 11,
     "metadata": {},
     "output_type": "execute_result"
    }
   ],
   "source": [
    "df['tobacco_consumption'].value_counts()"
   ]
  },
  {
   "cell_type": "code",
   "execution_count": 12,
   "id": "f07c8a1e",
   "metadata": {},
   "outputs": [
    {
     "data": {
      "text/plain": [
       "No     120680\n",
       "Yes      3058\n",
       "Name: alcohol_consumption, dtype: int64"
      ]
     },
     "execution_count": 12,
     "metadata": {},
     "output_type": "execute_result"
    }
   ],
   "source": [
    "df['alcohol_consumption'].value_counts()"
   ]
  },
  {
   "cell_type": "code",
   "execution_count": 13,
   "id": "6436f901",
   "metadata": {},
   "outputs": [
    {
     "data": {
      "text/plain": [
       "0.0    79433\n",
       "9.0    47785\n",
       "1.0     6153\n",
       "8.0     1460\n",
       "2.0      669\n",
       "7.0      547\n",
       "4.0      534\n",
       "5.0      491\n",
       "3.0      461\n",
       "6.0      279\n",
       "Name: sdh_occupational_risk, dtype: int64"
      ]
     },
     "execution_count": 13,
     "metadata": {},
     "output_type": "execute_result"
    }
   ],
   "source": [
    "df['sdh_occupational_risk'].value_counts()"
   ]
  },
  {
   "cell_type": "code",
   "execution_count": 14,
   "id": "6e8e9e1c",
   "metadata": {},
   "outputs": [
    {
     "name": "stdout",
     "output_type": "stream",
     "text": [
      "ModeResult(mode=array([0.]), count=array([79433]))\n"
     ]
    }
   ],
   "source": [
    "\n",
    "x = stats.mode(df['sdh_occupational_risk'])\n",
    "\n",
    "print(x) \n"
   ]
  },
  {
   "cell_type": "code",
   "execution_count": 15,
   "id": "195b6f84",
   "metadata": {},
   "outputs": [
    {
     "name": "stdout",
     "output_type": "stream",
     "text": [
      "second_highest_mode\n",
      "9.0\n"
     ]
    }
   ],
   "source": [
    "import statistics\n",
    "from collections import Counter\n",
    "frequency_table = Counter(df['sdh_occupational_risk'])\n",
    "sorted_values = frequency_table.most_common()\n",
    "second_highest_mode = sorted_values[1][0]\n",
    "print(\"second_highest_mode\")\n",
    "print(second_highest_mode)\n"
   ]
  },
  {
   "cell_type": "markdown",
   "id": "39a2e1c3",
   "metadata": {},
   "source": [
    "#  Since the third highest mode is 1.0\n",
    "because 9 refers to NAN so replace it with the Third highest mode value"
   ]
  },
  {
   "cell_type": "code",
   "execution_count": 16,
   "id": "b760bd41",
   "metadata": {},
   "outputs": [
    {
     "data": {
      "text/plain": [
       "1.0    133371\n",
       "8.0      1460\n",
       "2.0       669\n",
       "7.0       547\n",
       "4.0       534\n",
       "5.0       491\n",
       "3.0       461\n",
       "6.0       279\n",
       "Name: sdh_occupational_risk, dtype: int64"
      ]
     },
     "execution_count": 16,
     "metadata": {},
     "output_type": "execute_result"
    }
   ],
   "source": [
    "df['sdh_occupational_risk'] = df['sdh_occupational_risk'].replace({0.:1.})\n",
    "\n",
    "df['sdh_occupational_risk'] = df['sdh_occupational_risk'].replace({9.:1.})\n",
    "\n",
    "\n",
    "df['sdh_occupational_risk'].value_counts()\n"
   ]
  },
  {
   "cell_type": "code",
   "execution_count": 17,
   "id": "8faaff09",
   "metadata": {},
   "outputs": [
    {
     "data": {
      "text/plain": [
       "M    70884\n",
       "F    68148\n",
       "O       11\n",
       "Name: gender, dtype: int64"
      ]
     },
     "execution_count": 17,
     "metadata": {},
     "output_type": "execute_result"
    }
   ],
   "source": [
    "df['gender'].value_counts()"
   ]
  },
  {
   "cell_type": "code",
   "execution_count": 18,
   "id": "e4d0da89",
   "metadata": {},
   "outputs": [
    {
     "name": "stdout",
     "output_type": "stream",
     "text": [
      "ModeResult(mode=array(['M'], dtype=object), count=array([70884]))\n"
     ]
    }
   ],
   "source": [
    "\n",
    "x = stats.mode(df['gender'])\n",
    "\n",
    "print(x) \n"
   ]
  },
  {
   "cell_type": "code",
   "execution_count": 19,
   "id": "dde93103",
   "metadata": {},
   "outputs": [
    {
     "data": {
      "text/plain": [
       "M    70895\n",
       "F    68148\n",
       "Name: gender, dtype: int64"
      ]
     },
     "execution_count": 19,
     "metadata": {},
     "output_type": "execute_result"
    }
   ],
   "source": [
    "df['gender'] = df['gender'].replace({'O': 'M'})\n",
    "df['gender'].value_counts()"
   ]
  },
  {
   "cell_type": "code",
   "execution_count": 20,
   "id": "a5a8b15d",
   "metadata": {},
   "outputs": [
    {
     "data": {
      "text/plain": [
       "1    121170\n",
       "0     14618\n",
       "2      2190\n",
       "6       771\n",
       "7       256\n",
       "4        30\n",
       "3         8\n",
       "Name: religion, dtype: int64"
      ]
     },
     "execution_count": 20,
     "metadata": {},
     "output_type": "execute_result"
    }
   ],
   "source": [
    "df['religion'].value_counts()"
   ]
  },
  {
   "cell_type": "code",
   "execution_count": 21,
   "id": "61d09c39",
   "metadata": {},
   "outputs": [
    {
     "name": "stdout",
     "output_type": "stream",
     "text": [
      "ModeResult(mode=array([1], dtype=int64), count=array([121170]))\n"
     ]
    }
   ],
   "source": [
    "\n",
    "x = stats.mode(df['religion'])\n",
    "\n",
    "print(x) \n"
   ]
  },
  {
   "cell_type": "code",
   "execution_count": 22,
   "id": "e8fb4cad",
   "metadata": {},
   "outputs": [
    {
     "data": {
      "text/plain": [
       "1    135788\n",
       "2      2190\n",
       "6       771\n",
       "7       256\n",
       "4        30\n",
       "3         8\n",
       "Name: religion, dtype: int64"
      ]
     },
     "execution_count": 22,
     "metadata": {},
     "output_type": "execute_result"
    }
   ],
   "source": [
    "df['religion'] = df['religion'].replace({0:1})\n",
    "df['religion'].value_counts()"
   ]
  },
  {
   "cell_type": "code",
   "execution_count": 23,
   "id": "d29cedd7",
   "metadata": {},
   "outputs": [
    {
     "data": {
      "text/plain": [
       "3    66290\n",
       "1    21477\n",
       "2    20016\n",
       "0    14618\n",
       "4    12722\n",
       "5     3920\n",
       "Name: caste, dtype: int64"
      ]
     },
     "execution_count": 23,
     "metadata": {},
     "output_type": "execute_result"
    }
   ],
   "source": [
    "df['caste'].value_counts()"
   ]
  },
  {
   "cell_type": "code",
   "execution_count": 24,
   "id": "f2dc3232",
   "metadata": {},
   "outputs": [
    {
     "name": "stdout",
     "output_type": "stream",
     "text": [
      "ModeResult(mode=array([3], dtype=int64), count=array([66290]))\n"
     ]
    }
   ],
   "source": [
    "\n",
    "x = stats.mode(df['caste'])\n",
    "\n",
    "print(x) \n"
   ]
  },
  {
   "cell_type": "code",
   "execution_count": 25,
   "id": "7966db83",
   "metadata": {},
   "outputs": [
    {
     "data": {
      "text/plain": [
       "3    80908\n",
       "1    21477\n",
       "2    20016\n",
       "4    12722\n",
       "5     3920\n",
       "Name: caste, dtype: int64"
      ]
     },
     "execution_count": 25,
     "metadata": {},
     "output_type": "execute_result"
    }
   ],
   "source": [
    "df['caste'] = df['caste'].replace({0:3})\n",
    "df['caste'].value_counts()"
   ]
  },
  {
   "cell_type": "code",
   "execution_count": 26,
   "id": "9589d0ee",
   "metadata": {},
   "outputs": [
    {
     "data": {
      "text/plain": [
       "No     93601\n",
       "Yes    45442\n",
       "Name: is_literate, dtype: int64"
      ]
     },
     "execution_count": 26,
     "metadata": {},
     "output_type": "execute_result"
    }
   ],
   "source": [
    "df['is_literate'].value_counts()"
   ]
  },
  {
   "cell_type": "code",
   "execution_count": 27,
   "id": "f837bd9c",
   "metadata": {},
   "outputs": [
    {
     "data": {
      "text/plain": [
       "0                91881\n",
       "Primary 1-5th    11810\n",
       "Middle 6-8th     10708\n",
       "4                 8067\n",
       "5                 4974\n",
       "6                 4019\n",
       "1                 3871\n",
       "7                 1992\n",
       "Name: education_status, dtype: int64"
      ]
     },
     "execution_count": 27,
     "metadata": {},
     "output_type": "execute_result"
    }
   ],
   "source": [
    "df['education_status'].value_counts()"
   ]
  },
  {
   "cell_type": "code",
   "execution_count": 28,
   "id": "8f748ee2",
   "metadata": {},
   "outputs": [],
   "source": [
    "df['education_status'] = df['education_status'].replace({'Primary 1-5th': 2, 'Middle 6-8th':3})\n"
   ]
  },
  {
   "cell_type": "code",
   "execution_count": 29,
   "id": "f598f929",
   "metadata": {},
   "outputs": [
    {
     "name": "stdout",
     "output_type": "stream",
     "text": [
      "second_highest_mode\n",
      "2.0\n"
     ]
    }
   ],
   "source": [
    "import statistics\n",
    "from collections import Counter\n",
    "frequency_table = Counter(df['education_status'])\n",
    "sorted_values = frequency_table.most_common()\n",
    "second_highest_mode = sorted_values[1][0]\n",
    "print(\"second_highest_mode\")\n",
    "print(second_highest_mode)\n"
   ]
  },
  {
   "cell_type": "code",
   "execution_count": 30,
   "id": "02c52189",
   "metadata": {},
   "outputs": [
    {
     "data": {
      "text/plain": [
       "2.0    103691\n",
       "3.0     10708\n",
       "4.0      8067\n",
       "5.0      4974\n",
       "6.0      4019\n",
       "1.0      3871\n",
       "7.0      1992\n",
       "Name: education_status, dtype: int64"
      ]
     },
     "execution_count": 30,
     "metadata": {},
     "output_type": "execute_result"
    }
   ],
   "source": [
    "df['education_status'] = df['education_status'].replace({0:2})\n",
    "df['education_status'].value_counts()"
   ]
  },
  {
   "cell_type": "code",
   "execution_count": 31,
   "id": "7829b502",
   "metadata": {},
   "outputs": [
    {
     "data": {
      "text/plain": [
       "0.0     59798\n",
       "5.0     23394\n",
       "6.0     15441\n",
       "4.0     11317\n",
       "9.0     11015\n",
       "8.0      4936\n",
       "3.0      3973\n",
       "2.0      3000\n",
       "10.0     2363\n",
       "7.0      1885\n",
       "1.0      1266\n",
       "Name: occupation_status, dtype: int64"
      ]
     },
     "execution_count": 31,
     "metadata": {},
     "output_type": "execute_result"
    }
   ],
   "source": [
    "df['occupation_status'].value_counts()"
   ]
  },
  {
   "cell_type": "code",
   "execution_count": 32,
   "id": "d7a51df9",
   "metadata": {},
   "outputs": [
    {
     "name": "stdout",
     "output_type": "stream",
     "text": [
      "second_highest_mode\n",
      "5.0\n"
     ]
    }
   ],
   "source": [
    "import statistics\n",
    "from collections import Counter\n",
    "frequency_table = Counter(df['occupation_status'])\n",
    "sorted_values = frequency_table.most_common()\n",
    "second_highest_mode = sorted_values[1][0]\n",
    "print(\"second_highest_mode\")\n",
    "print(second_highest_mode)\n"
   ]
  },
  {
   "cell_type": "code",
   "execution_count": 33,
   "id": "3e02181c",
   "metadata": {},
   "outputs": [
    {
     "data": {
      "text/plain": [
       "5.0     83192\n",
       "6.0     15441\n",
       "4.0     11317\n",
       "9.0     11015\n",
       "8.0      4936\n",
       "3.0      3973\n",
       "2.0      3000\n",
       "10.0     2363\n",
       "7.0      1885\n",
       "1.0      1266\n",
       "Name: occupation_status, dtype: int64"
      ]
     },
     "execution_count": 33,
     "metadata": {},
     "output_type": "execute_result"
    }
   ],
   "source": [
    "df['occupation_status'] = df['occupation_status'].replace({0.0:5.0})\n",
    "df['occupation_status'].value_counts()"
   ]
  },
  {
   "cell_type": "code",
   "execution_count": 34,
   "id": "a68616a1",
   "metadata": {},
   "outputs": [
    {
     "data": {
      "text/plain": [
       "1                          56092\n",
       "6                          40014\n",
       "0                          13467\n",
       "1                           8840\n",
       "6                           8347\n",
       "0                           3303\n",
       "8                           2291\n",
       "7                            686\n",
       "3                            627\n",
       "8                            535\n",
       "4                            225\n",
       "2                            222\n",
       "Kerosene oil (kerosene)      149\n",
       "7                            141\n",
       "4                             61\n",
       "2                             45\n",
       "3                             23\n",
       "Name: primary_cooking_fuel, dtype: int64"
      ]
     },
     "execution_count": 34,
     "metadata": {},
     "output_type": "execute_result"
    }
   ],
   "source": [
    "df['primary_cooking_fuel'].value_counts()"
   ]
  },
  {
   "cell_type": "code",
   "execution_count": 35,
   "id": "355064f0",
   "metadata": {},
   "outputs": [],
   "source": [
    "df['primary_cooking_fuel'] = df['primary_cooking_fuel'].replace({'Kerosene oil (kerosene)': 2})"
   ]
  },
  {
   "cell_type": "code",
   "execution_count": 36,
   "id": "be40295f",
   "metadata": {},
   "outputs": [
    {
     "name": "stdout",
     "output_type": "stream",
     "text": [
      "ModeResult(mode=array([1], dtype=object), count=array([56092]))\n"
     ]
    }
   ],
   "source": [
    "x = stats.mode(df['primary_cooking_fuel'])\n",
    "\n",
    "print(x) \n"
   ]
  },
  {
   "cell_type": "code",
   "execution_count": 37,
   "id": "a17eaebb",
   "metadata": {},
   "outputs": [
    {
     "data": {
      "text/plain": [
       "1    69559\n",
       "6    40014\n",
       "1     8840\n",
       "6     8347\n",
       "0     3303\n",
       "8     2291\n",
       "7      686\n",
       "3      627\n",
       "8      535\n",
       "2      371\n",
       "4      225\n",
       "7      141\n",
       "4       61\n",
       "2       45\n",
       "3       23\n",
       "Name: primary_cooking_fuel, dtype: int64"
      ]
     },
     "execution_count": 37,
     "metadata": {},
     "output_type": "execute_result"
    }
   ],
   "source": [
    "df['primary_cooking_fuel'] = df['primary_cooking_fuel'].replace({'0.0': 0})\n",
    "df['primary_cooking_fuel'] = df['primary_cooking_fuel'].replace({'1.0': 1})\n",
    "df['primary_cooking_fuel'] = df['primary_cooking_fuel'].replace({'2.0': 2})\n",
    "df['primary_cooking_fuel'] = df['primary_cooking_fuel'].replace({'3.0': 3})\n",
    "df['primary_cooking_fuel'] = df['primary_cooking_fuel'].replace({'4.0': 4})\n",
    "df['primary_cooking_fuel'] = df['primary_cooking_fuel'].replace({'5.0': 5})\n",
    "df['primary_cooking_fuel'] = df['primary_cooking_fuel'].replace({'6.0': 6})\n",
    "df['primary_cooking_fuel'] = df['primary_cooking_fuel'].replace({'7.0': 7})\n",
    "df['primary_cooking_fuel'] = df['primary_cooking_fuel'].replace({'8.0': 8})\n",
    "\n",
    "df['primary_cooking_fuel'] = df['primary_cooking_fuel'].replace({0: 1})\n",
    "df['primary_cooking_fuel'].value_counts()"
   ]
  },
  {
   "cell_type": "code",
   "execution_count": 38,
   "id": "7d39ed40",
   "metadata": {},
   "outputs": [
    {
     "data": {
      "text/plain": [
       "5.0     56304\n",
       "3.0     22909\n",
       "4.0     18634\n",
       "0.0     16770\n",
       "6.0     15049\n",
       "9.0      1524\n",
       "7.0      1096\n",
       "1.0       951\n",
       "11.0      702\n",
       "10.0      546\n",
       "2.0       538\n",
       "8.0        45\n",
       "Name: primary_drinking_water, dtype: int64"
      ]
     },
     "execution_count": 38,
     "metadata": {},
     "output_type": "execute_result"
    }
   ],
   "source": [
    "df['primary_drinking_water'].value_counts()"
   ]
  },
  {
   "cell_type": "code",
   "execution_count": 39,
   "id": "b8d03aa0",
   "metadata": {},
   "outputs": [
    {
     "name": "stdout",
     "output_type": "stream",
     "text": [
      "ModeResult(mode=array([5.]), count=array([56304]))\n"
     ]
    }
   ],
   "source": [
    "x = stats.mode(df['primary_drinking_water'])\n",
    "\n",
    "print(x) \n"
   ]
  },
  {
   "cell_type": "code",
   "execution_count": 40,
   "id": "dd20f34a",
   "metadata": {},
   "outputs": [
    {
     "data": {
      "text/plain": [
       "5.0     73074\n",
       "3.0     22909\n",
       "4.0     18634\n",
       "6.0     15049\n",
       "9.0      1524\n",
       "7.0      1096\n",
       "1.0       951\n",
       "11.0      702\n",
       "10.0      546\n",
       "2.0       538\n",
       "8.0        45\n",
       "Name: primary_drinking_water, dtype: int64"
      ]
     },
     "execution_count": 40,
     "metadata": {},
     "output_type": "execute_result"
    }
   ],
   "source": [
    "df['primary_drinking_water'] = df['primary_drinking_water'].replace({0.0:5.0})\n",
    "df['primary_drinking_water'].value_counts()\n"
   ]
  },
  {
   "cell_type": "code",
   "execution_count": 41,
   "id": "4dc5113d",
   "metadata": {},
   "outputs": [
    {
     "data": {
      "text/plain": [
       "6.0    57364\n",
       "1.0    29940\n",
       "2.0    17031\n",
       "0.0    16770\n",
       "3.0     6487\n",
       "5.0     3719\n",
       "7.0     2209\n",
       "4.0     1548\n",
       "Name: primary_toilet, dtype: int64"
      ]
     },
     "execution_count": 41,
     "metadata": {},
     "output_type": "execute_result"
    }
   ],
   "source": [
    "df['primary_toilet'].value_counts()"
   ]
  },
  {
   "cell_type": "code",
   "execution_count": 42,
   "id": "14f7368b",
   "metadata": {},
   "outputs": [
    {
     "name": "stdout",
     "output_type": "stream",
     "text": [
      "ModeResult(mode=array([6.]), count=array([57364]))\n"
     ]
    }
   ],
   "source": [
    "x = stats.mode(df['primary_toilet'])\n",
    "\n",
    "print(x) \n"
   ]
  },
  {
   "cell_type": "code",
   "execution_count": 43,
   "id": "fc032f52",
   "metadata": {},
   "outputs": [
    {
     "data": {
      "text/plain": [
       "6.0    74134\n",
       "1.0    29940\n",
       "2.0    17031\n",
       "3.0     6487\n",
       "5.0     3719\n",
       "7.0     2209\n",
       "4.0     1548\n",
       "Name: primary_toilet, dtype: int64"
      ]
     },
     "execution_count": 43,
     "metadata": {},
     "output_type": "execute_result"
    }
   ],
   "source": [
    "df['primary_toilet'] = df['primary_toilet'].replace({0.0:6.0})\n",
    "df['primary_toilet'].value_counts()"
   ]
  },
  {
   "cell_type": "code",
   "execution_count": 44,
   "id": "d89b2df5",
   "metadata": {},
   "outputs": [
    {
     "data": {
      "text/plain": [
       "Motorcycle (Two wheeler)    69108\n",
       "6                           41779\n",
       "0                           16719\n",
       "Car (Four wheeler)           2759\n",
       "7                            2509\n",
       "5                            1171\n",
       "3                             689\n",
       "4                             246\n",
       "0                              51\n",
       "6                              31\n",
       "3                               3\n",
       "5                               1\n",
       "7                               1\n",
       "4                               1\n",
       "Name: primary_transport, dtype: int64"
      ]
     },
     "execution_count": 44,
     "metadata": {},
     "output_type": "execute_result"
    }
   ],
   "source": [
    "df['primary_transport'].value_counts()"
   ]
  },
  {
   "cell_type": "code",
   "execution_count": 45,
   "id": "49f132a8",
   "metadata": {},
   "outputs": [
    {
     "name": "stdout",
     "output_type": "stream",
     "text": [
      "ModeResult(mode=array(['Motorcycle (Two wheeler)'], dtype=object), count=array([69108]))\n"
     ]
    }
   ],
   "source": [
    "x = stats.mode(df['primary_transport'])\n",
    "\n",
    "print(x) \n"
   ]
  },
  {
   "cell_type": "code",
   "execution_count": 46,
   "id": "855183d0",
   "metadata": {},
   "outputs": [
    {
     "data": {
      "text/plain": [
       "1    69159\n",
       "6    41810\n",
       "0    16719\n",
       "2     2759\n",
       "7     2510\n",
       "5     1172\n",
       "3      692\n",
       "4      247\n",
       "Name: primary_transport, dtype: int64"
      ]
     },
     "execution_count": 46,
     "metadata": {},
     "output_type": "execute_result"
    }
   ],
   "source": [
    "df['primary_transport'] = df['primary_transport'].replace({0.0:1})\n",
    "\n",
    "df['primary_transport'] = df['primary_transport'].replace({1:1})\n",
    "df['primary_transport'] = df['primary_transport'].replace({2:2})\n",
    "df['primary_transport'] = df['primary_transport'].replace({'3':3})\n",
    "df['primary_transport'] = df['primary_transport'].replace({'4':4})\n",
    "df['primary_transport'] = df['primary_transport'].replace({'5':5})\n",
    "df['primary_transport'] = df['primary_transport'].replace({'6':6})\n",
    "df['primary_transport'] = df['primary_transport'].replace({'7':7})\n",
    "df['primary_transport'] = df['primary_transport'].replace({8:8})\n",
    "df['primary_transport'] = df['primary_transport'].replace({'Motorcycle (Two wheeler)': 1})\n",
    "df['primary_transport'] = df['primary_transport'].replace({'Car (Four wheeler)': 2})\n",
    "\n",
    "\n",
    "df['primary_transport'].value_counts()"
   ]
  },
  {
   "cell_type": "code",
   "execution_count": 47,
   "id": "2e5ee847",
   "metadata": {},
   "outputs": [
    {
     "data": {
      "text/plain": [
       "0.0    74754\n",
       "1.0    46598\n",
       "3.0     7593\n",
       "2.0     4534\n",
       "Name: toilet_usage_status, dtype: int64"
      ]
     },
     "execution_count": 47,
     "metadata": {},
     "output_type": "execute_result"
    }
   ],
   "source": [
    "df['toilet_usage_status'].value_counts()"
   ]
  },
  {
   "cell_type": "code",
   "execution_count": 48,
   "id": "d3240928",
   "metadata": {},
   "outputs": [
    {
     "name": "stdout",
     "output_type": "stream",
     "text": [
      "ModeResult(mode=array([0.]), count=array([74754]))\n"
     ]
    }
   ],
   "source": [
    "x = stats.mode(df['toilet_usage_status'])\n",
    "\n",
    "print(x) \n"
   ]
  },
  {
   "cell_type": "code",
   "execution_count": 49,
   "id": "76b88213",
   "metadata": {},
   "outputs": [
    {
     "name": "stdout",
     "output_type": "stream",
     "text": [
      "second_highest_mode\n",
      "1.0\n"
     ]
    }
   ],
   "source": [
    "import statistics\n",
    "from collections import Counter\n",
    "frequency_table = Counter(df['toilet_usage_status'])\n",
    "sorted_values = frequency_table.most_common()\n",
    "second_highest_mode = sorted_values[1][0]\n",
    "print(\"second_highest_mode\")\n",
    "print(second_highest_mode)\n"
   ]
  },
  {
   "cell_type": "code",
   "execution_count": 50,
   "id": "6ec495bc",
   "metadata": {},
   "outputs": [
    {
     "data": {
      "text/plain": [
       "1.0    121352\n",
       "3.0      7593\n",
       "2.0      4534\n",
       "Name: toilet_usage_status, dtype: int64"
      ]
     },
     "execution_count": 50,
     "metadata": {},
     "output_type": "execute_result"
    }
   ],
   "source": [
    "df['toilet_usage_status'] = df['toilet_usage_status'].replace({0.0:1.0})\n",
    "df['toilet_usage_status'].value_counts()"
   ]
  },
  {
   "cell_type": "code",
   "execution_count": 51,
   "id": "cbf01962",
   "metadata": {},
   "outputs": [
    {
     "data": {
      "text/plain": [
       "1.0    113472\n",
       "0.0     16770\n",
       "5.0      2331\n",
       "4.0      1578\n",
       "2.0       477\n",
       "3.0       440\n",
       "Name: primary_electricity, dtype: int64"
      ]
     },
     "execution_count": 51,
     "metadata": {},
     "output_type": "execute_result"
    }
   ],
   "source": [
    "df['primary_electricity'].value_counts()"
   ]
  },
  {
   "cell_type": "code",
   "execution_count": 52,
   "id": "c54a98ba",
   "metadata": {},
   "outputs": [
    {
     "name": "stdout",
     "output_type": "stream",
     "text": [
      "ModeResult(mode=array([1.]), count=array([113472]))\n"
     ]
    }
   ],
   "source": [
    "x = stats.mode(df['primary_electricity'])\n",
    "\n",
    "print(x) \n"
   ]
  },
  {
   "cell_type": "code",
   "execution_count": 53,
   "id": "45092614",
   "metadata": {},
   "outputs": [
    {
     "data": {
      "text/plain": [
       "1.0    130242\n",
       "5.0      2331\n",
       "4.0      1578\n",
       "2.0       477\n",
       "3.0       440\n",
       "Name: primary_electricity, dtype: int64"
      ]
     },
     "execution_count": 53,
     "metadata": {},
     "output_type": "execute_result"
    }
   ],
   "source": [
    "df['primary_electricity'] = df['primary_electricity'].replace({0.0:1.0})\n",
    "df['primary_electricity'].value_counts()"
   ]
  },
  {
   "cell_type": "code",
   "execution_count": 54,
   "id": "eb468a63",
   "metadata": {},
   "outputs": [
    {
     "data": {
      "text/plain": [
       "1                                          52506\n",
       "Brick and concrete house (Pakka)           36070\n",
       "Made of clay and slurry (Kachcha-Pakka)    27488\n",
       "0                                          16766\n",
       "Brick and concrete house (Teen Shed)         920\n",
       "8                                            531\n",
       "Brick and concrete house (Khaprail)          394\n",
       "7                                            255\n",
       "6                                            114\n",
       "1                                             19\n",
       "0                                              4\n",
       "7                                              1\n",
       "Name: primary_house_material, dtype: int64"
      ]
     },
     "execution_count": 54,
     "metadata": {},
     "output_type": "execute_result"
    }
   ],
   "source": [
    "df['primary_house_material'].value_counts()"
   ]
  },
  {
   "cell_type": "code",
   "execution_count": 55,
   "id": "c4605de7",
   "metadata": {},
   "outputs": [
    {
     "name": "stdout",
     "output_type": "stream",
     "text": [
      "ModeResult(mode=array(['1'], dtype=object), count=array([52506]))\n"
     ]
    }
   ],
   "source": [
    "x = stats.mode(df['primary_house_material'])\n",
    "\n",
    "print(x) \n"
   ]
  },
  {
   "cell_type": "code",
   "execution_count": 56,
   "id": "98994115",
   "metadata": {},
   "outputs": [],
   "source": [
    "df['primary_house_material'] = df['primary_house_material'].replace({0:1})\n",
    "df['primary_house_material'] = df['primary_house_material'].replace({'8':8})\n",
    "df['primary_house_material'] = df['primary_house_material'].replace({'6':6})\n",
    "df['primary_house_material'] = df['primary_house_material'].replace({'7':7})\n",
    "df['primary_house_material'] = df['primary_house_material'].replace({'1':1})\n",
    "\n",
    "\n",
    "df['primary_house_material'] = df['primary_house_material'].replace({'Brick and concrete house (Pakka)': 2})\n",
    "df['primary_house_material'] = df['primary_house_material'].replace({'Made of clay and slurry (Kachcha-Pakka)': 3})\n",
    "df['primary_house_material'] = df['primary_house_material'].replace({'Brick and concrete house (Teen Shed)': 4})\n",
    "df['primary_house_material'] = df['primary_house_material'].replace({'Brick and concrete house (Khaprail)': 5})\n",
    "\n",
    "\n",
    "\n",
    "\n",
    "\n",
    "\n"
   ]
  },
  {
   "cell_type": "code",
   "execution_count": 57,
   "id": "4844bce8",
   "metadata": {},
   "outputs": [
    {
     "data": {
      "text/plain": [
       "1    52529\n",
       "2    36070\n",
       "3    27488\n",
       "0    16766\n",
       "4      920\n",
       "8      531\n",
       "5      394\n",
       "7      256\n",
       "6      114\n",
       "Name: primary_house_material, dtype: int64"
      ]
     },
     "execution_count": 57,
     "metadata": {},
     "output_type": "execute_result"
    }
   ],
   "source": [
    "df['primary_house_material'].value_counts()"
   ]
  },
  {
   "cell_type": "code",
   "execution_count": 58,
   "id": "10cebb97",
   "metadata": {},
   "outputs": [
    {
     "data": {
      "text/plain": [
       "0    134469\n",
       "1      4574\n",
       "Name: diseases, dtype: int64"
      ]
     },
     "execution_count": 58,
     "metadata": {},
     "output_type": "execute_result"
    }
   ],
   "source": [
    "df['diseases'].value_counts()"
   ]
  },
  {
   "cell_type": "code",
   "execution_count": 59,
   "id": "0c27af56",
   "metadata": {},
   "outputs": [],
   "source": [
    "df['tobacco_consumption'] = df['tobacco_consumption'].fillna(df['tobacco_consumption'].mode()[0])\n",
    "df['alcohol_consumption'] = df['alcohol_consumption'].fillna(df['alcohol_consumption'].mode()[0])\n",
    "df['sdh_occupational_risk'] = df['sdh_occupational_risk'].fillna(df['sdh_occupational_risk'].mode()[0])\n",
    "\n",
    "\n",
    "df['education_status'] = df['education_status'].fillna(df['education_status'].mode()[0])\n",
    "df['occupation_status'] = df['occupation_status'].fillna(df['occupation_status'].mode()[0])\n",
    "\n",
    "df['primary_cooking_fuel'] = df['primary_cooking_fuel'].fillna(df['primary_cooking_fuel'].mode()[0])\n",
    "df['primary_drinking_water'] = df['primary_drinking_water'].fillna(df['primary_drinking_water'].mode()[0])\n",
    "\n",
    "df['primary_toilet'] = df['primary_toilet'].fillna(df['primary_toilet'].mode()[0])\n",
    "df['primary_transport'] = df['primary_transport'].fillna(df['primary_transport'].mode()[0])\n",
    "\n",
    "\n",
    "df['toilet_usage_status'] = df['toilet_usage_status'].fillna(df['toilet_usage_status'].mode()[0])\n",
    "df['primary_electricity'] = df['primary_electricity'].fillna(df['primary_electricity'].mode()[0])\n",
    "df['primary_house_material'] = df['primary_house_material'].fillna(df['primary_house_material'].mode()[0])\n"
   ]
  },
  {
   "cell_type": "code",
   "execution_count": 60,
   "id": "7c30fe10",
   "metadata": {},
   "outputs": [],
   "source": [
    "df['age'].fillna(int(df['age'].median()), inplace=True)\n"
   ]
  },
  {
   "cell_type": "code",
   "execution_count": 61,
   "id": "f9f66ada",
   "metadata": {},
   "outputs": [
    {
     "data": {
      "text/plain": [
       "tobacco_consumption       0\n",
       "alcohol_consumption       0\n",
       "sdh_occupational_risk     0\n",
       "gender                    0\n",
       "religion                  0\n",
       "caste                     0\n",
       "is_literate               0\n",
       "age                       0\n",
       "education_status          0\n",
       "occupation_status         0\n",
       "primary_cooking_fuel      0\n",
       "primary_drinking_water    0\n",
       "primary_toilet            0\n",
       "primary_transport         0\n",
       "toilet_usage_status       0\n",
       "primary_electricity       0\n",
       "primary_house_material    0\n",
       "diseases                  0\n",
       "dtype: int64"
      ]
     },
     "execution_count": 61,
     "metadata": {},
     "output_type": "execute_result"
    }
   ],
   "source": [
    "df.isnull().sum()"
   ]
  },
  {
   "cell_type": "code",
   "execution_count": 62,
   "id": "d65ad9b9",
   "metadata": {},
   "outputs": [
    {
     "name": "stdout",
     "output_type": "stream",
     "text": [
      "<class 'pandas.core.frame.DataFrame'>\n",
      "RangeIndex: 139043 entries, 0 to 139042\n",
      "Data columns (total 18 columns):\n",
      " #   Column                  Non-Null Count   Dtype  \n",
      "---  ------                  --------------   -----  \n",
      " 0   tobacco_consumption     139043 non-null  object \n",
      " 1   alcohol_consumption     139043 non-null  object \n",
      " 2   sdh_occupational_risk   139043 non-null  float64\n",
      " 3   gender                  139043 non-null  object \n",
      " 4   religion                139043 non-null  int64  \n",
      " 5   caste                   139043 non-null  int64  \n",
      " 6   is_literate             139043 non-null  object \n",
      " 7   age                     139043 non-null  float64\n",
      " 8   education_status        139043 non-null  float64\n",
      " 9   occupation_status       139043 non-null  float64\n",
      " 10  primary_cooking_fuel    139043 non-null  object \n",
      " 11  primary_drinking_water  139043 non-null  float64\n",
      " 12  primary_toilet          139043 non-null  float64\n",
      " 13  primary_transport       139043 non-null  object \n",
      " 14  toilet_usage_status     139043 non-null  float64\n",
      " 15  primary_electricity     139043 non-null  float64\n",
      " 16  primary_house_material  139043 non-null  object \n",
      " 17  diseases                139043 non-null  int64  \n",
      "dtypes: float64(8), int64(3), object(7)\n",
      "memory usage: 19.1+ MB\n"
     ]
    }
   ],
   "source": [
    "df.info()"
   ]
  },
  {
   "cell_type": "markdown",
   "id": "12a4f4df",
   "metadata": {},
   "source": [
    "# EDA"
   ]
  },
  {
   "cell_type": "markdown",
   "id": "77a8641e",
   "metadata": {},
   "source": [
    "#  Univariate - Analysis\n"
   ]
  },
  {
   "cell_type": "code",
   "execution_count": 63,
   "id": "d2ef174a",
   "metadata": {},
   "outputs": [
    {
     "name": "stderr",
     "output_type": "stream",
     "text": [
      "C:\\Users\\mounika\\anaconda3\\lib\\site-packages\\seaborn\\_decorators.py:36: FutureWarning: Pass the following variable as a keyword arg: x. From version 0.12, the only valid positional argument will be `data`, and passing other arguments without an explicit keyword will result in an error or misinterpretation.\n",
      "  warnings.warn(\n"
     ]
    },
    {
     "data": {
      "text/plain": [
       "<AxesSubplot:xlabel='tobacco_consumption', ylabel='count'>"
      ]
     },
     "execution_count": 63,
     "metadata": {},
     "output_type": "execute_result"
    },
    {
     "data": {
      "image/png": "[encoded data removed]",
      "text/plain": [
       "<Figure size 432x288 with 1 Axes>"
      ]
     },
     "metadata": {
      "needs_background": "light"
     },
     "output_type": "display_data"
    }
   ],
   "source": [
    "sns.countplot(df['tobacco_consumption'])\n"
   ]
  },
  {
   "cell_type": "markdown",
   "id": "420b5123",
   "metadata": {},
   "source": [
    "# The Count of people who NEVER consumes Tobacco is much higher"
   ]
  },
  {
   "cell_type": "code",
   "execution_count": 64,
   "id": "4ec09ffa",
   "metadata": {},
   "outputs": [
    {
     "name": "stderr",
     "output_type": "stream",
     "text": [
      "C:\\Users\\mounika\\anaconda3\\lib\\site-packages\\seaborn\\_decorators.py:36: FutureWarning: Pass the following variable as a keyword arg: x. From version 0.12, the only valid positional argument will be `data`, and passing other arguments without an explicit keyword will result in an error or misinterpretation.\n",
      "  warnings.warn(\n"
     ]
    },
    {
     "data": {
      "text/plain": [
       "<AxesSubplot:xlabel='alcohol_consumption', ylabel='count'>"
      ]
     },
     "execution_count": 64,
     "metadata": {},
     "output_type": "execute_result"
    },
    {
     "data": {
      "image/png": "[encoded data removed]",
      "text/plain": [
       "<Figure size 432x288 with 1 Axes>"
      ]
     },
     "metadata": {
      "needs_background": "light"
     },
     "output_type": "display_data"
    }
   ],
   "source": [
    "sns.countplot(df['alcohol_consumption'])\n"
   ]
  },
  {
   "cell_type": "markdown",
   "id": "13a1aafc",
   "metadata": {},
   "source": [
    "#  The people are more Non-alcoholic"
   ]
  },
  {
   "cell_type": "code",
   "execution_count": 65,
   "id": "d9bfe67a",
   "metadata": {},
   "outputs": [],
   "source": [
    "df['sdh_occupational_risk'] = df['sdh_occupational_risk'].astype(int)"
   ]
  },
  {
   "cell_type": "code",
   "execution_count": 66,
   "id": "52587718",
   "metadata": {},
   "outputs": [
    {
     "name": "stderr",
     "output_type": "stream",
     "text": [
      "C:\\Users\\mounika\\anaconda3\\lib\\site-packages\\seaborn\\_decorators.py:36: FutureWarning: Pass the following variable as a keyword arg: x. From version 0.12, the only valid positional argument will be `data`, and passing other arguments without an explicit keyword will result in an error or misinterpretation.\n",
      "  warnings.warn(\n"
     ]
    },
    {
     "data": {
      "text/plain": [
       "<AxesSubplot:xlabel='sdh_occupational_risk', ylabel='count'>"
      ]
     },
     "execution_count": 66,
     "metadata": {},
     "output_type": "execute_result"
    },
    {
     "data": {
      "image/png": "[encoded data removed]",
      "text/plain": [
       "<Figure size 432x288 with 1 Axes>"
      ]
     },
     "metadata": {
      "needs_background": "light"
     },
     "output_type": "display_data"
    }
   ],
   "source": [
    "sns.countplot(df['sdh_occupational_risk'])\n"
   ]
  },
  {
   "cell_type": "markdown",
   "id": "9f89acd6",
   "metadata": {},
   "source": [
    "#  Burning the residue of the crop\tis more than compared to other occupatinal risks\n"
   ]
  },
  {
   "cell_type": "code",
   "execution_count": 67,
   "id": "a1434a4b",
   "metadata": {},
   "outputs": [
    {
     "name": "stderr",
     "output_type": "stream",
     "text": [
      "C:\\Users\\mounika\\anaconda3\\lib\\site-packages\\seaborn\\_decorators.py:36: FutureWarning: Pass the following variable as a keyword arg: x. From version 0.12, the only valid positional argument will be `data`, and passing other arguments without an explicit keyword will result in an error or misinterpretation.\n",
      "  warnings.warn(\n"
     ]
    },
    {
     "data": {
      "text/plain": [
       "<AxesSubplot:xlabel='gender', ylabel='count'>"
      ]
     },
     "execution_count": 67,
     "metadata": {},
     "output_type": "execute_result"
    },
    {
     "data": {
      "image/png": "[encoded data removed]",
      "text/plain": [
       "<Figure size 432x288 with 1 Axes>"
      ]
     },
     "metadata": {
      "needs_background": "light"
     },
     "output_type": "display_data"
    }
   ],
   "source": [
    "sns.countplot(df['gender'])\n"
   ]
  },
  {
   "cell_type": "markdown",
   "id": "e6fd057c",
   "metadata": {},
   "source": [
    "#  Male count nd female count are same but Male count is little higher"
   ]
  },
  {
   "cell_type": "code",
   "execution_count": null,
   "id": "20a14d83",
   "metadata": {},
   "outputs": [],
   "source": []
  },
  {
   "cell_type": "code",
   "execution_count": 68,
   "id": "b79d0bcc",
   "metadata": {},
   "outputs": [
    {
     "name": "stderr",
     "output_type": "stream",
     "text": [
      "C:\\Users\\mounika\\anaconda3\\lib\\site-packages\\seaborn\\_decorators.py:36: FutureWarning: Pass the following variable as a keyword arg: x. From version 0.12, the only valid positional argument will be `data`, and passing other arguments without an explicit keyword will result in an error or misinterpretation.\n",
      "  warnings.warn(\n"
     ]
    },
    {
     "data": {
      "text/plain": [
       "<AxesSubplot:xlabel='religion', ylabel='count'>"
      ]
     },
     "execution_count": 68,
     "metadata": {},
     "output_type": "execute_result"
    },
    {
     "data": {
      "image/png": "[encoded data removed]",
      "text/plain": [
       "<Figure size 432x288 with 1 Axes>"
      ]
     },
     "metadata": {
      "needs_background": "light"
     },
     "output_type": "display_data"
    }
   ],
   "source": [
    "sns.countplot(df['religion'])\n"
   ]
  },
  {
   "cell_type": "markdown",
   "id": "d4042702",
   "metadata": {},
   "source": [
    "# Hindu religion is more "
   ]
  },
  {
   "cell_type": "code",
   "execution_count": 69,
   "id": "9a2b0d12",
   "metadata": {},
   "outputs": [
    {
     "name": "stderr",
     "output_type": "stream",
     "text": [
      "C:\\Users\\mounika\\anaconda3\\lib\\site-packages\\seaborn\\_decorators.py:36: FutureWarning: Pass the following variable as a keyword arg: x. From version 0.12, the only valid positional argument will be `data`, and passing other arguments without an explicit keyword will result in an error or misinterpretation.\n",
      "  warnings.warn(\n"
     ]
    },
    {
     "data": {
      "text/plain": [
       "<AxesSubplot:xlabel='caste', ylabel='count'>"
      ]
     },
     "execution_count": 69,
     "metadata": {},
     "output_type": "execute_result"
    },
    {
     "data": {
      "image/png": "[encoded data removed]",
      "text/plain": [
       "<Figure size 432x288 with 1 Axes>"
      ]
     },
     "metadata": {
      "needs_background": "light"
     },
     "output_type": "display_data"
    }
   ],
   "source": [
    "sns.countplot(df['caste'])\n"
   ]
  },
  {
   "cell_type": "markdown",
   "id": "f2ecfef4",
   "metadata": {},
   "source": [
    "# ST people are more than compared to other caste communities"
   ]
  },
  {
   "cell_type": "code",
   "execution_count": 70,
   "id": "b3bad69e",
   "metadata": {},
   "outputs": [
    {
     "name": "stderr",
     "output_type": "stream",
     "text": [
      "C:\\Users\\mounika\\anaconda3\\lib\\site-packages\\seaborn\\_decorators.py:36: FutureWarning: Pass the following variable as a keyword arg: x. From version 0.12, the only valid positional argument will be `data`, and passing other arguments without an explicit keyword will result in an error or misinterpretation.\n",
      "  warnings.warn(\n"
     ]
    },
    {
     "data": {
      "text/plain": [
       "<AxesSubplot:xlabel='is_literate', ylabel='count'>"
      ]
     },
     "execution_count": 70,
     "metadata": {},
     "output_type": "execute_result"
    },
    {
     "data": {
      "image/png": "[encoded data removed]",
      "text/plain": [
       "<Figure size 432x288 with 1 Axes>"
      ]
     },
     "metadata": {
      "needs_background": "light"
     },
     "output_type": "display_data"
    }
   ],
   "source": [
    "sns.countplot(df['is_literate'])\n"
   ]
  },
  {
   "cell_type": "markdown",
   "id": "47e465a7",
   "metadata": {},
   "source": [
    "#  People with illerates are more than literates"
   ]
  },
  {
   "cell_type": "code",
   "execution_count": 71,
   "id": "63705dbd",
   "metadata": {},
   "outputs": [],
   "source": [
    "df['education_status'] = df['education_status'].astype(int)"
   ]
  },
  {
   "cell_type": "code",
   "execution_count": 72,
   "id": "8737b55e",
   "metadata": {},
   "outputs": [
    {
     "name": "stderr",
     "output_type": "stream",
     "text": [
      "C:\\Users\\mounika\\anaconda3\\lib\\site-packages\\seaborn\\_decorators.py:36: FutureWarning: Pass the following variable as a keyword arg: x. From version 0.12, the only valid positional argument will be `data`, and passing other arguments without an explicit keyword will result in an error or misinterpretation.\n",
      "  warnings.warn(\n"
     ]
    },
    {
     "data": {
      "text/plain": [
       "<AxesSubplot:xlabel='education_status', ylabel='count'>"
      ]
     },
     "execution_count": 72,
     "metadata": {},
     "output_type": "execute_result"
    },
    {
     "data": {
      "image/png": "[encoded data removed]",
      "text/plain": [
       "<Figure size 432x288 with 1 Axes>"
      ]
     },
     "metadata": {
      "needs_background": "light"
     },
     "output_type": "display_data"
    }
   ],
   "source": [
    "sns.countplot(df['education_status'])\n"
   ]
  },
  {
   "cell_type": "markdown",
   "id": "a42b4435",
   "metadata": {},
   "source": [
    "#  People with Primary (1–5th) Education are more \n"
   ]
  },
  {
   "cell_type": "code",
   "execution_count": 73,
   "id": "3f74aad7",
   "metadata": {},
   "outputs": [],
   "source": [
    "df['occupation_status'] = df['occupation_status'].astype(int)"
   ]
  },
  {
   "cell_type": "code",
   "execution_count": 74,
   "id": "9fe9b201",
   "metadata": {},
   "outputs": [
    {
     "name": "stderr",
     "output_type": "stream",
     "text": [
      "C:\\Users\\mounika\\anaconda3\\lib\\site-packages\\seaborn\\_decorators.py:36: FutureWarning: Pass the following variable as a keyword arg: x. From version 0.12, the only valid positional argument will be `data`, and passing other arguments without an explicit keyword will result in an error or misinterpretation.\n",
      "  warnings.warn(\n"
     ]
    },
    {
     "data": {
      "text/plain": [
       "<AxesSubplot:xlabel='occupation_status', ylabel='count'>"
      ]
     },
     "execution_count": 74,
     "metadata": {},
     "output_type": "execute_result"
    },
    {
     "data": {
      "image/png": "[encoded data removed]",
      "text/plain": [
       "<Figure size 432x288 with 1 Axes>"
      ]
     },
     "metadata": {
      "needs_background": "light"
     },
     "output_type": "display_data"
    }
   ],
   "source": [
    "sns.countplot(df['occupation_status'])\n"
   ]
  },
  {
   "cell_type": "markdown",
   "id": "3277cae3",
   "metadata": {},
   "source": [
    "# peopls with Labour as an Occupation status are more "
   ]
  },
  {
   "cell_type": "code",
   "execution_count": 75,
   "id": "b18c9858",
   "metadata": {},
   "outputs": [],
   "source": [
    "df['primary_cooking_fuel'] = df['primary_cooking_fuel'].astype(int)"
   ]
  },
  {
   "cell_type": "code",
   "execution_count": 76,
   "id": "78e12f65",
   "metadata": {},
   "outputs": [
    {
     "name": "stderr",
     "output_type": "stream",
     "text": [
      "C:\\Users\\mounika\\anaconda3\\lib\\site-packages\\seaborn\\_decorators.py:36: FutureWarning: Pass the following variable as a keyword arg: x. From version 0.12, the only valid positional argument will be `data`, and passing other arguments without an explicit keyword will result in an error or misinterpretation.\n",
      "  warnings.warn(\n"
     ]
    },
    {
     "data": {
      "text/plain": [
       "<AxesSubplot:xlabel='primary_cooking_fuel', ylabel='count'>"
      ]
     },
     "execution_count": 76,
     "metadata": {},
     "output_type": "execute_result"
    },
    {
     "data": {
      "image/png": "[encoded data removed]",
      "text/plain": [
       "<Figure size 432x288 with 1 Axes>"
      ]
     },
     "metadata": {
      "needs_background": "light"
     },
     "output_type": "display_data"
    }
   ],
   "source": [
    "sns.countplot(df['primary_cooking_fuel'])\n"
   ]
  },
  {
   "cell_type": "markdown",
   "id": "50ad2610",
   "metadata": {},
   "source": [
    "# people are more in usage of Burning wood forwarded by  LPG\t\n",
    "\n"
   ]
  },
  {
   "cell_type": "code",
   "execution_count": 77,
   "id": "f0be2e79",
   "metadata": {},
   "outputs": [],
   "source": [
    "df['primary_drinking_water'] = df['primary_drinking_water'].astype(int)"
   ]
  },
  {
   "cell_type": "code",
   "execution_count": 78,
   "id": "89aaeaea",
   "metadata": {},
   "outputs": [
    {
     "name": "stderr",
     "output_type": "stream",
     "text": [
      "C:\\Users\\mounika\\anaconda3\\lib\\site-packages\\seaborn\\_decorators.py:36: FutureWarning: Pass the following variable as a keyword arg: x. From version 0.12, the only valid positional argument will be `data`, and passing other arguments without an explicit keyword will result in an error or misinterpretation.\n",
      "  warnings.warn(\n"
     ]
    },
    {
     "data": {
      "text/plain": [
       "<AxesSubplot:xlabel='primary_drinking_water', ylabel='count'>"
      ]
     },
     "execution_count": 78,
     "metadata": {},
     "output_type": "execute_result"
    },
    {
     "data": {
      "image/png": "[encoded data removed]",
      "text/plain": [
       "<Figure size 432x288 with 1 Axes>"
      ]
     },
     "metadata": {
      "needs_background": "light"
     },
     "output_type": "display_data"
    }
   ],
   "source": [
    "sns.countplot(df['primary_drinking_water'])\n"
   ]
  },
  {
   "cell_type": "markdown",
   "id": "d68f7a5d",
   "metadata": {},
   "source": [
    "# Handpump/Tube well outside house as a primary_drinking_water are more consumed \n",
    " "
   ]
  },
  {
   "cell_type": "code",
   "execution_count": 79,
   "id": "cddf72cd",
   "metadata": {},
   "outputs": [],
   "source": [
    "df['primary_toilet'] = df['primary_toilet'].astype(int)"
   ]
  },
  {
   "cell_type": "code",
   "execution_count": 80,
   "id": "36144ab7",
   "metadata": {},
   "outputs": [
    {
     "name": "stderr",
     "output_type": "stream",
     "text": [
      "C:\\Users\\mounika\\anaconda3\\lib\\site-packages\\seaborn\\_decorators.py:36: FutureWarning: Pass the following variable as a keyword arg: x. From version 0.12, the only valid positional argument will be `data`, and passing other arguments without an explicit keyword will result in an error or misinterpretation.\n",
      "  warnings.warn(\n"
     ]
    },
    {
     "data": {
      "text/plain": [
       "<AxesSubplot:xlabel='primary_toilet', ylabel='count'>"
      ]
     },
     "execution_count": 80,
     "metadata": {},
     "output_type": "execute_result"
    },
    {
     "data": {
      "image/png": "[encoded data removed]",
      "text/plain": [
       "<Figure size 432x288 with 1 Axes>"
      ]
     },
     "metadata": {
      "needs_background": "light"
     },
     "output_type": "display_data"
    }
   ],
   "source": [
    "sns.countplot(df['primary_toilet'])\n"
   ]
  },
  {
   "cell_type": "markdown",
   "id": "bd312542",
   "metadata": {},
   "source": [
    "# No toilet\t is more \n",
    " "
   ]
  },
  {
   "cell_type": "code",
   "execution_count": 81,
   "id": "d3c2d2c9",
   "metadata": {},
   "outputs": [
    {
     "name": "stderr",
     "output_type": "stream",
     "text": [
      "C:\\Users\\mounika\\anaconda3\\lib\\site-packages\\seaborn\\_decorators.py:36: FutureWarning: Pass the following variable as a keyword arg: x. From version 0.12, the only valid positional argument will be `data`, and passing other arguments without an explicit keyword will result in an error or misinterpretation.\n",
      "  warnings.warn(\n"
     ]
    },
    {
     "data": {
      "text/plain": [
       "<AxesSubplot:xlabel='primary_transport', ylabel='count'>"
      ]
     },
     "execution_count": 81,
     "metadata": {},
     "output_type": "execute_result"
    },
    {
     "data": {
      "image/png": "[encoded data removed]",
      "text/plain": [
       "<Figure size 432x288 with 1 Axes>"
      ]
     },
     "metadata": {
      "needs_background": "light"
     },
     "output_type": "display_data"
    }
   ],
   "source": [
    "sns.countplot(df['primary_transport'])\n"
   ]
  },
  {
   "cell_type": "markdown",
   "id": "9cb9f816",
   "metadata": {},
   "source": [
    "# Motorcycle (Two wheeler)\tusage is more then No vechile \n"
   ]
  },
  {
   "cell_type": "code",
   "execution_count": 82,
   "id": "6fb8c987",
   "metadata": {},
   "outputs": [],
   "source": [
    "df['toilet_usage_status'] = df['toilet_usage_status'].astype(int)"
   ]
  },
  {
   "cell_type": "code",
   "execution_count": 83,
   "id": "6cd26328",
   "metadata": {},
   "outputs": [
    {
     "name": "stderr",
     "output_type": "stream",
     "text": [
      "C:\\Users\\mounika\\anaconda3\\lib\\site-packages\\seaborn\\_decorators.py:36: FutureWarning: Pass the following variable as a keyword arg: x. From version 0.12, the only valid positional argument will be `data`, and passing other arguments without an explicit keyword will result in an error or misinterpretation.\n",
      "  warnings.warn(\n"
     ]
    },
    {
     "data": {
      "text/plain": [
       "<AxesSubplot:xlabel='toilet_usage_status', ylabel='count'>"
      ]
     },
     "execution_count": 83,
     "metadata": {},
     "output_type": "execute_result"
    },
    {
     "data": {
      "image/png": "[encoded data removed]",
      "text/plain": [
       "<Figure size 432x288 with 1 Axes>"
      ]
     },
     "metadata": {
      "needs_background": "light"
     },
     "output_type": "display_data"
    }
   ],
   "source": [
    "sns.countplot(df['toilet_usage_status'])\n"
   ]
  },
  {
   "cell_type": "markdown",
   "id": "4e2e114c",
   "metadata": {},
   "source": [
    "# Count of Everyone using the Toilet is more\n"
   ]
  },
  {
   "cell_type": "code",
   "execution_count": 84,
   "id": "28f825ca",
   "metadata": {},
   "outputs": [],
   "source": [
    "df['primary_electricity'] = df['primary_electricity'].astype(int)"
   ]
  },
  {
   "cell_type": "code",
   "execution_count": 85,
   "id": "caf1fbdf",
   "metadata": {},
   "outputs": [
    {
     "name": "stderr",
     "output_type": "stream",
     "text": [
      "C:\\Users\\mounika\\anaconda3\\lib\\site-packages\\seaborn\\_decorators.py:36: FutureWarning: Pass the following variable as a keyword arg: x. From version 0.12, the only valid positional argument will be `data`, and passing other arguments without an explicit keyword will result in an error or misinterpretation.\n",
      "  warnings.warn(\n"
     ]
    },
    {
     "data": {
      "text/plain": [
       "<AxesSubplot:xlabel='primary_electricity', ylabel='count'>"
      ]
     },
     "execution_count": 85,
     "metadata": {},
     "output_type": "execute_result"
    },
    {
     "data": {
      "image/png": "[encoded data removed]",
      "text/plain": [
       "<Figure size 432x288 with 1 Axes>"
      ]
     },
     "metadata": {
      "needs_background": "light"
     },
     "output_type": "display_data"
    }
   ],
   "source": [
    "sns.countplot(df['primary_electricity'])\n"
   ]
  },
  {
   "cell_type": "markdown",
   "id": "96bc2558",
   "metadata": {},
   "source": [
    "# Line electricity is used as a primary_electricity \n"
   ]
  },
  {
   "cell_type": "code",
   "execution_count": 86,
   "id": "0d744bda",
   "metadata": {},
   "outputs": [
    {
     "name": "stderr",
     "output_type": "stream",
     "text": [
      "C:\\Users\\mounika\\anaconda3\\lib\\site-packages\\seaborn\\_decorators.py:36: FutureWarning: Pass the following variable as a keyword arg: x. From version 0.12, the only valid positional argument will be `data`, and passing other arguments without an explicit keyword will result in an error or misinterpretation.\n",
      "  warnings.warn(\n"
     ]
    },
    {
     "data": {
      "text/plain": [
       "<AxesSubplot:xlabel='primary_house_material', ylabel='count'>"
      ]
     },
     "execution_count": 86,
     "metadata": {},
     "output_type": "execute_result"
    },
    {
     "data": {
      "image/png": "[encoded data removed]",
      "text/plain": [
       "<Figure size 432x288 with 1 Axes>"
      ]
     },
     "metadata": {
      "needs_background": "light"
     },
     "output_type": "display_data"
    }
   ],
   "source": [
    "sns.countplot(df['primary_house_material'])\n"
   ]
  },
  {
   "cell_type": "markdown",
   "id": "607e7c05",
   "metadata": {},
   "source": [
    "# Clay house is used more as primary_house_material then Made of clay and slurry (Kachcha-Pakka)\t\n",
    "\n",
    " "
   ]
  },
  {
   "cell_type": "code",
   "execution_count": 87,
   "id": "f1043fc1",
   "metadata": {},
   "outputs": [
    {
     "name": "stderr",
     "output_type": "stream",
     "text": [
      "C:\\Users\\mounika\\anaconda3\\lib\\site-packages\\seaborn\\_decorators.py:36: FutureWarning: Pass the following variable as a keyword arg: x. From version 0.12, the only valid positional argument will be `data`, and passing other arguments without an explicit keyword will result in an error or misinterpretation.\n",
      "  warnings.warn(\n"
     ]
    },
    {
     "data": {
      "text/plain": [
       "<AxesSubplot:xlabel='diseases', ylabel='count'>"
      ]
     },
     "execution_count": 87,
     "metadata": {},
     "output_type": "execute_result"
    },
    {
     "data": {
      "image/png": "[encoded data removed]",
      "text/plain": [
       "<Figure size 432x288 with 1 Axes>"
      ]
     },
     "metadata": {
      "needs_background": "light"
     },
     "output_type": "display_data"
    }
   ],
   "source": [
    "sns.countplot(df['diseases'])\n"
   ]
  },
  {
   "cell_type": "markdown",
   "id": "ac81ad84",
   "metadata": {},
   "source": [
    "#  No disease count are more than disease count"
   ]
  },
  {
   "cell_type": "markdown",
   "id": "67129a89",
   "metadata": {},
   "source": [
    "# Bivariate-Analysis"
   ]
  },
  {
   "cell_type": "code",
   "execution_count": 88,
   "id": "cc8c5163",
   "metadata": {},
   "outputs": [
    {
     "name": "stderr",
     "output_type": "stream",
     "text": [
      "C:\\Users\\mounika\\anaconda3\\lib\\site-packages\\seaborn\\distributions.py:2619: FutureWarning: `distplot` is a deprecated function and will be removed in a future version. Please adapt your code to use either `displot` (a figure-level function with similar flexibility) or `histplot` (an axes-level function for histograms).\n",
      "  warnings.warn(msg, FutureWarning)\n"
     ]
    },
    {
     "data": {
      "text/plain": [
       "Text(0.5, 1.0, 'Distribution of age')"
      ]
     },
     "execution_count": 88,
     "metadata": {},
     "output_type": "execute_result"
    },
    {
     "data": {
      "image/png": "[encoded data removed]",
      "text/plain": [
       "<Figure size 864x576 with 1 Axes>"
      ]
     },
     "metadata": {},
     "output_type": "display_data"
    }
   ],
   "source": [
    "import seaborn as sns\n",
    "sns.set(style='whitegrid')\n",
    "f, ax = plt.subplots(1,1, figsize=(12, 8))\n",
    "ax = sns.distplot(df['age'], kde = True, color = 'c')\n",
    "plt.title('Distribution of age')"
   ]
  },
  {
   "cell_type": "markdown",
   "id": "e156a853",
   "metadata": {},
   "source": [
    "#  age is following Normal Distribution but little Right skewed"
   ]
  },
  {
   "cell_type": "code",
   "execution_count": 89,
   "id": "0d87d759",
   "metadata": {},
   "outputs": [
    {
     "data": {
      "image/png": "[encoded data removed]",
      "text/plain": [
       "<Figure size 432x288 with 1 Axes>"
      ]
     },
     "metadata": {},
     "output_type": "display_data"
    }
   ],
   "source": [
    "SC=sns.barplot(data=df,x='tobacco_consumption',y='diseases')\n",
    "SC.set(title='diseases by tobacco_consumption')\n",
    "plt.show()"
   ]
  },
  {
   "cell_type": "markdown",
   "id": "2746077f",
   "metadata": {},
   "source": [
    "# More Daily consumption of tobacco causes Diseases."
   ]
  },
  {
   "cell_type": "code",
   "execution_count": 90,
   "id": "9c6e15ec",
   "metadata": {},
   "outputs": [
    {
     "data": {
      "image/png": "[encoded data removed]",
      "text/plain": [
       "<Figure size 432x288 with 1 Axes>"
      ]
     },
     "metadata": {},
     "output_type": "display_data"
    }
   ],
   "source": [
    "SC=sns.barplot(data=df,x='alcohol_consumption',y='diseases')\n",
    "SC.set(title='diseases by alcohol_consumption')\n",
    "plt.show()\n"
   ]
  },
  {
   "cell_type": "markdown",
   "id": "510efc5d",
   "metadata": {},
   "source": [
    "#  Diseases are high when Alcohol consumption is high"
   ]
  },
  {
   "cell_type": "code",
   "execution_count": 91,
   "id": "72f156fa",
   "metadata": {},
   "outputs": [
    {
     "data": {
      "image/png": "[encoded data removed]",
      "text/plain": [
       "<Figure size 432x288 with 1 Axes>"
      ]
     },
     "metadata": {},
     "output_type": "display_data"
    }
   ],
   "source": [
    "SC=sns.barplot(data=df,x='sdh_occupational_risk',y='diseases')\n",
    "SC.set(title='diseases by sdh_occupational_risk')\n",
    "plt.show()"
   ]
  },
  {
   "cell_type": "markdown",
   "id": "cda9af39",
   "metadata": {},
   "source": [
    "# working under brick kiln and glass industry are more prone to diseases.\n"
   ]
  },
  {
   "cell_type": "code",
   "execution_count": 92,
   "id": "f7a8ef4f",
   "metadata": {},
   "outputs": [
    {
     "data": {
      "image/png": "[encoded data removed]",
      "text/plain": [
       "<Figure size 432x288 with 1 Axes>"
      ]
     },
     "metadata": {},
     "output_type": "display_data"
    }
   ],
   "source": [
    "SC=sns.barplot(data=df,x='gender',y='diseases')\n",
    "SC.set(title='diseases by gender')\n",
    "plt.show()"
   ]
  },
  {
   "cell_type": "markdown",
   "id": "ce055804",
   "metadata": {},
   "source": [
    "# Females are having more diseases than Men"
   ]
  },
  {
   "cell_type": "code",
   "execution_count": 93,
   "id": "c6202c4f",
   "metadata": {},
   "outputs": [
    {
     "data": {
      "image/png": "[encoded data removed]",
      "text/plain": [
       "<Figure size 432x288 with 1 Axes>"
      ]
     },
     "metadata": {},
     "output_type": "display_data"
    }
   ],
   "source": [
    "SC=sns.barplot(data=df,x='religion',y='diseases')\n",
    "SC.set(title='diseases by religion')\n",
    "plt.show()"
   ]
  },
  {
   "cell_type": "markdown",
   "id": "5cf50c3b",
   "metadata": {},
   "source": [
    "# Jain religion are more prone to diseases forwarded by Muslim religion\n"
   ]
  },
  {
   "cell_type": "code",
   "execution_count": 94,
   "id": "b8507446",
   "metadata": {},
   "outputs": [
    {
     "data": {
      "image/png": "[encoded data removed]",
      "text/plain": [
       "<Figure size 432x288 with 1 Axes>"
      ]
     },
     "metadata": {},
     "output_type": "display_data"
    }
   ],
   "source": [
    "SC=sns.barplot(data=df,x='caste',y='diseases')\n",
    "SC.set(title='diseases by caste')\n",
    "plt.show()"
   ]
  },
  {
   "cell_type": "markdown",
   "id": "88f5c5d1",
   "metadata": {},
   "source": [
    "# Other Caste communities are more in having diseases then General category\n"
   ]
  },
  {
   "cell_type": "code",
   "execution_count": 95,
   "id": "aa759716",
   "metadata": {},
   "outputs": [
    {
     "data": {
      "image/png": "[encoded data removed]",
      "text/plain": [
       "<Figure size 432x288 with 1 Axes>"
      ]
     },
     "metadata": {},
     "output_type": "display_data"
    }
   ],
   "source": [
    "SC=sns.barplot(data=df,x='is_literate',y='diseases')\n",
    "SC.set(title='diseases by is_literate')\n",
    "plt.show()"
   ]
  },
  {
   "cell_type": "markdown",
   "id": "12a83a5f",
   "metadata": {},
   "source": [
    "# literates are more in having diseases than illiterate "
   ]
  },
  {
   "cell_type": "code",
   "execution_count": 96,
   "id": "07ee9f22",
   "metadata": {},
   "outputs": [
    {
     "data": {
      "image/png": "[encoded data removed]",
      "text/plain": [
       "<Figure size 432x288 with 1 Axes>"
      ]
     },
     "metadata": {},
     "output_type": "display_data"
    }
   ],
   "source": [
    "SC=sns.barplot(data=df,x='education_status',y='diseases')\n",
    "SC.set(title='diseases by education_status')\n",
    "plt.show()"
   ]
  },
  {
   "cell_type": "markdown",
   "id": "7ec7cc3e",
   "metadata": {},
   "source": [
    "# No formal education status are more in having diseases.\n"
   ]
  },
  {
   "cell_type": "code",
   "execution_count": 97,
   "id": "57aa6e00",
   "metadata": {},
   "outputs": [
    {
     "data": {
      "image/png": "[encoded data removed]",
      "text/plain": [
       "<Figure size 432x288 with 1 Axes>"
      ]
     },
     "metadata": {},
     "output_type": "display_data"
    }
   ],
   "source": [
    "SC=sns.barplot(data=df,x='occupation_status',y='diseases')\n",
    "SC.set(title='diseases by occupation_status')\n",
    "plt.show()"
   ]
  },
  {
   "cell_type": "markdown",
   "id": "2c2ca2db",
   "metadata": {},
   "source": [
    "# Retired peoples are more in having diseases.\n",
    " "
   ]
  },
  {
   "cell_type": "code",
   "execution_count": 98,
   "id": "f3b1a3f9",
   "metadata": {},
   "outputs": [
    {
     "data": {
      "image/png": "[encoded data removed]",
      "text/plain": [
       "<Figure size 432x288 with 1 Axes>"
      ]
     },
     "metadata": {},
     "output_type": "display_data"
    }
   ],
   "source": [
    "SC=sns.barplot(data=df,x='primary_cooking_fuel',y='diseases')\n",
    "SC.set(title='diseases by primary_cooking_fuel')\n",
    "plt.show()"
   ]
  },
  {
   "cell_type": "markdown",
   "id": "d8ccdc10",
   "metadata": {},
   "source": [
    "# Cow dung cakes are more responsible for diseases then LPG\t\n",
    "\n"
   ]
  },
  {
   "cell_type": "code",
   "execution_count": 99,
   "id": "1c8b278a",
   "metadata": {},
   "outputs": [
    {
     "data": {
      "image/png": "[encoded data removed]",
      "text/plain": [
       "<Figure size 432x288 with 1 Axes>"
      ]
     },
     "metadata": {},
     "output_type": "display_data"
    }
   ],
   "source": [
    "SC=sns.barplot(data=df,x='primary_drinking_water',y='diseases')\n",
    "SC.set(title='diseases by primary_drinking_water')\n",
    "plt.show()"
   ]
  },
  {
   "cell_type": "markdown",
   "id": "7bb96d27",
   "metadata": {},
   "source": [
    "# R.O water personal as a drinking source is responsible for having the diseases.\n"
   ]
  },
  {
   "cell_type": "code",
   "execution_count": 100,
   "id": "8fe4afc4",
   "metadata": {},
   "outputs": [
    {
     "data": {
      "image/png": "[encoded data removed]",
      "text/plain": [
       "<Figure size 432x288 with 1 Axes>"
      ]
     },
     "metadata": {},
     "output_type": "display_data"
    }
   ],
   "source": [
    "SC=sns.barplot(data=df,x='primary_toilet',y='diseases')\n",
    "SC.set(title='diseases by primary_toilet')\n",
    "plt.show()"
   ]
  },
  {
   "cell_type": "markdown",
   "id": "81f0844d",
   "metadata": {},
   "source": [
    "# Toilet with drier pits with running water\tare having more diseases.\n"
   ]
  },
  {
   "cell_type": "code",
   "execution_count": 101,
   "id": "8e2313f6",
   "metadata": {},
   "outputs": [
    {
     "data": {
      "image/png": "[encoded data removed]",
      "text/plain": [
       "<Figure size 432x288 with 1 Axes>"
      ]
     },
     "metadata": {},
     "output_type": "display_data"
    }
   ],
   "source": [
    "SC=sns.barplot(data=df,x='primary_transport',y='diseases')\n",
    "SC.set(title='diseases by primary_transport')\n",
    "plt.show()"
   ]
  },
  {
   "cell_type": "markdown",
   "id": "12dded2d",
   "metadata": {},
   "source": [
    "# Public transport are more in having diseases.\n",
    " "
   ]
  },
  {
   "cell_type": "code",
   "execution_count": 102,
   "id": "5766d923",
   "metadata": {},
   "outputs": [
    {
     "data": {
      "image/png": "[encoded data removed]",
      "text/plain": [
       "<Figure size 432x288 with 1 Axes>"
      ]
     },
     "metadata": {},
     "output_type": "display_data"
    }
   ],
   "source": [
    "SC=sns.barplot(data=df,x='toilet_usage_status',y='diseases')\n",
    "SC.set(title='diseases by toilet_usage_status')\n",
    "plt.show()"
   ]
  },
  {
   "cell_type": "markdown",
   "id": "8381496e",
   "metadata": {},
   "source": [
    "# usage of Toilet by  Everyone  is responsible for having diseases.\n"
   ]
  },
  {
   "cell_type": "code",
   "execution_count": 103,
   "id": "55f3f507",
   "metadata": {},
   "outputs": [
    {
     "data": {
      "image/png": "[encoded data removed]",
      "text/plain": [
       "<Figure size 432x288 with 1 Axes>"
      ]
     },
     "metadata": {},
     "output_type": "display_data"
    }
   ],
   "source": [
    "SC=sns.barplot(data=df,x='primary_electricity',y='diseases')\n",
    "SC.set(title='diseases by primary_electricity')\n",
    "plt.show()"
   ]
  },
  {
   "cell_type": "markdown",
   "id": "04432f80",
   "metadata": {},
   "source": [
    "#  Generator as a primary_electricity are more in having diseases.\n"
   ]
  },
  {
   "cell_type": "code",
   "execution_count": 104,
   "id": "804fc3fd",
   "metadata": {},
   "outputs": [
    {
     "data": {
      "image/png": "[encoded data removed]",
      "text/plain": [
       "<Figure size 432x288 with 1 Axes>"
      ]
     },
     "metadata": {},
     "output_type": "display_data"
    }
   ],
   "source": [
    "SC=sns.barplot(data=df,x='primary_house_material',y='diseases')\n",
    "SC.set(title='diseases by primary_house_material')\n",
    "plt.show()"
   ]
  },
  {
   "cell_type": "markdown",
   "id": "5d1c1826",
   "metadata": {},
   "source": [
    "# Other\tresources used as a primary house material are more prone to diseases then houses Made of clay and slurry (Kachcha-Pakka).\n"
   ]
  },
  {
   "cell_type": "code",
   "execution_count": null,
   "id": "99fbb81c",
   "metadata": {},
   "outputs": [],
   "source": []
  },
  {
   "cell_type": "code",
   "execution_count": 105,
   "id": "af82db48",
   "metadata": {},
   "outputs": [
    {
     "data": {
      "text/plain": [
       "Text(0.5, 1.0, 'diseases  by age')"
      ]
     },
     "execution_count": 105,
     "metadata": {},
     "output_type": "execute_result"
    },
    {
     "data": {
      "image/png": "[encoded data removed]",
      "text/plain": [
       "<Figure size 432x288 with 1 Axes>"
      ]
     },
     "metadata": {},
     "output_type": "display_data"
    }
   ],
   "source": [
    "#Churn by MonthlyCharges and TotalCharges\n",
    "Month = sns.kdeplot(df.age[(df[\"diseases\"] == 0) ],color=\"Red\", shade = True)\n",
    "Month = sns.kdeplot(df.age[(df[\"diseases\"] == 1) ],ax =Month, color=\"Green\", shade= True)\n",
    "Month.legend([\"No diseases\",\"diseases\"],loc='upper right')\n",
    "Month.set_ylabel('Density')\n",
    "Month.set_xlabel('age')\n",
    "Month.set_title('diseases  by age')"
   ]
  },
  {
   "cell_type": "markdown",
   "id": "6c696f19",
   "metadata": {},
   "source": [
    "# High chance of causing diseases in the age limit 60-80 than Adults."
   ]
  },
  {
   "cell_type": "code",
   "execution_count": 106,
   "id": "633e32d0",
   "metadata": {},
   "outputs": [
    {
     "data": {
      "text/plain": [
       "<AxesSubplot:>"
      ]
     },
     "execution_count": 106,
     "metadata": {},
     "output_type": "execute_result"
    },
    {
     "data": {
      "image/png": "[encoded data removed]",
      "text/plain": [
       "<Figure size 864x864 with 2 Axes>"
      ]
     },
     "metadata": {},
     "output_type": "display_data"
    }
   ],
   "source": [
    "#Build a correlation of all predictors with 'Churn'\n",
    "cor=df.corr()\n",
    "plt.figure(figsize=(12,12))\n",
    "sns.heatmap(cor,annot=True)"
   ]
  },
  {
   "cell_type": "markdown",
   "id": "26dde677",
   "metadata": {},
   "source": [
    "# There is no mutlicolinearity presents in the data"
   ]
  },
  {
   "cell_type": "code",
   "execution_count": 107,
   "id": "f87ababd",
   "metadata": {},
   "outputs": [],
   "source": [
    "from sklearn.preprocessing import LabelEncoder\n",
    "le = LabelEncoder()\n",
    "\n",
    "# Fit the LabelEncoder object to the 'color' column and transform the values\n",
    "df['tobacco_consumption'] = le.fit_transform(df['tobacco_consumption'])\n",
    "df['alcohol_consumption'] = le.fit_transform(df['alcohol_consumption'])\n",
    "df['gender'] = le.fit_transform(df['gender'])\n",
    "df['toilet_usage_status'] = df['toilet_usage_status'].astype(int)\n",
    "df['is_literate'] = le.fit_transform(df['is_literate'])"
   ]
  },
  {
   "cell_type": "code",
   "execution_count": 108,
   "id": "4dce0643",
   "metadata": {},
   "outputs": [
    {
     "data": {
      "text/plain": [
       "2    127226\n",
       "1      7205\n",
       "0      4612\n",
       "Name: tobacco_consumption, dtype: int64"
      ]
     },
     "execution_count": 108,
     "metadata": {},
     "output_type": "execute_result"
    }
   ],
   "source": [
    "df['tobacco_consumption'].value_counts()"
   ]
  },
  {
   "cell_type": "code",
   "execution_count": 109,
   "id": "c777145f",
   "metadata": {},
   "outputs": [
    {
     "data": {
      "text/plain": [
       "0    135985\n",
       "1      3058\n",
       "Name: alcohol_consumption, dtype: int64"
      ]
     },
     "execution_count": 109,
     "metadata": {},
     "output_type": "execute_result"
    }
   ],
   "source": [
    "df['alcohol_consumption'].value_counts()"
   ]
  },
  {
   "cell_type": "code",
   "execution_count": 110,
   "id": "97b532f6",
   "metadata": {},
   "outputs": [
    {
     "data": {
      "text/plain": [
       "1    70895\n",
       "0    68148\n",
       "Name: gender, dtype: int64"
      ]
     },
     "execution_count": 110,
     "metadata": {},
     "output_type": "execute_result"
    }
   ],
   "source": [
    "df['gender'].value_counts() "
   ]
  },
  {
   "cell_type": "code",
   "execution_count": 111,
   "id": "e12c8dd2",
   "metadata": {},
   "outputs": [
    {
     "data": {
      "text/plain": [
       "0    93601\n",
       "1    45442\n",
       "Name: is_literate, dtype: int64"
      ]
     },
     "execution_count": 111,
     "metadata": {},
     "output_type": "execute_result"
    }
   ],
   "source": [
    "df['is_literate'].value_counts() "
   ]
  },
  {
   "cell_type": "code",
   "execution_count": 112,
   "id": "bae66aad",
   "metadata": {},
   "outputs": [
    {
     "name": "stdout",
     "output_type": "stream",
     "text": [
      "<class 'pandas.core.frame.DataFrame'>\n",
      "RangeIndex: 139043 entries, 0 to 139042\n",
      "Data columns (total 18 columns):\n",
      " #   Column                  Non-Null Count   Dtype  \n",
      "---  ------                  --------------   -----  \n",
      " 0   tobacco_consumption     139043 non-null  int32  \n",
      " 1   alcohol_consumption     139043 non-null  int32  \n",
      " 2   sdh_occupational_risk   139043 non-null  int32  \n",
      " 3   gender                  139043 non-null  int32  \n",
      " 4   religion                139043 non-null  int64  \n",
      " 5   caste                   139043 non-null  int64  \n",
      " 6   is_literate             139043 non-null  int32  \n",
      " 7   age                     139043 non-null  float64\n",
      " 8   education_status        139043 non-null  int32  \n",
      " 9   occupation_status       139043 non-null  int32  \n",
      " 10  primary_cooking_fuel    139043 non-null  int32  \n",
      " 11  primary_drinking_water  139043 non-null  int32  \n",
      " 12  primary_toilet          139043 non-null  int32  \n",
      " 13  primary_transport       139043 non-null  object \n",
      " 14  toilet_usage_status     139043 non-null  int32  \n",
      " 15  primary_electricity     139043 non-null  int32  \n",
      " 16  primary_house_material  139043 non-null  object \n",
      " 17  diseases                139043 non-null  int64  \n",
      "dtypes: float64(1), int32(12), int64(3), object(2)\n",
      "memory usage: 12.7+ MB\n"
     ]
    }
   ],
   "source": [
    "df.info()"
   ]
  },
  {
   "cell_type": "markdown",
   "id": "0813c13b",
   "metadata": {},
   "source": [
    "# Detecting of outliers"
   ]
  },
  {
   "cell_type": "code",
   "execution_count": 113,
   "id": "c90f1506",
   "metadata": {},
   "outputs": [
    {
     "name": "stderr",
     "output_type": "stream",
     "text": [
      "C:\\Users\\mounika\\anaconda3\\lib\\site-packages\\seaborn\\_decorators.py:36: FutureWarning: Pass the following variable as a keyword arg: x. From version 0.12, the only valid positional argument will be `data`, and passing other arguments without an explicit keyword will result in an error or misinterpretation.\n",
      "  warnings.warn(\n"
     ]
    },
    {
     "data": {
      "text/plain": [
       "<AxesSubplot:xlabel='age'>"
      ]
     },
     "execution_count": 113,
     "metadata": {},
     "output_type": "execute_result"
    },
    {
     "data": {
      "image/png": "[encoded data removed]",
      "text/plain": [
       "<Figure size 432x288 with 1 Axes>"
      ]
     },
     "metadata": {},
     "output_type": "display_data"
    }
   ],
   "source": [
    "sns.boxplot(df['age'])"
   ]
  },
  {
   "cell_type": "markdown",
   "id": "e9bc6835",
   "metadata": {},
   "source": [
    "# Replace with IQR(Inter-quartile range)\n",
    "since the outliers are more in number so replace it with IQR is more efficient."
   ]
  },
  {
   "cell_type": "code",
   "execution_count": 114,
   "id": "ca8be245",
   "metadata": {},
   "outputs": [],
   "source": [
    "q75, q25 = np.percentile(df['age'], [75 ,25])\n",
    "iqr = q75 - q25\n",
    "lower_bound = q25 - (iqr * 1.5)\n",
    "upper_bound = q75 + (iqr * 1.5)\n",
    "df.loc[df['age'] < lower_bound, 'age'] = lower_bound\n",
    "df.loc[df['age'] > upper_bound, 'age'] = upper_bound"
   ]
  },
  {
   "cell_type": "code",
   "execution_count": 115,
   "id": "a793c345",
   "metadata": {},
   "outputs": [
    {
     "name": "stderr",
     "output_type": "stream",
     "text": [
      "C:\\Users\\mounika\\anaconda3\\lib\\site-packages\\seaborn\\_decorators.py:36: FutureWarning: Pass the following variable as a keyword arg: x. From version 0.12, the only valid positional argument will be `data`, and passing other arguments without an explicit keyword will result in an error or misinterpretation.\n",
      "  warnings.warn(\n"
     ]
    },
    {
     "data": {
      "text/plain": [
       "<AxesSubplot:xlabel='age'>"
      ]
     },
     "execution_count": 115,
     "metadata": {},
     "output_type": "execute_result"
    },
    {
     "data": {
      "image/png": "[encoded data removed]",
      "text/plain": [
       "<Figure size 432x288 with 1 Axes>"
      ]
     },
     "metadata": {},
     "output_type": "display_data"
    }
   ],
   "source": [
    "sns.boxplot(df['age'])"
   ]
  },
  {
   "cell_type": "markdown",
   "id": "8a19ae35",
   "metadata": {},
   "source": [
    "#  Feature subset Selection using chi-square"
   ]
  },
  {
   "cell_type": "code",
   "execution_count": 116,
   "id": "185a97aa",
   "metadata": {},
   "outputs": [],
   "source": [
    "x=df.iloc[:,0:17]\n",
    "y=df.iloc[:,-1]\n"
   ]
  },
  {
   "cell_type": "code",
   "execution_count": 223,
   "id": "595fce6f",
   "metadata": {},
   "outputs": [],
   "source": [
    "from sklearn.model_selection import train_test_split\n",
    "x_train,x_test,y_train,y_test=train_test_split(x,y,test_size=0.3,random_state=0)\n",
    "from sklearn.ensemble import RandomForestClassifier\n",
    "from sklearn import tree"
   ]
  },
  {
   "cell_type": "code",
   "execution_count": 228,
   "id": "33f3e52d",
   "metadata": {},
   "outputs": [],
   "source": [
    "from sklearn.ensemble import RandomForestClassifier\n",
    "\n",
    "# Create a Random Forest classifier\n",
    "clf = RandomForestClassifier()\n",
    "\n",
    "# Train the classifier on the training data\n",
    "clf.fit(X_train, y_train)\n",
    "\n",
    "# Make predictions on the test data\n",
    "predictions = clf.predict(X_test)\n"
   ]
  },
  {
   "cell_type": "code",
   "execution_count": 229,
   "id": "c7240c0f",
   "metadata": {},
   "outputs": [
    {
     "data": {
      "text/plain": [
       "<AxesSubplot:>"
      ]
     },
     "execution_count": 229,
     "metadata": {},
     "output_type": "execute_result"
    },
    {
     "data": {
      "image/png": "[encoded data removed]",
      "text/plain": [
       "<Figure size 800x640 with 1 Axes>"
      ]
     },
     "metadata": {},
     "output_type": "display_data"
    }
   ],
   "source": [
    "\n",
    "plt.figure(num=None, figsize=(10,8), dpi=80, facecolor='w', edgecolor='k')\n",
    "\n",
    "feat_importances = pd.Series(clf.feature_importances_, index= X.columns)\n",
    "\n",
    "feat_importances.nlargest(20).plot(kind='barh')"
   ]
  },
  {
   "cell_type": "code",
   "execution_count": null,
   "id": "90be6a9f",
   "metadata": {},
   "outputs": [],
   "source": []
  },
  {
   "cell_type": "code",
   "execution_count": null,
   "id": "5d374663",
   "metadata": {},
   "outputs": [],
   "source": []
  },
  {
   "cell_type": "markdown",
   "id": "f379d7c9",
   "metadata": {},
   "source": [
    "# Modeling and Evalution"
   ]
  },
  {
   "cell_type": "code",
   "execution_count": null,
   "id": "11712529",
   "metadata": {},
   "outputs": [],
   "source": [
    "import numpy as np\n",
    "import pandas as pd\n",
    "import seaborn as sns\n",
    "import matplotlib.pyplot as plt\n",
    "from sklearn.preprocessing import MinMaxScaler, StandardScaler, LabelEncoder\n",
    "from sklearn.model_selection import train_test_split, cross_val_score, KFold\n",
    "from sklearn.metrics import accuracy_score\n",
    "from sklearn.linear_model import LogisticRegression\n",
    "from sklearn.svm import SVC\n",
    "from sklearn.tree import DecisionTreeClassifier\n",
    "from sklearn.neighbors import KNeighborsClassifier\n",
    "from sklearn.naive_bayes import GaussianNB\n",
    "from sklearn.ensemble import RandomForestClassifier,GradientBoostingClassifier\n"
   ]
  },
  {
   "cell_type": "code",
   "execution_count": 121,
   "id": "ddc889db",
   "metadata": {},
   "outputs": [],
   "source": [
    "X=df[['tobacco_consumption', 'alcohol_consumption', 'religion', 'is_literate',\n",
    "       'education_status', 'occupation_status', 'primary_drinking_water',\n",
    "       'primary_toilet', 'toilet_usage_status']]\n",
    "Y=df[['diseases']]"
   ]
  },
  {
   "cell_type": "code",
   "execution_count": 122,
   "id": "b2c81f41",
   "metadata": {},
   "outputs": [
    {
     "name": "stdout",
     "output_type": "stream",
     "text": [
      "Requirement already satisfied: imblearn in c:\\users\\mounika\\anaconda3\\lib\\site-packages (0.0)\n",
      "Requirement already satisfied: imbalanced-learn in c:\\users\\mounika\\anaconda3\\lib\\site-packages (from imblearn) (0.10.0)\n",
      "Requirement already satisfied: numpy>=1.17.3 in c:\\users\\mounika\\anaconda3\\lib\\site-packages (from imbalanced-learn->imblearn) (1.20.3)\n",
      "Requirement already satisfied: scipy>=1.3.2 in c:\\users\\mounika\\anaconda3\\lib\\site-packages (from imbalanced-learn->imblearn) (1.7.1)\n",
      "Requirement already satisfied: scikit-learn>=1.0.2 in c:\\users\\mounika\\anaconda3\\lib\\site-packages (from imbalanced-learn->imblearn) (1.1.3)\n",
      "Requirement already satisfied: joblib>=1.1.1 in c:\\users\\mounika\\anaconda3\\lib\\site-packages (from imbalanced-learn->imblearn) (1.2.0)\n",
      "Requirement already satisfied: threadpoolctl>=2.0.0 in c:\\users\\mounika\\anaconda3\\lib\\site-packages (from imbalanced-learn->imblearn) (2.2.0)\n",
      "Note: you may need to restart the kernel to use updated packages.\n"
     ]
    }
   ],
   "source": [
    "pip install imblearn\n"
   ]
  },
  {
   "cell_type": "code",
   "execution_count": 123,
   "id": "16d5a55f",
   "metadata": {},
   "outputs": [
    {
     "name": "stdout",
     "output_type": "stream",
     "text": [
      "Requirement already satisfied: pandas_profiling in c:\\users\\mounika\\anaconda3\\lib\\site-packages (3.6.1)\n",
      "Requirement already satisfied: htmlmin==0.1.12 in c:\\users\\mounika\\anaconda3\\lib\\site-packages (from pandas_profiling) (0.1.12)\n",
      "Requirement already satisfied: phik<0.13,>=0.11.1 in c:\\users\\mounika\\anaconda3\\lib\\site-packages (from pandas_profiling) (0.12.3)\n",
      "Requirement already satisfied: jinja2<3.2,>=2.11.1 in c:\\users\\mounika\\anaconda3\\lib\\site-packages (from pandas_profiling) (2.11.3)\n",
      "Requirement already satisfied: scipy<1.10,>=1.4.1 in c:\\users\\mounika\\anaconda3\\lib\\site-packages (from pandas_profiling) (1.7.1)\n",
      "Requirement already satisfied: numpy<1.24,>=1.16.0 in c:\\users\\mounika\\anaconda3\\lib\\site-packages (from pandas_profiling) (1.20.3)\n",
      "Requirement already satisfied: multimethod<1.10,>=1.4 in c:\\users\\mounika\\anaconda3\\lib\\site-packages (from pandas_profiling) (1.9.1)\n",
      "Requirement already satisfied: requests<2.29,>=2.24.0 in c:\\users\\mounika\\anaconda3\\lib\\site-packages (from pandas_profiling) (2.26.0)\n",
      "Requirement already satisfied: typeguard<2.14,>=2.13.2 in c:\\users\\mounika\\anaconda3\\lib\\site-packages (from pandas_profiling) (2.13.3)\n",
      "Requirement already satisfied: visions[type_image_path]==0.7.5 in c:\\users\\mounika\\anaconda3\\lib\\site-packages (from pandas_profiling) (0.7.5)\n",
      "Requirement already satisfied: pandas!=1.4.0,<1.6,>1.1 in c:\\users\\mounika\\anaconda3\\lib\\site-packages (from pandas_profiling) (1.3.4)\n",
      "Requirement already satisfied: tqdm<4.65,>=4.48.2 in c:\\users\\mounika\\anaconda3\\lib\\site-packages (from pandas_profiling) (4.62.3)\n",
      "Requirement already satisfied: pydantic<1.11,>=1.8.1 in c:\\users\\mounika\\anaconda3\\lib\\site-packages (from pandas_profiling) (1.10.2)\n",
      "Requirement already satisfied: seaborn<0.13,>=0.10.1 in c:\\users\\mounika\\anaconda3\\lib\\site-packages (from pandas_profiling) (0.11.2)\n",
      "Requirement already satisfied: statsmodels<0.14,>=0.13.2 in c:\\users\\mounika\\anaconda3\\lib\\site-packages (from pandas_profiling) (0.13.5)\n",
      "Requirement already satisfied: matplotlib<3.7,>=3.2 in c:\\users\\mounika\\anaconda3\\lib\\site-packages (from pandas_profiling) (3.4.3)\n",
      "Requirement already satisfied: PyYAML<6.1,>=5.0.0 in c:\\users\\mounika\\anaconda3\\lib\\site-packages (from pandas_profiling) (6.0)\n",
      "Requirement already satisfied: networkx>=2.4 in c:\\users\\mounika\\anaconda3\\lib\\site-packages (from visions[type_image_path]==0.7.5->pandas_profiling) (2.6.3)\n",
      "Requirement already satisfied: attrs>=19.3.0 in c:\\users\\mounika\\anaconda3\\lib\\site-packages (from visions[type_image_path]==0.7.5->pandas_profiling) (21.2.0)\n",
      "Requirement already satisfied: tangled-up-in-unicode>=0.0.4 in c:\\users\\mounika\\anaconda3\\lib\\site-packages (from visions[type_image_path]==0.7.5->pandas_profiling) (0.2.0)\n",
      "Requirement already satisfied: Pillow in c:\\users\\mounika\\anaconda3\\lib\\site-packages (from visions[type_image_path]==0.7.5->pandas_profiling) (8.4.0)\n",
      "Requirement already satisfied: imagehash in c:\\users\\mounika\\anaconda3\\lib\\site-packages (from visions[type_image_path]==0.7.5->pandas_profiling) (4.3.1)\n",
      "Requirement already satisfied: MarkupSafe>=0.23 in c:\\users\\mounika\\anaconda3\\lib\\site-packages (from jinja2<3.2,>=2.11.1->pandas_profiling) (1.1.1)\n",
      "Requirement already satisfied: python-dateutil>=2.7 in c:\\users\\mounika\\anaconda3\\lib\\site-packages (from matplotlib<3.7,>=3.2->pandas_profiling) (2.8.2)\n",
      "Requirement already satisfied: cycler>=0.10 in c:\\users\\mounika\\anaconda3\\lib\\site-packages (from matplotlib<3.7,>=3.2->pandas_profiling) (0.10.0)\n",
      "Requirement already satisfied: pyparsing>=2.2.1 in c:\\users\\mounika\\anaconda3\\lib\\site-packages (from matplotlib<3.7,>=3.2->pandas_profiling) (3.0.4)\n",
      "Requirement already satisfied: kiwisolver>=1.0.1 in c:\\users\\mounika\\anaconda3\\lib\\site-packages (from matplotlib<3.7,>=3.2->pandas_profiling) (1.3.1)\n",
      "Requirement already satisfied: six in c:\\users\\mounika\\anaconda3\\lib\\site-packages (from cycler>=0.10->matplotlib<3.7,>=3.2->pandas_profiling) (1.16.0)\n",
      "Requirement already satisfied: pytz>=2017.3 in c:\\users\\mounika\\anaconda3\\lib\\site-packages (from pandas!=1.4.0,<1.6,>1.1->pandas_profiling) (2021.3)\n",
      "Requirement already satisfied: joblib>=0.14.1 in c:\\users\\mounika\\anaconda3\\lib\\site-packages (from phik<0.13,>=0.11.1->pandas_profiling) (1.2.0)\n",
      "Requirement already satisfied: typing-extensions>=4.1.0 in c:\\users\\mounika\\anaconda3\\lib\\site-packages (from pydantic<1.11,>=1.8.1->pandas_profiling) (4.4.0)\n",
      "Requirement already satisfied: charset-normalizer~=2.0.0 in c:\\users\\mounika\\anaconda3\\lib\\site-packages (from requests<2.29,>=2.24.0->pandas_profiling) (2.0.4)\n",
      "Requirement already satisfied: urllib3<1.27,>=1.21.1 in c:\\users\\mounika\\anaconda3\\lib\\site-packages (from requests<2.29,>=2.24.0->pandas_profiling) (1.26.7)\n",
      "Requirement already satisfied: certifi>=2017.4.17 in c:\\users\\mounika\\anaconda3\\lib\\site-packages (from requests<2.29,>=2.24.0->pandas_profiling) (2021.10.8)\n",
      "Requirement already satisfied: idna<4,>=2.5 in c:\\users\\mounika\\anaconda3\\lib\\site-packages (from requests<2.29,>=2.24.0->pandas_profiling) (3.2)\n",
      "Requirement already satisfied: packaging>=21.3 in c:\\users\\mounika\\anaconda3\\lib\\site-packages (from statsmodels<0.14,>=0.13.2->pandas_profiling) (22.0)\n",
      "Requirement already satisfied: patsy>=0.5.2 in c:\\users\\mounika\\anaconda3\\lib\\site-packages (from statsmodels<0.14,>=0.13.2->pandas_profiling) (0.5.2)\n",
      "Requirement already satisfied: colorama in c:\\users\\mounika\\anaconda3\\lib\\site-packages (from tqdm<4.65,>=4.48.2->pandas_profiling) (0.4.4)\n",
      "Requirement already satisfied: PyWavelets in c:\\users\\mounika\\anaconda3\\lib\\site-packages (from imagehash->visions[type_image_path]==0.7.5->pandas_profiling) (1.1.1)\n",
      "Note: you may need to restart the kernel to use updated packages.\n"
     ]
    }
   ],
   "source": [
    "pip install pandas_profiling\n"
   ]
  },
  {
   "cell_type": "code",
   "execution_count": 128,
   "id": "b10e09a4",
   "metadata": {},
   "outputs": [],
   "source": [
    "import pandas_profiling\n",
    "from sklearn.metrics import accuracy_score"
   ]
  },
  {
   "cell_type": "code",
   "execution_count": 129,
   "id": "c2d7a1e0",
   "metadata": {},
   "outputs": [],
   "source": [
    "from pandas_profiling import ProfileReport"
   ]
  },
  {
   "cell_type": "code",
   "execution_count": 130,
   "id": "0229ecd5",
   "metadata": {},
   "outputs": [
    {
     "data": {
      "text/plain": [
       "diseases\n",
       "0           134469\n",
       "1           134469\n",
       "dtype: int64"
      ]
     },
     "execution_count": 130,
     "metadata": {},
     "output_type": "execute_result"
    }
   ],
   "source": [
    "X_train,X_test,Y_train,Y_test=train_test_split(X,Y,test_size=0.3,random_state=42)\n",
    "from imblearn.over_sampling import SMOTE\n",
    "X_resampled,Y_resampled=SMOTE().fit_resample(X,Y)\n",
    "Y_resampled.value_counts()"
   ]
  },
  {
   "cell_type": "markdown",
   "id": "f14570c3",
   "metadata": {},
   "source": [
    "#  Logistic Regression"
   ]
  },
  {
   "cell_type": "code",
   "execution_count": 160,
   "id": "4c7a08c6",
   "metadata": {},
   "outputs": [],
   "source": [
    "import numpy as np\n",
    "import pandas as pd\n",
    "import seaborn as sns\n",
    "import matplotlib.pyplot as plt\n",
    "from sklearn.preprocessing import MinMaxScaler, StandardScaler, LabelEncoder\n",
    "from sklearn.model_selection import train_test_split, cross_val_score, KFold\n",
    "from sklearn.metrics import accuracy_score\n",
    "from sklearn.linear_model import LogisticRegression\n",
    "from sklearn.svm import SVC\n",
    "from sklearn.tree import DecisionTreeClassifier\n",
    "from sklearn.neighbors import KNeighborsClassifier\n",
    "from sklearn.naive_bayes import GaussianNB\n",
    "from sklearn.ensemble import RandomForestClassifier,GradientBoostingClassifier\n"
   ]
  },
  {
   "cell_type": "code",
   "execution_count": 161,
   "id": "184dc56d",
   "metadata": {},
   "outputs": [
    {
     "name": "stderr",
     "output_type": "stream",
     "text": [
      "C:\\Users\\mounika\\anaconda3\\lib\\site-packages\\sklearn\\utils\\validation.py:1111: DataConversionWarning: A column-vector y was passed when a 1d array was expected. Please change the shape of y to (n_samples, ), for example using ravel().\n",
      "  y = column_or_1d(y, warn=True)\n"
     ]
    },
    {
     "data": {
      "text/plain": [
       "69.21103732649294"
      ]
     },
     "execution_count": 161,
     "metadata": {},
     "output_type": "execute_result"
    }
   ],
   "source": [
    "model1=LogisticRegression()\n",
    "model1.fit(X_resampled,Y_resampled) \n",
    "pred1=model1.predict(X_test) \n",
    "accuracy_score(pred1,Y_test)*100"
   ]
  },
  {
   "cell_type": "code",
   "execution_count": 162,
   "id": "f5c457bc",
   "metadata": {},
   "outputs": [
    {
     "name": "stdout",
     "output_type": "stream",
     "text": [
      "Accuracy of the  Logistic  model is  69.21103732649294\n"
     ]
    }
   ],
   "source": [
    "from sklearn.metrics import confusion_matrix\n",
    "from sklearn.metrics import accuracy_score\n",
    "from mlxtend.plotting import plot_confusion_matrix\n",
    "cm_rfc = confusion_matrix(Y_test, pred1)\n",
    "print(\"Accuracy of the  Logistic  model is \",accuracy_score(pred1,Y_test)*100)"
   ]
  },
  {
   "cell_type": "code",
   "execution_count": 163,
   "id": "edecfcb2",
   "metadata": {},
   "outputs": [
    {
     "data": {
      "image/png": "[encoded data removed]",
      "text/plain": [
       "<Figure size 432x432 with 1 Axes>"
      ]
     },
     "metadata": {},
     "output_type": "display_data"
    }
   ],
   "source": [
    "fig, ax = plot_confusion_matrix(conf_mat=cm_rfc, figsize=(6, 6), cmap=plt.cm.Greens)\n",
    "plt.xlabel('Predictions', fontsize=18)\n",
    "plt.ylabel('Actuals', fontsize=18)\n",
    "plt.title('Confusion Matrix', fontsize=18)\n",
    "plt.show()"
   ]
  },
  {
   "cell_type": "code",
   "execution_count": 164,
   "id": "248607f2",
   "metadata": {},
   "outputs": [
    {
     "name": "stdout",
     "output_type": "stream",
     "text": [
      "              precision    recall  f1-score   support\n",
      "\n",
      "           0       0.98      0.69      0.81     40284\n",
      "           1       0.07      0.63      0.12      1429\n",
      "\n",
      "    accuracy                           0.69     41713\n",
      "   macro avg       0.52      0.66      0.47     41713\n",
      "weighted avg       0.95      0.69      0.79     41713\n",
      "\n"
     ]
    }
   ],
   "source": [
    "from sklearn.metrics import classification_report\n",
    "# Generate the classification report\n",
    "report = classification_report(Y_test, pred1)\n",
    "\n",
    "print(report)"
   ]
  },
  {
   "cell_type": "markdown",
   "id": "48a543f7",
   "metadata": {},
   "source": [
    "# Decision Tree"
   ]
  },
  {
   "cell_type": "code",
   "execution_count": 165,
   "id": "8af70ad3",
   "metadata": {},
   "outputs": [
    {
     "data": {
      "text/plain": [
       "80.70385731067053"
      ]
     },
     "execution_count": 165,
     "metadata": {},
     "output_type": "execute_result"
    }
   ],
   "source": [
    "model3=DecisionTreeClassifier() \n",
    "model3.fit(X_resampled,Y_resampled)\n",
    "pred3=model3.predict(X_test) \n",
    "accuracy_score(pred3,Y_test)*100"
   ]
  },
  {
   "cell_type": "code",
   "execution_count": 166,
   "id": "2d079997",
   "metadata": {},
   "outputs": [
    {
     "name": "stdout",
     "output_type": "stream",
     "text": [
      "Accuracy of the Decision Tree Classifier model is  80.70385731067053\n"
     ]
    }
   ],
   "source": [
    "from sklearn.metrics import confusion_matrix\n",
    "from sklearn.metrics import accuracy_score\n",
    "from mlxtend.plotting import plot_confusion_matrix\n",
    "cm_rfc = confusion_matrix(Y_test, pred3)\n",
    "print(\"Accuracy of the Decision Tree Classifier model is \",accuracy_score(pred3,Y_test)*100)"
   ]
  },
  {
   "cell_type": "code",
   "execution_count": 167,
   "id": "e9f74630",
   "metadata": {},
   "outputs": [
    {
     "data": {
      "image/png": "[encoded data removed]",
      "text/plain": [
       "<Figure size 432x432 with 1 Axes>"
      ]
     },
     "metadata": {},
     "output_type": "display_data"
    }
   ],
   "source": [
    "fig, ax = plot_confusion_matrix(conf_mat=cm_rfc, figsize=(6, 6), cmap=plt.cm.Greens)\n",
    "plt.xlabel('Predictions', fontsize=18)\n",
    "plt.ylabel('Actuals', fontsize=18)\n",
    "plt.title('Confusion Matrix', fontsize=18)\n",
    "plt.show()"
   ]
  },
  {
   "cell_type": "code",
   "execution_count": 168,
   "id": "866ad628",
   "metadata": {},
   "outputs": [
    {
     "name": "stdout",
     "output_type": "stream",
     "text": [
      "              precision    recall  f1-score   support\n",
      "\n",
      "           0       0.99      0.81      0.89     40284\n",
      "           1       0.12      0.74      0.21      1429\n",
      "\n",
      "    accuracy                           0.81     41713\n",
      "   macro avg       0.55      0.77      0.55     41713\n",
      "weighted avg       0.96      0.81      0.87     41713\n",
      "\n"
     ]
    }
   ],
   "source": [
    "from sklearn.metrics import classification_report\n",
    "# Generate the classification report\n",
    "report = classification_report(Y_test, pred3)\n",
    "\n",
    "print(report)"
   ]
  },
  {
   "cell_type": "markdown",
   "id": "bdc0a30a",
   "metadata": {},
   "source": [
    "# Random forest\n"
   ]
  },
  {
   "cell_type": "code",
   "execution_count": 169,
   "id": "81fc0ba1",
   "metadata": {},
   "outputs": [
    {
     "name": "stderr",
     "output_type": "stream",
     "text": [
      "C:\\Users\\mounika\\AppData\\Local\\Temp/ipykernel_26996/2785718924.py:2: DataConversionWarning: A column-vector y was passed when a 1d array was expected. Please change the shape of y to (n_samples,), for example using ravel().\n",
      "  model4.fit(X_resampled,Y_resampled)\n"
     ]
    },
    {
     "data": {
      "text/plain": [
       "80.50967324335339"
      ]
     },
     "execution_count": 169,
     "metadata": {},
     "output_type": "execute_result"
    }
   ],
   "source": [
    "model4=RandomForestClassifier() \n",
    "model4.fit(X_resampled,Y_resampled)\n",
    "pred4=model4.predict(X_test)\n",
    "accuracy_score(pred4,Y_test)*100"
   ]
  },
  {
   "cell_type": "code",
   "execution_count": 170,
   "id": "a9214beb",
   "metadata": {},
   "outputs": [
    {
     "name": "stdout",
     "output_type": "stream",
     "text": [
      "Accuracy of the Random forest  is  80.50967324335339\n"
     ]
    }
   ],
   "source": [
    "from sklearn.metrics import confusion_matrix\n",
    "from sklearn.metrics import accuracy_score\n",
    "from mlxtend.plotting import plot_confusion_matrix\n",
    "cm_rfc = confusion_matrix(Y_test, pred4)\n",
    "print(\"Accuracy of the Random forest  is \",accuracy_score(pred4,Y_test)*100)"
   ]
  },
  {
   "cell_type": "code",
   "execution_count": 171,
   "id": "16147a63",
   "metadata": {},
   "outputs": [
    {
     "data": {
      "image/png": "[encoded data removed]",
      "text/plain": [
       "<Figure size 432x432 with 1 Axes>"
      ]
     },
     "metadata": {},
     "output_type": "display_data"
    }
   ],
   "source": [
    "fig, ax = plot_confusion_matrix(conf_mat=cm_rfc, figsize=(6, 6), cmap=plt.cm.Greens)\n",
    "plt.xlabel('Predictions', fontsize=18)\n",
    "plt.ylabel('Actuals', fontsize=18)\n",
    "plt.title('Confusion Matrix', fontsize=18)\n",
    "plt.show()"
   ]
  },
  {
   "cell_type": "code",
   "execution_count": 172,
   "id": "ae6cd7af",
   "metadata": {},
   "outputs": [
    {
     "name": "stdout",
     "output_type": "stream",
     "text": [
      "              precision    recall  f1-score   support\n",
      "\n",
      "           0       0.99      0.81      0.89     40284\n",
      "           1       0.12      0.74      0.21      1429\n",
      "\n",
      "    accuracy                           0.81     41713\n",
      "   macro avg       0.55      0.77      0.55     41713\n",
      "weighted avg       0.96      0.81      0.87     41713\n",
      "\n"
     ]
    }
   ],
   "source": [
    "from sklearn.metrics import classification_report\n",
    "# Generate the classification report\n",
    "report = classification_report(Y_test, pred4)\n",
    "\n",
    "print(report)"
   ]
  },
  {
   "cell_type": "markdown",
   "id": "82a5bc32",
   "metadata": {},
   "source": [
    "# KNN(K-nearest neighbours) "
   ]
  },
  {
   "cell_type": "code",
   "execution_count": 173,
   "id": "1951ec6e",
   "metadata": {},
   "outputs": [
    {
     "name": "stderr",
     "output_type": "stream",
     "text": [
      "C:\\Users\\mounika\\anaconda3\\lib\\site-packages\\sklearn\\neighbors\\_classification.py:207: DataConversionWarning: A column-vector y was passed when a 1d array was expected. Please change the shape of y to (n_samples,), for example using ravel().\n",
      "  return self._fit(X, y)\n"
     ]
    },
    {
     "data": {
      "text/plain": [
       "96.32248939179632"
      ]
     },
     "execution_count": 173,
     "metadata": {},
     "output_type": "execute_result"
    }
   ],
   "source": [
    "model5=KNeighborsClassifier()\n",
    "model5.fit(X_resampled,Y_resampled)\n",
    "pred5=model5.predict(X_test) \n",
    "accuracy_score(pred5,Y_test)*100"
   ]
  },
  {
   "cell_type": "code",
   "execution_count": 174,
   "id": "b216deda",
   "metadata": {},
   "outputs": [
    {
     "name": "stdout",
     "output_type": "stream",
     "text": [
      "Accuracy of the KNN is  96.32248939179632\n"
     ]
    }
   ],
   "source": [
    "from sklearn.metrics import confusion_matrix\n",
    "from sklearn.metrics import accuracy_score\n",
    "from mlxtend.plotting import plot_confusion_matrix\n",
    "cm_rfc = confusion_matrix(Y_test, pred5)\n",
    "print(\"Accuracy of the KNN is \",accuracy_score(pred5,Y_test)*100)"
   ]
  },
  {
   "cell_type": "code",
   "execution_count": 175,
   "id": "b79f12a2",
   "metadata": {},
   "outputs": [
    {
     "data": {
      "image/png": "[encoded data removed]",
      "text/plain": [
       "<Figure size 432x432 with 1 Axes>"
      ]
     },
     "metadata": {},
     "output_type": "display_data"
    }
   ],
   "source": [
    "fig, ax = plot_confusion_matrix(conf_mat=cm_rfc, figsize=(6, 6), cmap=plt.cm.Greens)\n",
    "plt.xlabel('Predictions', fontsize=18)\n",
    "plt.ylabel('Actuals', fontsize=18)\n",
    "plt.title('Confusion Matrix', fontsize=18)\n",
    "plt.show()"
   ]
  },
  {
   "cell_type": "code",
   "execution_count": 176,
   "id": "f7e949f6",
   "metadata": {},
   "outputs": [
    {
     "name": "stdout",
     "output_type": "stream",
     "text": [
      "              precision    recall  f1-score   support\n",
      "\n",
      "           0       0.97      0.99      0.98     40284\n",
      "           1       0.41      0.17      0.24      1429\n",
      "\n",
      "    accuracy                           0.96     41713\n",
      "   macro avg       0.69      0.58      0.61     41713\n",
      "weighted avg       0.95      0.96      0.96     41713\n",
      "\n"
     ]
    }
   ],
   "source": [
    "from sklearn.metrics import classification_report\n",
    "# Generate the classification report\n",
    "report = classification_report(Y_test, pred5)\n",
    "\n",
    "print(report)"
   ]
  },
  {
   "cell_type": "markdown",
   "id": "4037b5ed",
   "metadata": {},
   "source": [
    "#  Naive Bayes"
   ]
  },
  {
   "cell_type": "code",
   "execution_count": 177,
   "id": "ae5ecc44",
   "metadata": {},
   "outputs": [
    {
     "name": "stderr",
     "output_type": "stream",
     "text": [
      "C:\\Users\\mounika\\anaconda3\\lib\\site-packages\\sklearn\\utils\\validation.py:1111: DataConversionWarning: A column-vector y was passed when a 1d array was expected. Please change the shape of y to (n_samples, ), for example using ravel().\n",
      "  y = column_or_1d(y, warn=True)\n"
     ]
    },
    {
     "data": {
      "text/plain": [
       "78.63975259511423"
      ]
     },
     "execution_count": 177,
     "metadata": {},
     "output_type": "execute_result"
    }
   ],
   "source": [
    "model6=GaussianNB() \n",
    "model6.fit(X_resampled,Y_resampled)\n",
    "pred6=model6.predict(X_test)\n",
    "accuracy_score(pred6,Y_test)*100"
   ]
  },
  {
   "cell_type": "code",
   "execution_count": 178,
   "id": "84d2982b",
   "metadata": {},
   "outputs": [
    {
     "name": "stdout",
     "output_type": "stream",
     "text": [
      "Accuracy of the Navie bayes is  78.63975259511423\n"
     ]
    }
   ],
   "source": [
    "from sklearn.metrics import confusion_matrix\n",
    "from sklearn.metrics import accuracy_score\n",
    "from mlxtend.plotting import plot_confusion_matrix\n",
    "cm_rfc = confusion_matrix(Y_test, pred6)\n",
    "print(\"Accuracy of the Navie bayes is \",accuracy_score(pred6,Y_test)*100)"
   ]
  },
  {
   "cell_type": "code",
   "execution_count": 179,
   "id": "3af7bf94",
   "metadata": {},
   "outputs": [
    {
     "data": {
      "image/png": "[encoded data removed]",
      "text/plain": [
       "<Figure size 432x432 with 1 Axes>"
      ]
     },
     "metadata": {},
     "output_type": "display_data"
    }
   ],
   "source": [
    "fig, ax = plot_confusion_matrix(conf_mat=cm_rfc, figsize=(6, 6), cmap=plt.cm.Greens)\n",
    "plt.xlabel('Predictions', fontsize=18)\n",
    "plt.ylabel('Actuals', fontsize=18)\n",
    "plt.title('Confusion Matrix', fontsize=18)\n",
    "plt.show()"
   ]
  },
  {
   "cell_type": "code",
   "execution_count": 180,
   "id": "e7a0e7ff",
   "metadata": {},
   "outputs": [
    {
     "name": "stdout",
     "output_type": "stream",
     "text": [
      "              precision    recall  f1-score   support\n",
      "\n",
      "           0       0.98      0.80      0.88     40284\n",
      "           1       0.08      0.50      0.14      1429\n",
      "\n",
      "    accuracy                           0.79     41713\n",
      "   macro avg       0.53      0.65      0.51     41713\n",
      "weighted avg       0.95      0.79      0.85     41713\n",
      "\n"
     ]
    }
   ],
   "source": [
    "from sklearn.metrics import classification_report\n",
    "# Generate the classification report\n",
    "report = classification_report(Y_test, pred6)\n",
    "\n",
    "print(report)"
   ]
  },
  {
   "cell_type": "markdown",
   "id": "a967f6b0",
   "metadata": {},
   "source": [
    "# GradientBoosting"
   ]
  },
  {
   "cell_type": "code",
   "execution_count": 181,
   "id": "ae569ef3",
   "metadata": {},
   "outputs": [
    {
     "name": "stderr",
     "output_type": "stream",
     "text": [
      "C:\\Users\\mounika\\anaconda3\\lib\\site-packages\\sklearn\\ensemble\\_gb.py:570: DataConversionWarning: A column-vector y was passed when a 1d array was expected. Please change the shape of y to (n_samples, ), for example using ravel().\n",
      "  y = column_or_1d(y, warn=True)\n"
     ]
    },
    {
     "data": {
      "text/plain": [
       "73.59576151319732"
      ]
     },
     "execution_count": 181,
     "metadata": {},
     "output_type": "execute_result"
    }
   ],
   "source": [
    "model7=GradientBoostingClassifier() \n",
    "model7.fit(X_resampled,Y_resampled)\n",
    "pred7=model7.predict(X_test) \n",
    "accuracy_score(pred7,Y_test)*100"
   ]
  },
  {
   "cell_type": "code",
   "execution_count": 182,
   "id": "a6a5801e",
   "metadata": {},
   "outputs": [
    {
     "name": "stdout",
     "output_type": "stream",
     "text": [
      "Accuracy of the  GradientBoostingClassifier model is  73.59576151319732\n"
     ]
    }
   ],
   "source": [
    "from sklearn.metrics import confusion_matrix\n",
    "from sklearn.metrics import accuracy_score\n",
    "from mlxtend.plotting import plot_confusion_matrix\n",
    "cm_rfc = confusion_matrix(Y_test, pred7)\n",
    "print(\"Accuracy of the  GradientBoostingClassifier model is \",accuracy_score(pred7,Y_test)*100)"
   ]
  },
  {
   "cell_type": "code",
   "execution_count": 183,
   "id": "6f2a6e4d",
   "metadata": {},
   "outputs": [
    {
     "data": {
      "image/png": "[encoded data removed]",
      "text/plain": [
       "<Figure size 432x432 with 1 Axes>"
      ]
     },
     "metadata": {},
     "output_type": "display_data"
    }
   ],
   "source": [
    "fig, ax = plot_confusion_matrix(conf_mat=cm_rfc, figsize=(6, 6), cmap=plt.cm.Greens)\n",
    "plt.xlabel('Predictions', fontsize=18)\n",
    "plt.ylabel('Actuals', fontsize=18)\n",
    "plt.title('Confusion Matrix', fontsize=18)\n",
    "plt.show()"
   ]
  },
  {
   "cell_type": "code",
   "execution_count": 184,
   "id": "486ef40d",
   "metadata": {},
   "outputs": [
    {
     "name": "stdout",
     "output_type": "stream",
     "text": [
      "              precision    recall  f1-score   support\n",
      "\n",
      "           0       0.99      0.74      0.84     40284\n",
      "           1       0.09      0.72      0.16      1429\n",
      "\n",
      "    accuracy                           0.74     41713\n",
      "   macro avg       0.54      0.73      0.50     41713\n",
      "weighted avg       0.96      0.74      0.82     41713\n",
      "\n"
     ]
    }
   ],
   "source": [
    "from sklearn.metrics import classification_report\n",
    "# Generate the classification report\n",
    "report = classification_report(Y_test, pred7)\n",
    "\n",
    "print(report)"
   ]
  },
  {
   "cell_type": "code",
   "execution_count": 185,
   "id": "2d7b782e",
   "metadata": {},
   "outputs": [],
   "source": [
    "models = [LogisticRegression(),SVC(),DecisionTreeClassifier(),RandomForestClassifier(),KNeighborsClassifier(),GaussianNB(),GradientBoostingClassifier()] "
   ]
  },
  {
   "cell_type": "markdown",
   "id": "314fa371",
   "metadata": {},
   "source": [
    "# Accuracy scores for top selected features"
   ]
  },
  {
   "cell_type": "code",
   "execution_count": 186,
   "id": "3df70ecf",
   "metadata": {},
   "outputs": [
    {
     "name": "stdout",
     "output_type": "stream",
     "text": [
      "Accuracy score for each folds: [0.95326861 0.95417476 0.95378342 0.95281248 0.94828144 0.95248883\n",
      " 0.95404233 0.95067642 0.95210046]\n",
      "Overall Accuracy: 0.9524031944292282\n"
     ]
    }
   ],
   "source": [
    "classifier=DecisionTreeClassifier()\n",
    "k=9\n",
    "cv_result=cross_val_score(classifier,X,Y,cv=k)\n",
    "print('Accuracy score for each folds:',cv_result)\n",
    "print('Overall Accuracy:',np.sum(cv_result)/k)"
   ]
  },
  {
   "cell_type": "markdown",
   "id": "54a6c97c",
   "metadata": {},
   "source": [
    "#  Evaluation using new-inputs"
   ]
  },
  {
   "cell_type": "code",
   "execution_count": 210,
   "id": "48da15f8",
   "metadata": {},
   "outputs": [
    {
     "data": {
      "text/html": [
       "<div>\n",
       "<style scoped>\n",
       "    .dataframe tbody tr th:only-of-type {\n",
       "        vertical-align: middle;\n",
       "    }\n",
       "\n",
       "    .dataframe tbody tr th {\n",
       "        vertical-align: top;\n",
       "    }\n",
       "\n",
       "    .dataframe thead th {\n",
       "        text-align: right;\n",
       "    }\n",
       "</style>\n",
       "<table border=\"1\" class=\"dataframe\">\n",
       "  <thead>\n",
       "    <tr style=\"text-align: right;\">\n",
       "      <th></th>\n",
       "      <th>tobacco_consumption</th>\n",
       "      <th>alcohol_consumption</th>\n",
       "      <th>sdh_occupational_risk</th>\n",
       "      <th>gender</th>\n",
       "      <th>religion</th>\n",
       "      <th>caste</th>\n",
       "      <th>is_literate</th>\n",
       "      <th>age</th>\n",
       "      <th>education_status</th>\n",
       "      <th>occupation_status</th>\n",
       "      <th>primary_cooking_fuel</th>\n",
       "      <th>primary_drinking_water</th>\n",
       "      <th>primary_toilet</th>\n",
       "      <th>primary_transport</th>\n",
       "      <th>toilet_usage_status</th>\n",
       "      <th>primary_electricity</th>\n",
       "      <th>primary_house_material</th>\n",
       "      <th>diseases</th>\n",
       "    </tr>\n",
       "  </thead>\n",
       "  <tbody>\n",
       "    <tr>\n",
       "      <th>139038</th>\n",
       "      <td>0</td>\n",
       "      <td>0</td>\n",
       "      <td>1</td>\n",
       "      <td>1</td>\n",
       "      <td>1</td>\n",
       "      <td>3</td>\n",
       "      <td>1</td>\n",
       "      <td>61.0</td>\n",
       "      <td>3</td>\n",
       "      <td>4</td>\n",
       "      <td>1</td>\n",
       "      <td>4</td>\n",
       "      <td>6</td>\n",
       "      <td>1</td>\n",
       "      <td>1</td>\n",
       "      <td>1</td>\n",
       "      <td>3</td>\n",
       "      <td>1</td>\n",
       "    </tr>\n",
       "    <tr>\n",
       "      <th>139039</th>\n",
       "      <td>0</td>\n",
       "      <td>0</td>\n",
       "      <td>1</td>\n",
       "      <td>0</td>\n",
       "      <td>1</td>\n",
       "      <td>3</td>\n",
       "      <td>0</td>\n",
       "      <td>55.0</td>\n",
       "      <td>2</td>\n",
       "      <td>4</td>\n",
       "      <td>1</td>\n",
       "      <td>4</td>\n",
       "      <td>6</td>\n",
       "      <td>1</td>\n",
       "      <td>1</td>\n",
       "      <td>1</td>\n",
       "      <td>3</td>\n",
       "      <td>0</td>\n",
       "    </tr>\n",
       "    <tr>\n",
       "      <th>139040</th>\n",
       "      <td>2</td>\n",
       "      <td>0</td>\n",
       "      <td>1</td>\n",
       "      <td>0</td>\n",
       "      <td>1</td>\n",
       "      <td>3</td>\n",
       "      <td>0</td>\n",
       "      <td>66.0</td>\n",
       "      <td>2</td>\n",
       "      <td>6</td>\n",
       "      <td>1</td>\n",
       "      <td>5</td>\n",
       "      <td>6</td>\n",
       "      <td>1</td>\n",
       "      <td>1</td>\n",
       "      <td>1</td>\n",
       "      <td>1</td>\n",
       "      <td>0</td>\n",
       "    </tr>\n",
       "    <tr>\n",
       "      <th>139041</th>\n",
       "      <td>2</td>\n",
       "      <td>0</td>\n",
       "      <td>1</td>\n",
       "      <td>1</td>\n",
       "      <td>1</td>\n",
       "      <td>3</td>\n",
       "      <td>1</td>\n",
       "      <td>65.0</td>\n",
       "      <td>4</td>\n",
       "      <td>7</td>\n",
       "      <td>6</td>\n",
       "      <td>5</td>\n",
       "      <td>1</td>\n",
       "      <td>1</td>\n",
       "      <td>3</td>\n",
       "      <td>1</td>\n",
       "      <td>3</td>\n",
       "      <td>1</td>\n",
       "    </tr>\n",
       "    <tr>\n",
       "      <th>139042</th>\n",
       "      <td>2</td>\n",
       "      <td>0</td>\n",
       "      <td>1</td>\n",
       "      <td>1</td>\n",
       "      <td>1</td>\n",
       "      <td>3</td>\n",
       "      <td>1</td>\n",
       "      <td>66.0</td>\n",
       "      <td>1</td>\n",
       "      <td>7</td>\n",
       "      <td>1</td>\n",
       "      <td>5</td>\n",
       "      <td>6</td>\n",
       "      <td>1</td>\n",
       "      <td>1</td>\n",
       "      <td>1</td>\n",
       "      <td>1</td>\n",
       "      <td>1</td>\n",
       "    </tr>\n",
       "  </tbody>\n",
       "</table>\n",
       "</div>"
      ],
      "text/plain": [
       "        tobacco_consumption  alcohol_consumption  sdh_occupational_risk  \\\n",
       "139038                    0                    0                      1   \n",
       "139039                    0                    0                      1   \n",
       "139040                    2                    0                      1   \n",
       "139041                    2                    0                      1   \n",
       "139042                    2                    0                      1   \n",
       "\n",
       "        gender  religion  caste  is_literate   age  education_status  \\\n",
       "139038       1         1      3            1  61.0                 3   \n",
       "139039       0         1      3            0  55.0                 2   \n",
       "139040       0         1      3            0  66.0                 2   \n",
       "139041       1         1      3            1  65.0                 4   \n",
       "139042       1         1      3            1  66.0                 1   \n",
       "\n",
       "        occupation_status  primary_cooking_fuel  primary_drinking_water  \\\n",
       "139038                  4                     1                       4   \n",
       "139039                  4                     1                       4   \n",
       "139040                  6                     1                       5   \n",
       "139041                  7                     6                       5   \n",
       "139042                  7                     1                       5   \n",
       "\n",
       "        primary_toilet primary_transport  toilet_usage_status  \\\n",
       "139038               6                 1                    1   \n",
       "139039               6                 1                    1   \n",
       "139040               6                 1                    1   \n",
       "139041               1                 1                    3   \n",
       "139042               6                 1                    1   \n",
       "\n",
       "        primary_electricity primary_house_material  diseases  \n",
       "139038                    1                      3         1  \n",
       "139039                    1                      3         0  \n",
       "139040                    1                      1         0  \n",
       "139041                    1                      3         1  \n",
       "139042                    1                      1         1  "
      ]
     },
     "execution_count": 210,
     "metadata": {},
     "output_type": "execute_result"
    }
   ],
   "source": [
    "df.tail()"
   ]
  },
  {
   "cell_type": "code",
   "execution_count": 211,
   "id": "4f78fa6e",
   "metadata": {},
   "outputs": [],
   "source": [
    "X=df[['tobacco_consumption', 'alcohol_consumption', 'religion', 'is_literate',\n",
    "       'education_status', 'occupation_status', 'primary_drinking_water',\n",
    "       'primary_toilet', 'toilet_usage_status']]\n",
    "Y=df[['diseases']]"
   ]
  },
  {
   "cell_type": "code",
   "execution_count": 212,
   "id": "c7a21107",
   "metadata": {},
   "outputs": [],
   "source": [
    "new=[[0,0,1,0,2,4,4,6,1]]"
   ]
  },
  {
   "cell_type": "code",
   "execution_count": 213,
   "id": "91e8fbc9",
   "metadata": {},
   "outputs": [
    {
     "name": "stderr",
     "output_type": "stream",
     "text": [
      "C:\\Users\\mounika\\anaconda3\\lib\\site-packages\\sklearn\\base.py:450: UserWarning: X does not have valid feature names, but LogisticRegression was fitted with feature names\n",
      "  warnings.warn(\n"
     ]
    },
    {
     "data": {
      "text/plain": [
       "array([1], dtype=int64)"
      ]
     },
     "execution_count": 213,
     "metadata": {},
     "output_type": "execute_result"
    }
   ],
   "source": [
    "out=model1.predict(new)\n",
    "out"
   ]
  },
  {
   "cell_type": "code",
   "execution_count": null,
   "id": "fa34a783",
   "metadata": {},
   "outputs": [],
   "source": []
  },
  {
   "cell_type": "code",
   "execution_count": 214,
   "id": "d6069cb3",
   "metadata": {},
   "outputs": [
    {
     "name": "stderr",
     "output_type": "stream",
     "text": [
      "C:\\Users\\mounika\\anaconda3\\lib\\site-packages\\sklearn\\base.py:450: UserWarning: X does not have valid feature names, but DecisionTreeClassifier was fitted with feature names\n",
      "  warnings.warn(\n"
     ]
    },
    {
     "data": {
      "text/plain": [
       "array([0], dtype=int64)"
      ]
     },
     "execution_count": 214,
     "metadata": {},
     "output_type": "execute_result"
    }
   ],
   "source": [
    "out=model3.predict(new)\n",
    "out"
   ]
  },
  {
   "cell_type": "code",
   "execution_count": 215,
   "id": "764f338f",
   "metadata": {},
   "outputs": [
    {
     "name": "stderr",
     "output_type": "stream",
     "text": [
      "C:\\Users\\mounika\\anaconda3\\lib\\site-packages\\sklearn\\base.py:450: UserWarning: X does not have valid feature names, but RandomForestClassifier was fitted with feature names\n",
      "  warnings.warn(\n"
     ]
    },
    {
     "data": {
      "text/plain": [
       "array([0], dtype=int64)"
      ]
     },
     "execution_count": 215,
     "metadata": {},
     "output_type": "execute_result"
    }
   ],
   "source": [
    "out=model4.predict(new)\n",
    "out"
   ]
  },
  {
   "cell_type": "code",
   "execution_count": 216,
   "id": "63783933",
   "metadata": {},
   "outputs": [
    {
     "name": "stderr",
     "output_type": "stream",
     "text": [
      "C:\\Users\\mounika\\anaconda3\\lib\\site-packages\\sklearn\\base.py:450: UserWarning: X does not have valid feature names, but KNeighborsClassifier was fitted with feature names\n",
      "  warnings.warn(\n"
     ]
    },
    {
     "data": {
      "text/plain": [
       "array([0], dtype=int64)"
      ]
     },
     "execution_count": 216,
     "metadata": {},
     "output_type": "execute_result"
    }
   ],
   "source": [
    "out=model5.predict(new)\n",
    "out"
   ]
  },
  {
   "cell_type": "code",
   "execution_count": 217,
   "id": "e1cd20f9",
   "metadata": {},
   "outputs": [
    {
     "name": "stderr",
     "output_type": "stream",
     "text": [
      "C:\\Users\\mounika\\anaconda3\\lib\\site-packages\\sklearn\\base.py:450: UserWarning: X does not have valid feature names, but GaussianNB was fitted with feature names\n",
      "  warnings.warn(\n"
     ]
    },
    {
     "data": {
      "text/plain": [
       "array([1], dtype=int64)"
      ]
     },
     "execution_count": 217,
     "metadata": {},
     "output_type": "execute_result"
    }
   ],
   "source": [
    "out=model6.predict(new)\n",
    "out"
   ]
  },
  {
   "cell_type": "code",
   "execution_count": 218,
   "id": "28f83523",
   "metadata": {},
   "outputs": [
    {
     "name": "stderr",
     "output_type": "stream",
     "text": [
      "C:\\Users\\mounika\\anaconda3\\lib\\site-packages\\sklearn\\base.py:450: UserWarning: X does not have valid feature names, but GradientBoostingClassifier was fitted with feature names\n",
      "  warnings.warn(\n"
     ]
    },
    {
     "data": {
      "text/plain": [
       "array([1], dtype=int64)"
      ]
     },
     "execution_count": 218,
     "metadata": {},
     "output_type": "execute_result"
    }
   ],
   "source": [
    "out=model7.predict(new)\n",
    "out"
   ]
  },
  {
   "cell_type": "code",
   "execution_count": null,
   "id": "2e2a0729",
   "metadata": {},
   "outputs": [],
   "source": []
  },
  {
   "cell_type": "code",
   "execution_count": null,
   "id": "d0798ca1",
   "metadata": {},
   "outputs": [],
   "source": []
  },
  {
   "cell_type": "code",
   "execution_count": null,
   "id": "3c22bb11",
   "metadata": {},
   "outputs": [],
   "source": []
  },
  {
   "cell_type": "code",
   "execution_count": null,
   "id": "b890197d",
   "metadata": {},
   "outputs": [],
   "source": []
  },
  {
   "cell_type": "code",
   "execution_count": null,
   "id": "72c85e92",
   "metadata": {},
   "outputs": [],
   "source": []
  },
  {
   "cell_type": "code",
   "execution_count": null,
   "id": "8984e337",
   "metadata": {},
   "outputs": [],
   "source": []
  },
  {
   "cell_type": "code",
   "execution_count": null,
   "id": "69e317e0",
   "metadata": {},
   "outputs": [],
   "source": []
  },
  {
   "cell_type": "code",
   "execution_count": null,
   "id": "512daa8e",
   "metadata": {},
   "outputs": [],
   "source": []
  }
 ],
 "metadata": {
  "kernelspec": {
   "display_name": "Python 3",
   "language": "python",
   "name": "python3"
  },
  "language_info": {
   "codemirror_mode": {
    "name": "ipython",
    "version": 3
   },
   "file_extension": ".py",
   "mimetype": "text/x-python",
   "name": "python",
   "nbconvert_exporter": "python",
   "pygments_lexer": "ipython3",
   "version": "3.9.7"
  }
 },
 "nbformat": 4,
 "nbformat_minor": 5
}
