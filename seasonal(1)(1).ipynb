{
  "nbformat": 4,
  "nbformat_minor": 0,
  "metadata": {
    "colab": {
      "provenance": []
    },
    "kernelspec": {
      "name": "python3",
      "display_name": "Python 3"
    },
    "language_info": {
      "name": "python"
    }
  },
  "cells": [
    {
      "cell_type": "code",
      "execution_count": null,
      "metadata": {
        "id": "jynjUaEJhjzZ"
      },
      "outputs": [],
      "source": [
        "\n",
        "import pandas as pd\n",
        "import numpy as np\n",
        "import matplotlib.pyplot as plt\n",
        "import seaborn as sns \n"
      ]
    },
    {
      "cell_type": "code",
      "source": [
        "data=pd.read_csv(\"H1N1_Flu_Vaccines.csv\")"
      ],
      "metadata": {
        "id": "D5W721X7irEF"
      },
      "execution_count": null,
      "outputs": []
    },
    {
      "cell_type": "code",
      "source": [
        "data.columns"
      ],
      "metadata": {
        "colab": {
          "base_uri": "https://localhost:8080/"
        },
        "id": "dvux6HyTjZHD",
        "outputId": "cb6bdb10-16ab-436d-c4bf-4eb8c2f7e2cb"
      },
      "execution_count": null,
      "outputs": [
        {
          "output_type": "execute_result",
          "data": {
            "text/plain": [
              "Index(['respondent_id', 'h1n1_concern', 'h1n1_knowledge',\n",
              "       'behavioral_antiviral_meds', 'behavioral_avoidance',\n",
              "       'behavioral_face_mask', 'behavioral_wash_hands',\n",
              "       'behavioral_large_gatherings', 'behavioral_outside_home',\n",
              "       'behavioral_touch_face', 'doctor_recc_h1n1', 'doctor_recc_seasonal',\n",
              "       'chronic_med_condition', 'child_under_6_months', 'health_worker',\n",
              "       'health_insurance', 'opinion_h1n1_vacc_effective', 'opinion_h1n1_risk',\n",
              "       'opinion_h1n1_sick_from_vacc', 'opinion_seas_vacc_effective',\n",
              "       'opinion_seas_risk', 'opinion_seas_sick_from_vacc', 'age_group',\n",
              "       'education', 'race', 'sex', 'income_poverty', 'marital_status',\n",
              "       'rent_or_own', 'employment_status', 'hhs_geo_region', 'census_msa',\n",
              "       'household_adults', 'household_children', 'employment_industry',\n",
              "       'employment_occupation', 'h1n1_vaccine', 'seasonal_vaccine'],\n",
              "      dtype='object')"
            ]
          },
          "metadata": {},
          "execution_count": 380
        }
      ]
    },
    {
      "cell_type": "code",
      "source": [
        "data.drop([ 'h1n1_vaccine','respondent_id'],axis=1,inplace=True)"
      ],
      "metadata": {
        "id": "JQ14xPk5jSeE"
      },
      "execution_count": null,
      "outputs": []
    },
    {
      "cell_type": "code",
      "source": [
        "data.shape"
      ],
      "metadata": {
        "colab": {
          "base_uri": "https://localhost:8080/"
        },
        "id": "NBl64JIpjqq7",
        "outputId": "c3595f1f-102f-4609-a46e-f3b41437ae7d"
      },
      "execution_count": null,
      "outputs": [
        {
          "output_type": "execute_result",
          "data": {
            "text/plain": [
              "(26707, 36)"
            ]
          },
          "metadata": {},
          "execution_count": 382
        }
      ]
    },
    {
      "cell_type": "code",
      "source": [
        "data.isnull().sum()"
      ],
      "metadata": {
        "colab": {
          "base_uri": "https://localhost:8080/"
        },
        "id": "yXi0yiTfj5pk",
        "outputId": "ced9ea27-f97e-43c1-d980-55dc1fe279ee"
      },
      "execution_count": null,
      "outputs": [
        {
          "output_type": "execute_result",
          "data": {
            "text/plain": [
              "h1n1_concern                      92\n",
              "h1n1_knowledge                   116\n",
              "behavioral_antiviral_meds         71\n",
              "behavioral_avoidance             208\n",
              "behavioral_face_mask              19\n",
              "behavioral_wash_hands             42\n",
              "behavioral_large_gatherings       87\n",
              "behavioral_outside_home           82\n",
              "behavioral_touch_face            128\n",
              "doctor_recc_h1n1                2160\n",
              "doctor_recc_seasonal            2160\n",
              "chronic_med_condition            971\n",
              "child_under_6_months             820\n",
              "health_worker                    804\n",
              "health_insurance               12274\n",
              "opinion_h1n1_vacc_effective      391\n",
              "opinion_h1n1_risk                388\n",
              "opinion_h1n1_sick_from_vacc      395\n",
              "opinion_seas_vacc_effective      462\n",
              "opinion_seas_risk                514\n",
              "opinion_seas_sick_from_vacc      537\n",
              "age_group                          0\n",
              "education                       1407\n",
              "race                               0\n",
              "sex                                0\n",
              "income_poverty                  4423\n",
              "marital_status                  1408\n",
              "rent_or_own                     2042\n",
              "employment_status               1463\n",
              "hhs_geo_region                     0\n",
              "census_msa                         0\n",
              "household_adults                 249\n",
              "household_children               249\n",
              "employment_industry            13330\n",
              "employment_occupation          13470\n",
              "seasonal_vaccine                   0\n",
              "dtype: int64"
            ]
          },
          "metadata": {},
          "execution_count": 383
        }
      ]
    },
    {
      "cell_type": "code",
      "source": [
        "data = data.fillna(data.median())\n",
        "data = round(data)\n",
        "data = data.fillna('No Category')"
      ],
      "metadata": {
        "colab": {
          "base_uri": "https://localhost:8080/"
        },
        "id": "OO07Bg_NkBO0",
        "outputId": "2eb90892-4891-43f3-9b67-24c64efc8781"
      },
      "execution_count": null,
      "outputs": [
        {
          "output_type": "stream",
          "name": "stderr",
          "text": [
            "<ipython-input-384-31229b21cf10>:1: FutureWarning: Dropping of nuisance columns in DataFrame reductions (with 'numeric_only=None') is deprecated; in a future version this will raise TypeError.  Select only valid columns before calling the reduction.\n",
            "  data = data.fillna(data.median())\n"
          ]
        }
      ]
    },
    {
      "cell_type": "code",
      "source": [
        "data.isnull().sum()"
      ],
      "metadata": {
        "colab": {
          "base_uri": "https://localhost:8080/"
        },
        "id": "7X047OMBkWhb",
        "outputId": "d33a27b7-ac20-4da8-837c-9032bebab4d9"
      },
      "execution_count": null,
      "outputs": [
        {
          "output_type": "execute_result",
          "data": {
            "text/plain": [
              "h1n1_concern                   0\n",
              "h1n1_knowledge                 0\n",
              "behavioral_antiviral_meds      0\n",
              "behavioral_avoidance           0\n",
              "behavioral_face_mask           0\n",
              "behavioral_wash_hands          0\n",
              "behavioral_large_gatherings    0\n",
              "behavioral_outside_home        0\n",
              "behavioral_touch_face          0\n",
              "doctor_recc_h1n1               0\n",
              "doctor_recc_seasonal           0\n",
              "chronic_med_condition          0\n",
              "child_under_6_months           0\n",
              "health_worker                  0\n",
              "health_insurance               0\n",
              "opinion_h1n1_vacc_effective    0\n",
              "opinion_h1n1_risk              0\n",
              "opinion_h1n1_sick_from_vacc    0\n",
              "opinion_seas_vacc_effective    0\n",
              "opinion_seas_risk              0\n",
              "opinion_seas_sick_from_vacc    0\n",
              "age_group                      0\n",
              "education                      0\n",
              "race                           0\n",
              "sex                            0\n",
              "income_poverty                 0\n",
              "marital_status                 0\n",
              "rent_or_own                    0\n",
              "employment_status              0\n",
              "hhs_geo_region                 0\n",
              "census_msa                     0\n",
              "household_adults               0\n",
              "household_children             0\n",
              "employment_industry            0\n",
              "employment_occupation          0\n",
              "seasonal_vaccine               0\n",
              "dtype: int64"
            ]
          },
          "metadata": {},
          "execution_count": 385
        }
      ]
    },
    {
      "cell_type": "code",
      "source": [
        "data.info()"
      ],
      "metadata": {
        "colab": {
          "base_uri": "https://localhost:8080/"
        },
        "id": "dq6Ct2ZOkeyv",
        "outputId": "34d0ad9d-936a-463b-9811-81a94278d459"
      },
      "execution_count": null,
      "outputs": [
        {
          "output_type": "stream",
          "name": "stdout",
          "text": [
            "<class 'pandas.core.frame.DataFrame'>\n",
            "RangeIndex: 26707 entries, 0 to 26706\n",
            "Data columns (total 36 columns):\n",
            " #   Column                       Non-Null Count  Dtype  \n",
            "---  ------                       --------------  -----  \n",
            " 0   h1n1_concern                 26707 non-null  float64\n",
            " 1   h1n1_knowledge               26707 non-null  float64\n",
            " 2   behavioral_antiviral_meds    26707 non-null  float64\n",
            " 3   behavioral_avoidance         26707 non-null  float64\n",
            " 4   behavioral_face_mask         26707 non-null  float64\n",
            " 5   behavioral_wash_hands        26707 non-null  float64\n",
            " 6   behavioral_large_gatherings  26707 non-null  float64\n",
            " 7   behavioral_outside_home      26707 non-null  float64\n",
            " 8   behavioral_touch_face        26707 non-null  float64\n",
            " 9   doctor_recc_h1n1             26707 non-null  float64\n",
            " 10  doctor_recc_seasonal         26707 non-null  float64\n",
            " 11  chronic_med_condition        26707 non-null  float64\n",
            " 12  child_under_6_months         26707 non-null  float64\n",
            " 13  health_worker                26707 non-null  float64\n",
            " 14  health_insurance             26707 non-null  float64\n",
            " 15  opinion_h1n1_vacc_effective  26707 non-null  float64\n",
            " 16  opinion_h1n1_risk            26707 non-null  float64\n",
            " 17  opinion_h1n1_sick_from_vacc  26707 non-null  float64\n",
            " 18  opinion_seas_vacc_effective  26707 non-null  float64\n",
            " 19  opinion_seas_risk            26707 non-null  float64\n",
            " 20  opinion_seas_sick_from_vacc  26707 non-null  float64\n",
            " 21  age_group                    26707 non-null  object \n",
            " 22  education                    26707 non-null  object \n",
            " 23  race                         26707 non-null  object \n",
            " 24  sex                          26707 non-null  object \n",
            " 25  income_poverty               26707 non-null  object \n",
            " 26  marital_status               26707 non-null  object \n",
            " 27  rent_or_own                  26707 non-null  object \n",
            " 28  employment_status            26707 non-null  object \n",
            " 29  hhs_geo_region               26707 non-null  object \n",
            " 30  census_msa                   26707 non-null  object \n",
            " 31  household_adults             26707 non-null  float64\n",
            " 32  household_children           26707 non-null  float64\n",
            " 33  employment_industry          26707 non-null  object \n",
            " 34  employment_occupation        26707 non-null  object \n",
            " 35  seasonal_vaccine             26707 non-null  int64  \n",
            "dtypes: float64(23), int64(1), object(12)\n",
            "memory usage: 7.3+ MB\n"
          ]
        }
      ]
    },
    {
      "cell_type": "code",
      "source": [
        "from sklearn import preprocessing\n",
        "label_encoder = preprocessing.LabelEncoder()\n",
        "data['employment_occupation']= label_encoder.fit_transform(data['employment_occupation'])\n",
        "data['employment_industry']= label_encoder.fit_transform(data['employment_industry'])\n",
        "data['census_msa']= label_encoder.fit_transform(data['census_msa'])\n",
        "data['hhs_geo_region']= label_encoder.fit_transform(data['hhs_geo_region'])\n",
        "data['employment_status']= label_encoder.fit_transform(data['employment_status'])\n",
        "data['rent_or_own']= label_encoder.fit_transform(data['rent_or_own'])\n",
        "data['marital_status']= label_encoder.fit_transform(data['marital_status'])\n",
        "data['income_poverty']= label_encoder.fit_transform(data['income_poverty'])\n",
        "data['sex']= label_encoder.fit_transform(data['sex'])\n",
        "data['race']= label_encoder.fit_transform(data['race'])\n",
        "data['education']= label_encoder.fit_transform(data['education'])\n",
        "data['age_group']= label_encoder.fit_transform(data['age_group'])"
      ],
      "metadata": {
        "id": "yUDWc6QVmOZI"
      },
      "execution_count": null,
      "outputs": []
    },
    {
      "cell_type": "code",
      "source": [
        "data.info()"
      ],
      "metadata": {
        "colab": {
          "base_uri": "https://localhost:8080/"
        },
        "id": "qtEWfZQzmPWj",
        "outputId": "7a98ea09-aa62-4b84-ea7a-663fe7ceece0"
      },
      "execution_count": null,
      "outputs": [
        {
          "output_type": "stream",
          "name": "stdout",
          "text": [
            "<class 'pandas.core.frame.DataFrame'>\n",
            "RangeIndex: 26707 entries, 0 to 26706\n",
            "Data columns (total 36 columns):\n",
            " #   Column                       Non-Null Count  Dtype  \n",
            "---  ------                       --------------  -----  \n",
            " 0   h1n1_concern                 26707 non-null  float64\n",
            " 1   h1n1_knowledge               26707 non-null  float64\n",
            " 2   behavioral_antiviral_meds    26707 non-null  float64\n",
            " 3   behavioral_avoidance         26707 non-null  float64\n",
            " 4   behavioral_face_mask         26707 non-null  float64\n",
            " 5   behavioral_wash_hands        26707 non-null  float64\n",
            " 6   behavioral_large_gatherings  26707 non-null  float64\n",
            " 7   behavioral_outside_home      26707 non-null  float64\n",
            " 8   behavioral_touch_face        26707 non-null  float64\n",
            " 9   doctor_recc_h1n1             26707 non-null  float64\n",
            " 10  doctor_recc_seasonal         26707 non-null  float64\n",
            " 11  chronic_med_condition        26707 non-null  float64\n",
            " 12  child_under_6_months         26707 non-null  float64\n",
            " 13  health_worker                26707 non-null  float64\n",
            " 14  health_insurance             26707 non-null  float64\n",
            " 15  opinion_h1n1_vacc_effective  26707 non-null  float64\n",
            " 16  opinion_h1n1_risk            26707 non-null  float64\n",
            " 17  opinion_h1n1_sick_from_vacc  26707 non-null  float64\n",
            " 18  opinion_seas_vacc_effective  26707 non-null  float64\n",
            " 19  opinion_seas_risk            26707 non-null  float64\n",
            " 20  opinion_seas_sick_from_vacc  26707 non-null  float64\n",
            " 21  age_group                    26707 non-null  int64  \n",
            " 22  education                    26707 non-null  int64  \n",
            " 23  race                         26707 non-null  int64  \n",
            " 24  sex                          26707 non-null  int64  \n",
            " 25  income_poverty               26707 non-null  int64  \n",
            " 26  marital_status               26707 non-null  int64  \n",
            " 27  rent_or_own                  26707 non-null  int64  \n",
            " 28  employment_status            26707 non-null  int64  \n",
            " 29  hhs_geo_region               26707 non-null  int64  \n",
            " 30  census_msa                   26707 non-null  int64  \n",
            " 31  household_adults             26707 non-null  float64\n",
            " 32  household_children           26707 non-null  float64\n",
            " 33  employment_industry          26707 non-null  int64  \n",
            " 34  employment_occupation        26707 non-null  int64  \n",
            " 35  seasonal_vaccine             26707 non-null  int64  \n",
            "dtypes: float64(23), int64(13)\n",
            "memory usage: 7.3 MB\n"
          ]
        }
      ]
    },
    {
      "cell_type": "code",
      "source": [
        "X=data.iloc[:,0:34]\n",
        "y=data.iloc[:,-1]\n",
        "\n",
        "\n"
      ],
      "metadata": {
        "id": "QoMfNFLvxDxj"
      },
      "execution_count": null,
      "outputs": []
    },
    {
      "cell_type": "code",
      "source": [
        "from sklearn.model_selection import train_test_split\n",
        "\n",
        "X_train, X_test, y_train, y_test =\\\n",
        "    train_test_split(X, y, \n",
        "                     test_size=0.3, \n",
        "                     random_state=0, \n",
        "                     stratify=y)"
      ],
      "metadata": {
        "id": "fE5BPcehmSHI"
      },
      "execution_count": null,
      "outputs": []
    },
    {
      "cell_type": "code",
      "source": [
        "from sklearn.preprocessing import StandardScaler\n",
        "\n",
        "\n",
        "sc = StandardScaler()\n",
        "X_train_std = sc.fit_transform(X_train)\n",
        "X_test_std = sc.transform(X_test)"
      ],
      "metadata": {
        "id": "CwTkr7Grwmz0"
      },
      "execution_count": null,
      "outputs": []
    },
    {
      "cell_type": "code",
      "source": [
        "#apply SelectKBest class to extract top 10 best features\n",
        "from sklearn.feature_selection import SelectKBest\n",
        "from sklearn.feature_selection import chi2\n",
        "bestfeatures = SelectKBest(score_func=chi2, k=10)\n",
        "fit = bestfeatures.fit(X,y)\n",
        "dfscores = pd.DataFrame(fit.scores_)\n",
        "dfcolumns = pd.DataFrame(X.columns)\n",
        "#concat two dataframes for better visualization \n",
        "featureScores = pd.concat([dfcolumns,dfscores],axis=1)\n",
        "featureScores.columns = ['Specs','Score']  #naming the dataframe columns\n",
        "print(featureScores.nlargest(10,'Score'))  #print 10 best features"
      ],
      "metadata": {
        "colab": {
          "base_uri": "https://localhost:8080/"
        },
        "id": "lR4eAM48wsiY",
        "outputId": "55e54f91-0586-4eaf-9c73-11e997a326c8"
      },
      "execution_count": null,
      "outputs": [
        {
          "output_type": "stream",
          "name": "stdout",
          "text": [
            "                          Specs        Score\n",
            "33          employment_industry  3768.164305\n",
            "19            opinion_seas_risk  2794.888237\n",
            "10         doctor_recc_seasonal  2421.579654\n",
            "21                    age_group  1997.217625\n",
            "18  opinion_seas_vacc_effective   991.273021\n",
            "16            opinion_h1n1_risk   866.169464\n",
            "9              doctor_recc_h1n1   839.733852\n",
            "11        chronic_med_condition   557.625394\n",
            "32           household_children   538.442999\n",
            "13                health_worker   383.862558\n"
          ]
        }
      ]
    },
    {
      "cell_type": "code",
      "source": [
        "df=data.iloc[:,[33,19,10,21,18,16,9,11,32,13,-1]]\n",
        "df"
      ],
      "metadata": {
        "colab": {
          "base_uri": "https://localhost:8080/",
          "height": 488
        },
        "id": "11lhoKF-xQ8s",
        "outputId": "ef376be1-7385-471f-9e2a-cc12cf401d05"
      },
      "execution_count": null,
      "outputs": [
        {
          "output_type": "execute_result",
          "data": {
            "text/plain": [
              "       employment_industry  opinion_seas_risk  doctor_recc_seasonal  \\\n",
              "0                        0                1.0                   0.0   \n",
              "1                       13                2.0                   0.0   \n",
              "2                       15                1.0                   0.0   \n",
              "3                        0                4.0                   1.0   \n",
              "4                       19                1.0                   0.0   \n",
              "...                    ...                ...                   ...   \n",
              "26702                    0                2.0                   0.0   \n",
              "26703                    5                1.0                   1.0   \n",
              "26704                    0                4.0                   0.0   \n",
              "26705                    5                1.0                   0.0   \n",
              "26706                    0                1.0                   0.0   \n",
              "\n",
              "       age_group  opinion_seas_vacc_effective  opinion_h1n1_risk  \\\n",
              "0              3                          2.0                1.0   \n",
              "1              1                          4.0                4.0   \n",
              "2              0                          4.0                1.0   \n",
              "3              4                          5.0                3.0   \n",
              "4              2                          3.0                3.0   \n",
              "...          ...                          ...                ...   \n",
              "26702          4                          5.0                1.0   \n",
              "26703          0                          5.0                2.0   \n",
              "26704          3                          5.0                4.0   \n",
              "26705          0                          2.0                1.0   \n",
              "26706          4                          5.0                1.0   \n",
              "\n",
              "       doctor_recc_h1n1  chronic_med_condition  household_children  \\\n",
              "0                   0.0                    0.0                 0.0   \n",
              "1                   0.0                    0.0                 0.0   \n",
              "2                   0.0                    1.0                 0.0   \n",
              "3                   0.0                    1.0                 0.0   \n",
              "4                   0.0                    0.0                 0.0   \n",
              "...                 ...                    ...                 ...   \n",
              "26702               0.0                    0.0                 0.0   \n",
              "26703               1.0                    0.0                 0.0   \n",
              "26704               0.0                    0.0                 0.0   \n",
              "26705               0.0                    0.0                 0.0   \n",
              "26706               0.0                    0.0                 0.0   \n",
              "\n",
              "       health_worker  seasonal_vaccine  \n",
              "0                0.0                 0  \n",
              "1                0.0                 1  \n",
              "2                0.0                 0  \n",
              "3                0.0                 1  \n",
              "4                0.0                 0  \n",
              "...              ...               ...  \n",
              "26702            0.0                 0  \n",
              "26703            1.0                 0  \n",
              "26704            0.0                 1  \n",
              "26705            0.0                 0  \n",
              "26706            0.0                 0  \n",
              "\n",
              "[26707 rows x 11 columns]"
            ],
            "text/html": [
              "\n",
              "  <div id=\"df-c0c0c740-9f6b-45b2-a408-fb37d0fe2246\">\n",
              "    <div class=\"colab-df-container\">\n",
              "      <div>\n",
              "<style scoped>\n",
              "    .dataframe tbody tr th:only-of-type {\n",
              "        vertical-align: middle;\n",
              "    }\n",
              "\n",
              "    .dataframe tbody tr th {\n",
              "        vertical-align: top;\n",
              "    }\n",
              "\n",
              "    .dataframe thead th {\n",
              "        text-align: right;\n",
              "    }\n",
              "</style>\n",
              "<table border=\"1\" class=\"dataframe\">\n",
              "  <thead>\n",
              "    <tr style=\"text-align: right;\">\n",
              "      <th></th>\n",
              "      <th>employment_industry</th>\n",
              "      <th>opinion_seas_risk</th>\n",
              "      <th>doctor_recc_seasonal</th>\n",
              "      <th>age_group</th>\n",
              "      <th>opinion_seas_vacc_effective</th>\n",
              "      <th>opinion_h1n1_risk</th>\n",
              "      <th>doctor_recc_h1n1</th>\n",
              "      <th>chronic_med_condition</th>\n",
              "      <th>household_children</th>\n",
              "      <th>health_worker</th>\n",
              "      <th>seasonal_vaccine</th>\n",
              "    </tr>\n",
              "  </thead>\n",
              "  <tbody>\n",
              "    <tr>\n",
              "      <th>0</th>\n",
              "      <td>0</td>\n",
              "      <td>1.0</td>\n",
              "      <td>0.0</td>\n",
              "      <td>3</td>\n",
              "      <td>2.0</td>\n",
              "      <td>1.0</td>\n",
              "      <td>0.0</td>\n",
              "      <td>0.0</td>\n",
              "      <td>0.0</td>\n",
              "      <td>0.0</td>\n",
              "      <td>0</td>\n",
              "    </tr>\n",
              "    <tr>\n",
              "      <th>1</th>\n",
              "      <td>13</td>\n",
              "      <td>2.0</td>\n",
              "      <td>0.0</td>\n",
              "      <td>1</td>\n",
              "      <td>4.0</td>\n",
              "      <td>4.0</td>\n",
              "      <td>0.0</td>\n",
              "      <td>0.0</td>\n",
              "      <td>0.0</td>\n",
              "      <td>0.0</td>\n",
              "      <td>1</td>\n",
              "    </tr>\n",
              "    <tr>\n",
              "      <th>2</th>\n",
              "      <td>15</td>\n",
              "      <td>1.0</td>\n",
              "      <td>0.0</td>\n",
              "      <td>0</td>\n",
              "      <td>4.0</td>\n",
              "      <td>1.0</td>\n",
              "      <td>0.0</td>\n",
              "      <td>1.0</td>\n",
              "      <td>0.0</td>\n",
              "      <td>0.0</td>\n",
              "      <td>0</td>\n",
              "    </tr>\n",
              "    <tr>\n",
              "      <th>3</th>\n",
              "      <td>0</td>\n",
              "      <td>4.0</td>\n",
              "      <td>1.0</td>\n",
              "      <td>4</td>\n",
              "      <td>5.0</td>\n",
              "      <td>3.0</td>\n",
              "      <td>0.0</td>\n",
              "      <td>1.0</td>\n",
              "      <td>0.0</td>\n",
              "      <td>0.0</td>\n",
              "      <td>1</td>\n",
              "    </tr>\n",
              "    <tr>\n",
              "      <th>4</th>\n",
              "      <td>19</td>\n",
              "      <td>1.0</td>\n",
              "      <td>0.0</td>\n",
              "      <td>2</td>\n",
              "      <td>3.0</td>\n",
              "      <td>3.0</td>\n",
              "      <td>0.0</td>\n",
              "      <td>0.0</td>\n",
              "      <td>0.0</td>\n",
              "      <td>0.0</td>\n",
              "      <td>0</td>\n",
              "    </tr>\n",
              "    <tr>\n",
              "      <th>...</th>\n",
              "      <td>...</td>\n",
              "      <td>...</td>\n",
              "      <td>...</td>\n",
              "      <td>...</td>\n",
              "      <td>...</td>\n",
              "      <td>...</td>\n",
              "      <td>...</td>\n",
              "      <td>...</td>\n",
              "      <td>...</td>\n",
              "      <td>...</td>\n",
              "      <td>...</td>\n",
              "    </tr>\n",
              "    <tr>\n",
              "      <th>26702</th>\n",
              "      <td>0</td>\n",
              "      <td>2.0</td>\n",
              "      <td>0.0</td>\n",
              "      <td>4</td>\n",
              "      <td>5.0</td>\n",
              "      <td>1.0</td>\n",
              "      <td>0.0</td>\n",
              "      <td>0.0</td>\n",
              "      <td>0.0</td>\n",
              "      <td>0.0</td>\n",
              "      <td>0</td>\n",
              "    </tr>\n",
              "    <tr>\n",
              "      <th>26703</th>\n",
              "      <td>5</td>\n",
              "      <td>1.0</td>\n",
              "      <td>1.0</td>\n",
              "      <td>0</td>\n",
              "      <td>5.0</td>\n",
              "      <td>2.0</td>\n",
              "      <td>1.0</td>\n",
              "      <td>0.0</td>\n",
              "      <td>0.0</td>\n",
              "      <td>1.0</td>\n",
              "      <td>0</td>\n",
              "    </tr>\n",
              "    <tr>\n",
              "      <th>26704</th>\n",
              "      <td>0</td>\n",
              "      <td>4.0</td>\n",
              "      <td>0.0</td>\n",
              "      <td>3</td>\n",
              "      <td>5.0</td>\n",
              "      <td>4.0</td>\n",
              "      <td>0.0</td>\n",
              "      <td>0.0</td>\n",
              "      <td>0.0</td>\n",
              "      <td>0.0</td>\n",
              "      <td>1</td>\n",
              "    </tr>\n",
              "    <tr>\n",
              "      <th>26705</th>\n",
              "      <td>5</td>\n",
              "      <td>1.0</td>\n",
              "      <td>0.0</td>\n",
              "      <td>0</td>\n",
              "      <td>2.0</td>\n",
              "      <td>1.0</td>\n",
              "      <td>0.0</td>\n",
              "      <td>0.0</td>\n",
              "      <td>0.0</td>\n",
              "      <td>0.0</td>\n",
              "      <td>0</td>\n",
              "    </tr>\n",
              "    <tr>\n",
              "      <th>26706</th>\n",
              "      <td>0</td>\n",
              "      <td>1.0</td>\n",
              "      <td>0.0</td>\n",
              "      <td>4</td>\n",
              "      <td>5.0</td>\n",
              "      <td>1.0</td>\n",
              "      <td>0.0</td>\n",
              "      <td>0.0</td>\n",
              "      <td>0.0</td>\n",
              "      <td>0.0</td>\n",
              "      <td>0</td>\n",
              "    </tr>\n",
              "  </tbody>\n",
              "</table>\n",
              "<p>26707 rows × 11 columns</p>\n",
              "</div>\n",
              "      <button class=\"colab-df-convert\" onclick=\"convertToInteractive('df-c0c0c740-9f6b-45b2-a408-fb37d0fe2246')\"\n",
              "              title=\"Convert this dataframe to an interactive table.\"\n",
              "              style=\"display:none;\">\n",
              "        \n",
              "  <svg xmlns=\"http://www.w3.org/2000/svg\" height=\"24px\"viewBox=\"0 0 24 24\"\n",
              "       width=\"24px\">\n",
              "    <path d=\"M0 0h24v24H0V0z\" fill=\"none\"/>\n",
              "    <path d=\"M18.56 5.44l.94 2.06.94-2.06 2.06-.94-2.06-.94-.94-2.06-.94 2.06-2.06.94zm-11 1L8.5 8.5l.94-2.06 2.06-.94-2.06-.94L8.5 2.5l-.94 2.06-2.06.94zm10 10l.94 2.06.94-2.06 2.06-.94-2.06-.94-.94-2.06-.94 2.06-2.06.94z\"/><path d=\"M17.41 7.96l-1.37-1.37c-.4-.4-.92-.59-1.43-.59-.52 0-1.04.2-1.43.59L10.3 9.45l-7.72 7.72c-.78.78-.78 2.05 0 2.83L4 21.41c.39.39.9.59 1.41.59.51 0 1.02-.2 1.41-.59l7.78-7.78 2.81-2.81c.8-.78.8-2.07 0-2.86zM5.41 20L4 18.59l7.72-7.72 1.47 1.35L5.41 20z\"/>\n",
              "  </svg>\n",
              "      </button>\n",
              "      \n",
              "  <style>\n",
              "    .colab-df-container {\n",
              "      display:flex;\n",
              "      flex-wrap:wrap;\n",
              "      gap: 12px;\n",
              "    }\n",
              "\n",
              "    .colab-df-convert {\n",
              "      background-color: #E8F0FE;\n",
              "      border: none;\n",
              "      border-radius: 50%;\n",
              "      cursor: pointer;\n",
              "      display: none;\n",
              "      fill: #1967D2;\n",
              "      height: 32px;\n",
              "      padding: 0 0 0 0;\n",
              "      width: 32px;\n",
              "    }\n",
              "\n",
              "    .colab-df-convert:hover {\n",
              "      background-color: #E2EBFA;\n",
              "      box-shadow: 0px 1px 2px rgba(60, 64, 67, 0.3), 0px 1px 3px 1px rgba(60, 64, 67, 0.15);\n",
              "      fill: #174EA6;\n",
              "    }\n",
              "\n",
              "    [theme=dark] .colab-df-convert {\n",
              "      background-color: #3B4455;\n",
              "      fill: #D2E3FC;\n",
              "    }\n",
              "\n",
              "    [theme=dark] .colab-df-convert:hover {\n",
              "      background-color: #434B5C;\n",
              "      box-shadow: 0px 1px 3px 1px rgba(0, 0, 0, 0.15);\n",
              "      filter: drop-shadow(0px 1px 2px rgba(0, 0, 0, 0.3));\n",
              "      fill: #FFFFFF;\n",
              "    }\n",
              "  </style>\n",
              "\n",
              "      <script>\n",
              "        const buttonEl =\n",
              "          document.querySelector('#df-c0c0c740-9f6b-45b2-a408-fb37d0fe2246 button.colab-df-convert');\n",
              "        buttonEl.style.display =\n",
              "          google.colab.kernel.accessAllowed ? 'block' : 'none';\n",
              "\n",
              "        async function convertToInteractive(key) {\n",
              "          const element = document.querySelector('#df-c0c0c740-9f6b-45b2-a408-fb37d0fe2246');\n",
              "          const dataTable =\n",
              "            await google.colab.kernel.invokeFunction('convertToInteractive',\n",
              "                                                     [key], {});\n",
              "          if (!dataTable) return;\n",
              "\n",
              "          const docLinkHtml = 'Like what you see? Visit the ' +\n",
              "            '<a target=\"_blank\" href=https://colab.research.google.com/notebooks/data_table.ipynb>data table notebook</a>'\n",
              "            + ' to learn more about interactive tables.';\n",
              "          element.innerHTML = '';\n",
              "          dataTable['output_type'] = 'display_data';\n",
              "          await google.colab.output.renderOutput(dataTable, element);\n",
              "          const docLink = document.createElement('div');\n",
              "          docLink.innerHTML = docLinkHtml;\n",
              "          element.appendChild(docLink);\n",
              "        }\n",
              "      </script>\n",
              "    </div>\n",
              "  </div>\n",
              "  "
            ]
          },
          "metadata": {},
          "execution_count": 393
        }
      ]
    },
    {
      "cell_type": "code",
      "source": [
        "df.shape"
      ],
      "metadata": {
        "colab": {
          "base_uri": "https://localhost:8080/"
        },
        "id": "yAdb-042zcki",
        "outputId": "bb85cc3b-6720-42e9-df76-086dca545306"
      },
      "execution_count": null,
      "outputs": [
        {
          "output_type": "execute_result",
          "data": {
            "text/plain": [
              "(26707, 11)"
            ]
          },
          "metadata": {},
          "execution_count": 394
        }
      ]
    },
    {
      "cell_type": "code",
      "source": [
        "df.describe()"
      ],
      "metadata": {
        "colab": {
          "base_uri": "https://localhost:8080/",
          "height": 364
        },
        "id": "asHhcppD0EGo",
        "outputId": "3c3e899d-12b6-4851-ed1a-ebe8246d9e86"
      },
      "execution_count": null,
      "outputs": [
        {
          "output_type": "execute_result",
          "data": {
            "text/plain": [
              "       employment_industry  opinion_seas_risk  doctor_recc_seasonal  \\\n",
              "count         26707.000000       26707.000000          26707.000000   \n",
              "mean              5.290710           2.705321              0.303067   \n",
              "std               7.079824           1.375216              0.459592   \n",
              "min               0.000000           1.000000              0.000000   \n",
              "25%               0.000000           2.000000              0.000000   \n",
              "50%               1.000000           2.000000              0.000000   \n",
              "75%               9.000000           4.000000              1.000000   \n",
              "max              21.000000           5.000000              1.000000   \n",
              "\n",
              "          age_group  opinion_seas_vacc_effective  opinion_h1n1_risk  \\\n",
              "count  26707.000000                 26707.000000       26707.000000   \n",
              "mean       2.186131                     4.025536           2.337589   \n",
              "std        1.457320                     1.077131           1.276825   \n",
              "min        0.000000                     1.000000           1.000000   \n",
              "25%        1.000000                     4.000000           1.000000   \n",
              "50%        2.000000                     4.000000           2.000000   \n",
              "75%        4.000000                     5.000000           4.000000   \n",
              "max        4.000000                     5.000000           5.000000   \n",
              "\n",
              "       doctor_recc_h1n1  chronic_med_condition  household_children  \\\n",
              "count      26707.000000           26707.000000        26707.000000   \n",
              "mean           0.202494               0.272962            0.529599   \n",
              "std            0.401866               0.445490            0.925264   \n",
              "min            0.000000               0.000000            0.000000   \n",
              "25%            0.000000               0.000000            0.000000   \n",
              "50%            0.000000               0.000000            0.000000   \n",
              "75%            0.000000               1.000000            1.000000   \n",
              "max            1.000000               1.000000            3.000000   \n",
              "\n",
              "       health_worker  seasonal_vaccine  \n",
              "count   26707.000000      26707.000000  \n",
              "mean        0.108548          0.465608  \n",
              "std         0.311077          0.498825  \n",
              "min         0.000000          0.000000  \n",
              "25%         0.000000          0.000000  \n",
              "50%         0.000000          0.000000  \n",
              "75%         0.000000          1.000000  \n",
              "max         1.000000          1.000000  "
            ],
            "text/html": [
              "\n",
              "  <div id=\"df-062955f5-5e05-4b47-b1fb-6378c96f0a03\">\n",
              "    <div class=\"colab-df-container\">\n",
              "      <div>\n",
              "<style scoped>\n",
              "    .dataframe tbody tr th:only-of-type {\n",
              "        vertical-align: middle;\n",
              "    }\n",
              "\n",
              "    .dataframe tbody tr th {\n",
              "        vertical-align: top;\n",
              "    }\n",
              "\n",
              "    .dataframe thead th {\n",
              "        text-align: right;\n",
              "    }\n",
              "</style>\n",
              "<table border=\"1\" class=\"dataframe\">\n",
              "  <thead>\n",
              "    <tr style=\"text-align: right;\">\n",
              "      <th></th>\n",
              "      <th>employment_industry</th>\n",
              "      <th>opinion_seas_risk</th>\n",
              "      <th>doctor_recc_seasonal</th>\n",
              "      <th>age_group</th>\n",
              "      <th>opinion_seas_vacc_effective</th>\n",
              "      <th>opinion_h1n1_risk</th>\n",
              "      <th>doctor_recc_h1n1</th>\n",
              "      <th>chronic_med_condition</th>\n",
              "      <th>household_children</th>\n",
              "      <th>health_worker</th>\n",
              "      <th>seasonal_vaccine</th>\n",
              "    </tr>\n",
              "  </thead>\n",
              "  <tbody>\n",
              "    <tr>\n",
              "      <th>count</th>\n",
              "      <td>26707.000000</td>\n",
              "      <td>26707.000000</td>\n",
              "      <td>26707.000000</td>\n",
              "      <td>26707.000000</td>\n",
              "      <td>26707.000000</td>\n",
              "      <td>26707.000000</td>\n",
              "      <td>26707.000000</td>\n",
              "      <td>26707.000000</td>\n",
              "      <td>26707.000000</td>\n",
              "      <td>26707.000000</td>\n",
              "      <td>26707.000000</td>\n",
              "    </tr>\n",
              "    <tr>\n",
              "      <th>mean</th>\n",
              "      <td>5.290710</td>\n",
              "      <td>2.705321</td>\n",
              "      <td>0.303067</td>\n",
              "      <td>2.186131</td>\n",
              "      <td>4.025536</td>\n",
              "      <td>2.337589</td>\n",
              "      <td>0.202494</td>\n",
              "      <td>0.272962</td>\n",
              "      <td>0.529599</td>\n",
              "      <td>0.108548</td>\n",
              "      <td>0.465608</td>\n",
              "    </tr>\n",
              "    <tr>\n",
              "      <th>std</th>\n",
              "      <td>7.079824</td>\n",
              "      <td>1.375216</td>\n",
              "      <td>0.459592</td>\n",
              "      <td>1.457320</td>\n",
              "      <td>1.077131</td>\n",
              "      <td>1.276825</td>\n",
              "      <td>0.401866</td>\n",
              "      <td>0.445490</td>\n",
              "      <td>0.925264</td>\n",
              "      <td>0.311077</td>\n",
              "      <td>0.498825</td>\n",
              "    </tr>\n",
              "    <tr>\n",
              "      <th>min</th>\n",
              "      <td>0.000000</td>\n",
              "      <td>1.000000</td>\n",
              "      <td>0.000000</td>\n",
              "      <td>0.000000</td>\n",
              "      <td>1.000000</td>\n",
              "      <td>1.000000</td>\n",
              "      <td>0.000000</td>\n",
              "      <td>0.000000</td>\n",
              "      <td>0.000000</td>\n",
              "      <td>0.000000</td>\n",
              "      <td>0.000000</td>\n",
              "    </tr>\n",
              "    <tr>\n",
              "      <th>25%</th>\n",
              "      <td>0.000000</td>\n",
              "      <td>2.000000</td>\n",
              "      <td>0.000000</td>\n",
              "      <td>1.000000</td>\n",
              "      <td>4.000000</td>\n",
              "      <td>1.000000</td>\n",
              "      <td>0.000000</td>\n",
              "      <td>0.000000</td>\n",
              "      <td>0.000000</td>\n",
              "      <td>0.000000</td>\n",
              "      <td>0.000000</td>\n",
              "    </tr>\n",
              "    <tr>\n",
              "      <th>50%</th>\n",
              "      <td>1.000000</td>\n",
              "      <td>2.000000</td>\n",
              "      <td>0.000000</td>\n",
              "      <td>2.000000</td>\n",
              "      <td>4.000000</td>\n",
              "      <td>2.000000</td>\n",
              "      <td>0.000000</td>\n",
              "      <td>0.000000</td>\n",
              "      <td>0.000000</td>\n",
              "      <td>0.000000</td>\n",
              "      <td>0.000000</td>\n",
              "    </tr>\n",
              "    <tr>\n",
              "      <th>75%</th>\n",
              "      <td>9.000000</td>\n",
              "      <td>4.000000</td>\n",
              "      <td>1.000000</td>\n",
              "      <td>4.000000</td>\n",
              "      <td>5.000000</td>\n",
              "      <td>4.000000</td>\n",
              "      <td>0.000000</td>\n",
              "      <td>1.000000</td>\n",
              "      <td>1.000000</td>\n",
              "      <td>0.000000</td>\n",
              "      <td>1.000000</td>\n",
              "    </tr>\n",
              "    <tr>\n",
              "      <th>max</th>\n",
              "      <td>21.000000</td>\n",
              "      <td>5.000000</td>\n",
              "      <td>1.000000</td>\n",
              "      <td>4.000000</td>\n",
              "      <td>5.000000</td>\n",
              "      <td>5.000000</td>\n",
              "      <td>1.000000</td>\n",
              "      <td>1.000000</td>\n",
              "      <td>3.000000</td>\n",
              "      <td>1.000000</td>\n",
              "      <td>1.000000</td>\n",
              "    </tr>\n",
              "  </tbody>\n",
              "</table>\n",
              "</div>\n",
              "      <button class=\"colab-df-convert\" onclick=\"convertToInteractive('df-062955f5-5e05-4b47-b1fb-6378c96f0a03')\"\n",
              "              title=\"Convert this dataframe to an interactive table.\"\n",
              "              style=\"display:none;\">\n",
              "        \n",
              "  <svg xmlns=\"http://www.w3.org/2000/svg\" height=\"24px\"viewBox=\"0 0 24 24\"\n",
              "       width=\"24px\">\n",
              "    <path d=\"M0 0h24v24H0V0z\" fill=\"none\"/>\n",
              "    <path d=\"M18.56 5.44l.94 2.06.94-2.06 2.06-.94-2.06-.94-.94-2.06-.94 2.06-2.06.94zm-11 1L8.5 8.5l.94-2.06 2.06-.94-2.06-.94L8.5 2.5l-.94 2.06-2.06.94zm10 10l.94 2.06.94-2.06 2.06-.94-2.06-.94-.94-2.06-.94 2.06-2.06.94z\"/><path d=\"M17.41 7.96l-1.37-1.37c-.4-.4-.92-.59-1.43-.59-.52 0-1.04.2-1.43.59L10.3 9.45l-7.72 7.72c-.78.78-.78 2.05 0 2.83L4 21.41c.39.39.9.59 1.41.59.51 0 1.02-.2 1.41-.59l7.78-7.78 2.81-2.81c.8-.78.8-2.07 0-2.86zM5.41 20L4 18.59l7.72-7.72 1.47 1.35L5.41 20z\"/>\n",
              "  </svg>\n",
              "      </button>\n",
              "      \n",
              "  <style>\n",
              "    .colab-df-container {\n",
              "      display:flex;\n",
              "      flex-wrap:wrap;\n",
              "      gap: 12px;\n",
              "    }\n",
              "\n",
              "    .colab-df-convert {\n",
              "      background-color: #E8F0FE;\n",
              "      border: none;\n",
              "      border-radius: 50%;\n",
              "      cursor: pointer;\n",
              "      display: none;\n",
              "      fill: #1967D2;\n",
              "      height: 32px;\n",
              "      padding: 0 0 0 0;\n",
              "      width: 32px;\n",
              "    }\n",
              "\n",
              "    .colab-df-convert:hover {\n",
              "      background-color: #E2EBFA;\n",
              "      box-shadow: 0px 1px 2px rgba(60, 64, 67, 0.3), 0px 1px 3px 1px rgba(60, 64, 67, 0.15);\n",
              "      fill: #174EA6;\n",
              "    }\n",
              "\n",
              "    [theme=dark] .colab-df-convert {\n",
              "      background-color: #3B4455;\n",
              "      fill: #D2E3FC;\n",
              "    }\n",
              "\n",
              "    [theme=dark] .colab-df-convert:hover {\n",
              "      background-color: #434B5C;\n",
              "      box-shadow: 0px 1px 3px 1px rgba(0, 0, 0, 0.15);\n",
              "      filter: drop-shadow(0px 1px 2px rgba(0, 0, 0, 0.3));\n",
              "      fill: #FFFFFF;\n",
              "    }\n",
              "  </style>\n",
              "\n",
              "      <script>\n",
              "        const buttonEl =\n",
              "          document.querySelector('#df-062955f5-5e05-4b47-b1fb-6378c96f0a03 button.colab-df-convert');\n",
              "        buttonEl.style.display =\n",
              "          google.colab.kernel.accessAllowed ? 'block' : 'none';\n",
              "\n",
              "        async function convertToInteractive(key) {\n",
              "          const element = document.querySelector('#df-062955f5-5e05-4b47-b1fb-6378c96f0a03');\n",
              "          const dataTable =\n",
              "            await google.colab.kernel.invokeFunction('convertToInteractive',\n",
              "                                                     [key], {});\n",
              "          if (!dataTable) return;\n",
              "\n",
              "          const docLinkHtml = 'Like what you see? Visit the ' +\n",
              "            '<a target=\"_blank\" href=https://colab.research.google.com/notebooks/data_table.ipynb>data table notebook</a>'\n",
              "            + ' to learn more about interactive tables.';\n",
              "          element.innerHTML = '';\n",
              "          dataTable['output_type'] = 'display_data';\n",
              "          await google.colab.output.renderOutput(dataTable, element);\n",
              "          const docLink = document.createElement('div');\n",
              "          docLink.innerHTML = docLinkHtml;\n",
              "          element.appendChild(docLink);\n",
              "        }\n",
              "      </script>\n",
              "    </div>\n",
              "  </div>\n",
              "  "
            ]
          },
          "metadata": {},
          "execution_count": 396
        }
      ]
    },
    {
      "cell_type": "code",
      "source": [
        "from sklearn.preprocessing import LabelEncoder\n",
        "le=LabelEncoder()\n",
        "for col in df:\n",
        "  df[col]=le.fit_transform(df[col])\n"
      ],
      "metadata": {
        "colab": {
          "base_uri": "https://localhost:8080/"
        },
        "id": "-NwO9wEk04uR",
        "outputId": "31bb2dec-7bfd-4826-afa0-8ab92edc7b6f"
      },
      "execution_count": null,
      "outputs": [
        {
          "output_type": "stream",
          "name": "stderr",
          "text": [
            "<ipython-input-397-a99054263b82>:4: SettingWithCopyWarning: \n",
            "A value is trying to be set on a copy of a slice from a DataFrame.\n",
            "Try using .loc[row_indexer,col_indexer] = value instead\n",
            "\n",
            "See the caveats in the documentation: https://pandas.pydata.org/pandas-docs/stable/user_guide/indexing.html#returning-a-view-versus-a-copy\n",
            "  df[col]=le.fit_transform(df[col])\n"
          ]
        }
      ]
    },
    {
      "cell_type": "code",
      "source": [
        "plt.figure(figsize=[30,10])\n",
        "for col in df:\n",
        "  sns.boxplot(x='variable',y='value',data=pd.melt(df))\n",
        "\n"
      ],
      "metadata": {
        "colab": {
          "base_uri": "https://localhost:8080/",
          "height": 349
        },
        "id": "sQXDNzH71QAd",
        "outputId": "a72e7fc5-6e53-4735-8f1a-6cef42e62502"
      },
      "execution_count": null,
      "outputs": [
        {
          "output_type": "display_data",
          "data": {
            "text/plain": [
              "<Figure size 2160x720 with 1 Axes>"
            ],
            "image/png": "[encoded data removed]"
          },
          "metadata": {
            "needs_background": "light"
          }
        }
      ]
    },
    {
      "cell_type": "code",
      "source": [
        "for col in df:\n",
        " Q3 = df[col].quantile(0.75)\n",
        "Q1 = df[col].quantile(0.25)\n",
        "IQR = Q3-Q1\n",
        "lower_limit = Q1 -(1.5*IQR)\n",
        "upper_limit = Q3 +(1.5*IQR)\n",
        "df.loc[df[col]<lower_limit]=np.nan\n",
        "df.loc[df[col]>upper_limit]=np.nan\n",
        "df.dropna(axis=0,inplace=True)"
      ],
      "metadata": {
        "colab": {
          "base_uri": "https://localhost:8080/"
        },
        "id": "e4l4n6l29z_1",
        "outputId": "310bcfac-ea32-4946-9f2d-27d6438eaa6e"
      },
      "execution_count": null,
      "outputs": [
        {
          "output_type": "stream",
          "name": "stderr",
          "text": [
            "/usr/local/lib/python3.8/dist-packages/pandas/core/indexing.py:1817: SettingWithCopyWarning: \n",
            "A value is trying to be set on a copy of a slice from a DataFrame.\n",
            "Try using .loc[row_indexer,col_indexer] = value instead\n",
            "\n",
            "See the caveats in the documentation: https://pandas.pydata.org/pandas-docs/stable/user_guide/indexing.html#returning-a-view-versus-a-copy\n",
            "  self._setitem_single_column(loc, value, pi)\n",
            "/usr/local/lib/python3.8/dist-packages/pandas/util/_decorators.py:311: SettingWithCopyWarning: \n",
            "A value is trying to be set on a copy of a slice from a DataFrame\n",
            "\n",
            "See the caveats in the documentation: https://pandas.pydata.org/pandas-docs/stable/user_guide/indexing.html#returning-a-view-versus-a-copy\n",
            "  return func(*args, **kwargs)\n"
          ]
        }
      ]
    },
    {
      "cell_type": "code",
      "source": [
        "plt.figure(figsize=[30,10])\n",
        "for col in df:\n",
        "  sns.boxplot(x='variable',y='value',data=pd.melt(df))\n",
        "\n"
      ],
      "metadata": {
        "colab": {
          "base_uri": "https://localhost:8080/",
          "height": 349
        },
        "id": "zD_mUJH_-qgJ",
        "outputId": "10433d46-4e65-443b-e06b-c7eafdad78fb"
      },
      "execution_count": null,
      "outputs": [
        {
          "output_type": "display_data",
          "data": {
            "text/plain": [
              "<Figure size 2160x720 with 1 Axes>"
            ],
            "image/png": "[encoded data removed]"
          },
          "metadata": {
            "needs_background": "light"
          }
        }
      ]
    },
    {
      "cell_type": "code",
      "source": [
        "fig = plt.figure(figsize = (10,10))\n",
        "sns.heatmap(df.corr(), annot = True)"
      ],
      "metadata": {
        "colab": {
          "base_uri": "https://localhost:8080/",
          "height": 744
        },
        "id": "5jzrTIn-ANCJ",
        "outputId": "bb723fec-ddb5-4019-d64a-88a75a6f178a"
      },
      "execution_count": null,
      "outputs": [
        {
          "output_type": "execute_result",
          "data": {
            "text/plain": [
              "<matplotlib.axes._subplots.AxesSubplot at 0x7f4328107d60>"
            ]
          },
          "metadata": {},
          "execution_count": 401
        },
        {
          "output_type": "display_data",
          "data": {
            "text/plain": [
              "<Figure size 720x720 with 2 Axes>"
            ],
            "image/png": "[encoded data removed]"
          },
          "metadata": {
            "needs_background": "light"
          }
        }
      ]
    },
    {
      "cell_type": "code",
      "source": [
        "df.columns"
      ],
      "metadata": {
        "colab": {
          "base_uri": "https://localhost:8080/"
        },
        "id": "oKlMKrwqBcIJ",
        "outputId": "3a28239a-f0f9-4274-ae0b-c46d3c266954"
      },
      "execution_count": null,
      "outputs": [
        {
          "output_type": "execute_result",
          "data": {
            "text/plain": [
              "Index(['employment_industry', 'opinion_seas_risk', 'doctor_recc_seasonal',\n",
              "       'age_group', 'opinion_seas_vacc_effective', 'opinion_h1n1_risk',\n",
              "       'doctor_recc_h1n1', 'chronic_med_condition', 'household_children',\n",
              "       'health_worker', 'seasonal_vaccine'],\n",
              "      dtype='object')"
            ]
          },
          "metadata": {},
          "execution_count": 402
        }
      ]
    },
    {
      "cell_type": "code",
      "source": [
        "\n",
        "sns.catplot(data=df, x= 'seasonal_vaccine', y='employment_industry', hue= 'seasonal_vaccine', kind=\"bar\")"
      ],
      "metadata": {
        "colab": {
          "base_uri": "https://localhost:8080/",
          "height": 386
        },
        "id": "b_fI3-aAAw0h",
        "outputId": "8672eff2-1274-4edd-9430-e6f15eb033fb"
      },
      "execution_count": null,
      "outputs": [
        {
          "output_type": "execute_result",
          "data": {
            "text/plain": [
              "<seaborn.axisgrid.FacetGrid at 0x7f4328100e80>"
            ]
          },
          "metadata": {},
          "execution_count": 403
        },
        {
          "output_type": "display_data",
          "data": {
            "text/plain": [
              "<Figure size 360x360 with 1 Axes>"
            ],
            "image/png": "[encoded data removed]"
          },
          "metadata": {
            "needs_background": "light"
          }
        }
      ]
    },
    {
      "cell_type": "code",
      "source": [
        "\n",
        "sns.catplot(data=df, x= 'seasonal_vaccine', y= 'opinion_seas_risk', hue= 'seasonal_vaccine', kind=\"bar\")"
      ],
      "metadata": {
        "colab": {
          "base_uri": "https://localhost:8080/",
          "height": 386
        },
        "id": "bsVQeZCsCLgH",
        "outputId": "1f1691ac-8cdd-4968-e83a-ee2d0121d1f8"
      },
      "execution_count": null,
      "outputs": [
        {
          "output_type": "execute_result",
          "data": {
            "text/plain": [
              "<seaborn.axisgrid.FacetGrid at 0x7f4328c54400>"
            ]
          },
          "metadata": {},
          "execution_count": 404
        },
        {
          "output_type": "display_data",
          "data": {
            "text/plain": [
              "<Figure size 360x360 with 1 Axes>"
            ],
            "image/png": "[encoded data removed]"
          },
          "metadata": {
            "needs_background": "light"
          }
        }
      ]
    },
    {
      "cell_type": "code",
      "source": [
        "\n",
        "sns.catplot(data=df, x= 'seasonal_vaccine', y= 'doctor_recc_seasonal', hue= 'seasonal_vaccine', kind=\"bar\")"
      ],
      "metadata": {
        "colab": {
          "base_uri": "https://localhost:8080/",
          "height": 386
        },
        "id": "Bu_SzpYvCucI",
        "outputId": "a3c19655-b99f-4433-9dcc-16c815f38d49"
      },
      "execution_count": null,
      "outputs": [
        {
          "output_type": "execute_result",
          "data": {
            "text/plain": [
              "<seaborn.axisgrid.FacetGrid at 0x7f4325d64700>"
            ]
          },
          "metadata": {},
          "execution_count": 405
        },
        {
          "output_type": "display_data",
          "data": {
            "text/plain": [
              "<Figure size 360x360 with 1 Axes>"
            ],
            "image/png": "[encoded data removed]"
          },
          "metadata": {
            "needs_background": "light"
          }
        }
      ]
    },
    {
      "cell_type": "code",
      "source": [
        "\n",
        "sns.catplot(data=df, x= 'seasonal_vaccine', y= 'age_group', hue= 'seasonal_vaccine', kind=\"bar\")"
      ],
      "metadata": {
        "colab": {
          "base_uri": "https://localhost:8080/",
          "height": 386
        },
        "id": "0-H1yaa_C3gD",
        "outputId": "a3a83936-30d8-4415-d81e-570c11b1052d"
      },
      "execution_count": null,
      "outputs": [
        {
          "output_type": "execute_result",
          "data": {
            "text/plain": [
              "<seaborn.axisgrid.FacetGrid at 0x7f4327321070>"
            ]
          },
          "metadata": {},
          "execution_count": 406
        },
        {
          "output_type": "display_data",
          "data": {
            "text/plain": [
              "<Figure size 360x360 with 1 Axes>"
            ],
            "image/png": "[encoded data removed]"
          },
          "metadata": {
            "needs_background": "light"
          }
        }
      ]
    },
    {
      "cell_type": "code",
      "source": [
        "\n",
        "sns.catplot(data=df, x= 'seasonal_vaccine', y= 'opinion_seas_vacc_effective', hue= 'seasonal_vaccine', kind=\"bar\")"
      ],
      "metadata": {
        "colab": {
          "base_uri": "https://localhost:8080/",
          "height": 386
        },
        "id": "iMhGNi3yDHIc",
        "outputId": "49b7b0ef-e0bb-4650-f0ad-3697309a52ab"
      },
      "execution_count": null,
      "outputs": [
        {
          "output_type": "execute_result",
          "data": {
            "text/plain": [
              "<seaborn.axisgrid.FacetGrid at 0x7f43259bf430>"
            ]
          },
          "metadata": {},
          "execution_count": 407
        },
        {
          "output_type": "display_data",
          "data": {
            "text/plain": [
              "<Figure size 360x360 with 1 Axes>"
            ],
            "image/png": "[encoded data removed]"
          },
          "metadata": {
            "needs_background": "light"
          }
        }
      ]
    },
    {
      "cell_type": "code",
      "source": [
        "\n",
        "sns.catplot(data=df, x= 'seasonal_vaccine', y= 'opinion_h1n1_risk', hue= 'seasonal_vaccine', kind=\"bar\")"
      ],
      "metadata": {
        "colab": {
          "base_uri": "https://localhost:8080/",
          "height": 386
        },
        "id": "Xjbo_tYIDqIi",
        "outputId": "ce04122c-ac47-42e0-b027-ca6f4eee66d5"
      },
      "execution_count": null,
      "outputs": [
        {
          "output_type": "execute_result",
          "data": {
            "text/plain": [
              "<seaborn.axisgrid.FacetGrid at 0x7f43271a6e80>"
            ]
          },
          "metadata": {},
          "execution_count": 408
        },
        {
          "output_type": "display_data",
          "data": {
            "text/plain": [
              "<Figure size 360x360 with 1 Axes>"
            ],
            "image/png": "[encoded data removed]"
          },
          "metadata": {
            "needs_background": "light"
          }
        }
      ]
    },
    {
      "cell_type": "code",
      "source": [
        "\n",
        "sns.catplot(data=df, x= 'seasonal_vaccine', y='doctor_recc_h1n1', hue= 'seasonal_vaccine', kind=\"bar\")"
      ],
      "metadata": {
        "colab": {
          "base_uri": "https://localhost:8080/",
          "height": 386
        },
        "id": "b_cz4Y_aEBHx",
        "outputId": "a58c7a42-ec9b-4da8-9703-9cea356f1e6d"
      },
      "execution_count": null,
      "outputs": [
        {
          "output_type": "execute_result",
          "data": {
            "text/plain": [
              "<seaborn.axisgrid.FacetGrid at 0x7f43259ad280>"
            ]
          },
          "metadata": {},
          "execution_count": 409
        },
        {
          "output_type": "display_data",
          "data": {
            "text/plain": [
              "<Figure size 360x360 with 1 Axes>"
            ],
            "image/png": "[encoded data removed]"
          },
          "metadata": {
            "needs_background": "light"
          }
        }
      ]
    },
    {
      "cell_type": "code",
      "source": [
        "\n",
        "sns.catplot(data=df, x= 'seasonal_vaccine', y= 'chronic_med_condition', hue= 'seasonal_vaccine', kind=\"bar\")"
      ],
      "metadata": {
        "colab": {
          "base_uri": "https://localhost:8080/",
          "height": 386
        },
        "id": "2c2Dq8E3EC8R",
        "outputId": "af08823b-e6c8-4e2d-dca1-fc22516a92f9"
      },
      "execution_count": null,
      "outputs": [
        {
          "output_type": "execute_result",
          "data": {
            "text/plain": [
              "<seaborn.axisgrid.FacetGrid at 0x7f43271f6c10>"
            ]
          },
          "metadata": {},
          "execution_count": 410
        },
        {
          "output_type": "display_data",
          "data": {
            "text/plain": [
              "<Figure size 360x360 with 1 Axes>"
            ],
            "image/png": "[encoded data removed]"
          },
          "metadata": {
            "needs_background": "light"
          }
        }
      ]
    },
    {
      "cell_type": "code",
      "source": [
        "\n",
        "sns.catplot(data=df, x= 'seasonal_vaccine', y= 'household_children', hue= 'seasonal_vaccine', kind=\"bar\")"
      ],
      "metadata": {
        "colab": {
          "base_uri": "https://localhost:8080/",
          "height": 386
        },
        "id": "HD88eJ5UED5R",
        "outputId": "fbc9e146-19ff-4703-967a-7d7af6378c7d"
      },
      "execution_count": null,
      "outputs": [
        {
          "output_type": "execute_result",
          "data": {
            "text/plain": [
              "<seaborn.axisgrid.FacetGrid at 0x7f432643a700>"
            ]
          },
          "metadata": {},
          "execution_count": 411
        },
        {
          "output_type": "display_data",
          "data": {
            "text/plain": [
              "<Figure size 360x360 with 1 Axes>"
            ],
            "image/png": "[encoded data removed]"
          },
          "metadata": {
            "needs_background": "light"
          }
        }
      ]
    },
    {
      "cell_type": "code",
      "source": [
        "\n",
        "sns.catplot(data=df, x= 'seasonal_vaccine', y= 'health_worker', hue= 'seasonal_vaccine', kind=\"bar\")"
      ],
      "metadata": {
        "colab": {
          "base_uri": "https://localhost:8080/",
          "height": 386
        },
        "id": "BGahosjCEjIc",
        "outputId": "2f587408-d3e4-4bcb-d4f8-bed11232fa59"
      },
      "execution_count": null,
      "outputs": [
        {
          "output_type": "execute_result",
          "data": {
            "text/plain": [
              "<seaborn.axisgrid.FacetGrid at 0x7f4327cfc820>"
            ]
          },
          "metadata": {},
          "execution_count": 412
        },
        {
          "output_type": "display_data",
          "data": {
            "text/plain": [
              "<Figure size 360x360 with 1 Axes>"
            ],
            "image/png": "[encoded data removed]"
          },
          "metadata": {
            "needs_background": "light"
          }
        }
      ]
    },
    {
      "cell_type": "code",
      "source": [
        "df.head()"
      ],
      "metadata": {
        "colab": {
          "base_uri": "https://localhost:8080/",
          "height": 270
        },
        "id": "qgXb3fU9HGWK",
        "outputId": "4c5e59c7-7b38-4590-c78e-0e6926479f64"
      },
      "execution_count": null,
      "outputs": [
        {
          "output_type": "execute_result",
          "data": {
            "text/plain": [
              "   employment_industry  opinion_seas_risk  doctor_recc_seasonal  age_group  \\\n",
              "0                  0.0                0.0                   0.0        3.0   \n",
              "1                 13.0                1.0                   0.0        1.0   \n",
              "2                 15.0                0.0                   0.0        0.0   \n",
              "3                  0.0                3.0                   1.0        4.0   \n",
              "4                 19.0                0.0                   0.0        2.0   \n",
              "\n",
              "   opinion_seas_vacc_effective  opinion_h1n1_risk  doctor_recc_h1n1  \\\n",
              "0                          1.0                0.0               0.0   \n",
              "1                          3.0                3.0               0.0   \n",
              "2                          3.0                0.0               0.0   \n",
              "3                          4.0                2.0               0.0   \n",
              "4                          2.0                2.0               0.0   \n",
              "\n",
              "   chronic_med_condition  household_children  health_worker  seasonal_vaccine  \n",
              "0                    0.0                 0.0            0.0               0.0  \n",
              "1                    0.0                 0.0            0.0               1.0  \n",
              "2                    1.0                 0.0            0.0               0.0  \n",
              "3                    1.0                 0.0            0.0               1.0  \n",
              "4                    0.0                 0.0            0.0               0.0  "
            ],
            "text/html": [
              "\n",
              "  <div id=\"df-8185f37c-bc27-4817-9b15-1b9cbe810b79\">\n",
              "    <div class=\"colab-df-container\">\n",
              "      <div>\n",
              "<style scoped>\n",
              "    .dataframe tbody tr th:only-of-type {\n",
              "        vertical-align: middle;\n",
              "    }\n",
              "\n",
              "    .dataframe tbody tr th {\n",
              "        vertical-align: top;\n",
              "    }\n",
              "\n",
              "    .dataframe thead th {\n",
              "        text-align: right;\n",
              "    }\n",
              "</style>\n",
              "<table border=\"1\" class=\"dataframe\">\n",
              "  <thead>\n",
              "    <tr style=\"text-align: right;\">\n",
              "      <th></th>\n",
              "      <th>employment_industry</th>\n",
              "      <th>opinion_seas_risk</th>\n",
              "      <th>doctor_recc_seasonal</th>\n",
              "      <th>age_group</th>\n",
              "      <th>opinion_seas_vacc_effective</th>\n",
              "      <th>opinion_h1n1_risk</th>\n",
              "      <th>doctor_recc_h1n1</th>\n",
              "      <th>chronic_med_condition</th>\n",
              "      <th>household_children</th>\n",
              "      <th>health_worker</th>\n",
              "      <th>seasonal_vaccine</th>\n",
              "    </tr>\n",
              "  </thead>\n",
              "  <tbody>\n",
              "    <tr>\n",
              "      <th>0</th>\n",
              "      <td>0.0</td>\n",
              "      <td>0.0</td>\n",
              "      <td>0.0</td>\n",
              "      <td>3.0</td>\n",
              "      <td>1.0</td>\n",
              "      <td>0.0</td>\n",
              "      <td>0.0</td>\n",
              "      <td>0.0</td>\n",
              "      <td>0.0</td>\n",
              "      <td>0.0</td>\n",
              "      <td>0.0</td>\n",
              "    </tr>\n",
              "    <tr>\n",
              "      <th>1</th>\n",
              "      <td>13.0</td>\n",
              "      <td>1.0</td>\n",
              "      <td>0.0</td>\n",
              "      <td>1.0</td>\n",
              "      <td>3.0</td>\n",
              "      <td>3.0</td>\n",
              "      <td>0.0</td>\n",
              "      <td>0.0</td>\n",
              "      <td>0.0</td>\n",
              "      <td>0.0</td>\n",
              "      <td>1.0</td>\n",
              "    </tr>\n",
              "    <tr>\n",
              "      <th>2</th>\n",
              "      <td>15.0</td>\n",
              "      <td>0.0</td>\n",
              "      <td>0.0</td>\n",
              "      <td>0.0</td>\n",
              "      <td>3.0</td>\n",
              "      <td>0.0</td>\n",
              "      <td>0.0</td>\n",
              "      <td>1.0</td>\n",
              "      <td>0.0</td>\n",
              "      <td>0.0</td>\n",
              "      <td>0.0</td>\n",
              "    </tr>\n",
              "    <tr>\n",
              "      <th>3</th>\n",
              "      <td>0.0</td>\n",
              "      <td>3.0</td>\n",
              "      <td>1.0</td>\n",
              "      <td>4.0</td>\n",
              "      <td>4.0</td>\n",
              "      <td>2.0</td>\n",
              "      <td>0.0</td>\n",
              "      <td>1.0</td>\n",
              "      <td>0.0</td>\n",
              "      <td>0.0</td>\n",
              "      <td>1.0</td>\n",
              "    </tr>\n",
              "    <tr>\n",
              "      <th>4</th>\n",
              "      <td>19.0</td>\n",
              "      <td>0.0</td>\n",
              "      <td>0.0</td>\n",
              "      <td>2.0</td>\n",
              "      <td>2.0</td>\n",
              "      <td>2.0</td>\n",
              "      <td>0.0</td>\n",
              "      <td>0.0</td>\n",
              "      <td>0.0</td>\n",
              "      <td>0.0</td>\n",
              "      <td>0.0</td>\n",
              "    </tr>\n",
              "  </tbody>\n",
              "</table>\n",
              "</div>\n",
              "      <button class=\"colab-df-convert\" onclick=\"convertToInteractive('df-8185f37c-bc27-4817-9b15-1b9cbe810b79')\"\n",
              "              title=\"Convert this dataframe to an interactive table.\"\n",
              "              style=\"display:none;\">\n",
              "        \n",
              "  <svg xmlns=\"http://www.w3.org/2000/svg\" height=\"24px\"viewBox=\"0 0 24 24\"\n",
              "       width=\"24px\">\n",
              "    <path d=\"M0 0h24v24H0V0z\" fill=\"none\"/>\n",
              "    <path d=\"M18.56 5.44l.94 2.06.94-2.06 2.06-.94-2.06-.94-.94-2.06-.94 2.06-2.06.94zm-11 1L8.5 8.5l.94-2.06 2.06-.94-2.06-.94L8.5 2.5l-.94 2.06-2.06.94zm10 10l.94 2.06.94-2.06 2.06-.94-2.06-.94-.94-2.06-.94 2.06-2.06.94z\"/><path d=\"M17.41 7.96l-1.37-1.37c-.4-.4-.92-.59-1.43-.59-.52 0-1.04.2-1.43.59L10.3 9.45l-7.72 7.72c-.78.78-.78 2.05 0 2.83L4 21.41c.39.39.9.59 1.41.59.51 0 1.02-.2 1.41-.59l7.78-7.78 2.81-2.81c.8-.78.8-2.07 0-2.86zM5.41 20L4 18.59l7.72-7.72 1.47 1.35L5.41 20z\"/>\n",
              "  </svg>\n",
              "      </button>\n",
              "      \n",
              "  <style>\n",
              "    .colab-df-container {\n",
              "      display:flex;\n",
              "      flex-wrap:wrap;\n",
              "      gap: 12px;\n",
              "    }\n",
              "\n",
              "    .colab-df-convert {\n",
              "      background-color: #E8F0FE;\n",
              "      border: none;\n",
              "      border-radius: 50%;\n",
              "      cursor: pointer;\n",
              "      display: none;\n",
              "      fill: #1967D2;\n",
              "      height: 32px;\n",
              "      padding: 0 0 0 0;\n",
              "      width: 32px;\n",
              "    }\n",
              "\n",
              "    .colab-df-convert:hover {\n",
              "      background-color: #E2EBFA;\n",
              "      box-shadow: 0px 1px 2px rgba(60, 64, 67, 0.3), 0px 1px 3px 1px rgba(60, 64, 67, 0.15);\n",
              "      fill: #174EA6;\n",
              "    }\n",
              "\n",
              "    [theme=dark] .colab-df-convert {\n",
              "      background-color: #3B4455;\n",
              "      fill: #D2E3FC;\n",
              "    }\n",
              "\n",
              "    [theme=dark] .colab-df-convert:hover {\n",
              "      background-color: #434B5C;\n",
              "      box-shadow: 0px 1px 3px 1px rgba(0, 0, 0, 0.15);\n",
              "      filter: drop-shadow(0px 1px 2px rgba(0, 0, 0, 0.3));\n",
              "      fill: #FFFFFF;\n",
              "    }\n",
              "  </style>\n",
              "\n",
              "      <script>\n",
              "        const buttonEl =\n",
              "          document.querySelector('#df-8185f37c-bc27-4817-9b15-1b9cbe810b79 button.colab-df-convert');\n",
              "        buttonEl.style.display =\n",
              "          google.colab.kernel.accessAllowed ? 'block' : 'none';\n",
              "\n",
              "        async function convertToInteractive(key) {\n",
              "          const element = document.querySelector('#df-8185f37c-bc27-4817-9b15-1b9cbe810b79');\n",
              "          const dataTable =\n",
              "            await google.colab.kernel.invokeFunction('convertToInteractive',\n",
              "                                                     [key], {});\n",
              "          if (!dataTable) return;\n",
              "\n",
              "          const docLinkHtml = 'Like what you see? Visit the ' +\n",
              "            '<a target=\"_blank\" href=https://colab.research.google.com/notebooks/data_table.ipynb>data table notebook</a>'\n",
              "            + ' to learn more about interactive tables.';\n",
              "          element.innerHTML = '';\n",
              "          dataTable['output_type'] = 'display_data';\n",
              "          await google.colab.output.renderOutput(dataTable, element);\n",
              "          const docLink = document.createElement('div');\n",
              "          docLink.innerHTML = docLinkHtml;\n",
              "          element.appendChild(docLink);\n",
              "        }\n",
              "      </script>\n",
              "    </div>\n",
              "  </div>\n",
              "  "
            ]
          },
          "metadata": {},
          "execution_count": 413
        }
      ]
    },
    {
      "cell_type": "code",
      "source": [
        "import mlxtend\n",
        "from mlxtend.frequent_patterns import apriori\n",
        "from mlxtend.frequent_patterns import association_rules"
      ],
      "metadata": {
        "id": "S3d4GM_DIQUl"
      },
      "execution_count": null,
      "outputs": []
    },
    {
      "cell_type": "code",
      "source": [
        "from sklearn.model_selection import train_test_split\n",
        "from sklearn.metrics import confusion_matrix\n",
        "from sklearn.metrics import accuracy_score\n",
        "from sklearn.ensemble import RandomForestClassifier\n",
        "from mlxtend.plotting import plot_confusion_matrix\n",
        "from sklearn.tree import DecisionTreeClassifier\n",
        "from sklearn.linear_model import LogisticRegression\n",
        "from sklearn.neighbors import KNeighborsClassifier"
      ],
      "metadata": {
        "id": "WzgQ96otInqe"
      },
      "execution_count": null,
      "outputs": []
    },
    {
      "cell_type": "code",
      "source": [
        "df = df.astype({'employment_industry': 'int', 'opinion_seas_risk': 'int', 'doctor_recc_seasonal': 'int','age_group': 'int', 'opinion_seas_vacc_effective': 'int', 'opinion_h1n1_risk': 'int','doctor_recc_h1n1': 'int', 'chronic_med_condition': 'int', 'household_children': 'int','health_worker': 'int', 'seasonal_vaccine': 'int'})"
      ],
      "metadata": {
        "id": "8r7BozwcYUqM"
      },
      "execution_count": null,
      "outputs": []
    },
    {
      "cell_type": "code",
      "source": [
        "df.columns"
      ],
      "metadata": {
        "colab": {
          "base_uri": "https://localhost:8080/"
        },
        "id": "crZ7CvwxXOGm",
        "outputId": "c84112b4-a1ab-4d30-bb48-5c4bf99a6ca5"
      },
      "execution_count": null,
      "outputs": [
        {
          "output_type": "execute_result",
          "data": {
            "text/plain": [
              "Index(['employment_industry', 'opinion_seas_risk', 'doctor_recc_seasonal',\n",
              "       'age_group', 'opinion_seas_vacc_effective', 'opinion_h1n1_risk',\n",
              "       'doctor_recc_h1n1', 'chronic_med_condition', 'household_children',\n",
              "       'health_worker', 'seasonal_vaccine'],\n",
              "      dtype='object')"
            ]
          },
          "metadata": {},
          "execution_count": 417
        }
      ]
    },
    {
      "cell_type": "code",
      "source": [
        "X=df.iloc[:,0:11]\n",
        "y=df.iloc[:,-1]\n"
      ],
      "metadata": {
        "id": "pNTDzYN0Ip7R"
      },
      "execution_count": null,
      "outputs": []
    },
    {
      "cell_type": "code",
      "source": [
        "X_train, X_test, y_train, y_test = train_test_split(X, y, test_size=0.3, random_state=0)"
      ],
      "metadata": {
        "id": "V1n2jqa9IwFS"
      },
      "execution_count": null,
      "outputs": []
    },
    {
      "cell_type": "code",
      "source": [
        "from sklearn.tree import DecisionTreeRegressor\n",
        "from sklearn.metrics import r2_score\n",
        "dec_tree = DecisionTreeRegressor(random_state=0)\n",
        "dec_tree.fit(X_train,y_train)\n",
        "dec_tree_y_pred = dec_tree.predict(X_train)\n",
        "print(\"Accuracy: {}\".format(dec_tree.score(X_train,y_train)))\n",
        "print(\"R squared: {}\".format(r2_score(y_true=y_train,y_pred=dec_tree_y_pred)))"
      ],
      "metadata": {
        "colab": {
          "base_uri": "https://localhost:8080/"
        },
        "id": "EG5SKSHZI0kJ",
        "outputId": "a3c4be9a-36ea-4cd5-b79b-a55459abeebc"
      },
      "execution_count": null,
      "outputs": [
        {
          "output_type": "stream",
          "name": "stdout",
          "text": [
            "Accuracy: 1.0\n",
            "R squared: 1.0\n"
          ]
        }
      ]
    },
    {
      "cell_type": "code",
      "source": [
        "dec_tree_y_pred = dec_tree.predict(X_test)\n",
        "print(\"Accuracy: {}\".format(dec_tree.score(X_test,y_test)))\n",
        "print(\"R squared: {}\".format(r2_score(y_true=y_test,y_pred=dec_tree_y_pred)))"
      ],
      "metadata": {
        "colab": {
          "base_uri": "https://localhost:8080/"
        },
        "id": "Qqu0JcEnI41q",
        "outputId": "6484b7df-6220-4259-95c5-159566c336f3"
      },
      "execution_count": null,
      "outputs": [
        {
          "output_type": "stream",
          "name": "stdout",
          "text": [
            "Accuracy: 1.0\n",
            "R squared: 1.0\n"
          ]
        }
      ]
    },
    {
      "cell_type": "code",
      "source": [
        "from sklearn.ensemble import RandomForestRegressor\n",
        "\n",
        "rf_tree = RandomForestRegressor(random_state=0)\n",
        "rf_tree.fit(X_train,y_train)\n",
        "rf_tree_y_pred = rf_tree.predict(X_train)\n",
        "print(\"Accuracy: {}\".format(rf_tree.score(X_train,y_train)))\n",
        "print(\"R squared: {}\".format(r2_score(y_true=y_train,y_pred=rf_tree_y_pred)))"
      ],
      "metadata": {
        "colab": {
          "base_uri": "https://localhost:8080/"
        },
        "id": "l3Q2N9h9I-RY",
        "outputId": "279c8a8f-c554-4c15-f495-509ccc2f81a8"
      },
      "execution_count": null,
      "outputs": [
        {
          "output_type": "stream",
          "name": "stdout",
          "text": [
            "Accuracy: 1.0\n",
            "R squared: 1.0\n"
          ]
        }
      ]
    },
    {
      "cell_type": "code",
      "source": [
        "rf_tree_y_pred = rf_tree.predict(X_test)\n",
        "print(\"Accuracy: {}\".format(rf_tree.score(X_test,y_test)))\n",
        "print(\"R squared: {}\".format(r2_score(y_true=y_test,y_pred=rf_tree_y_pred)))"
      ],
      "metadata": {
        "colab": {
          "base_uri": "https://localhost:8080/"
        },
        "id": "jyH2L48TJBs9",
        "outputId": "469bb7b1-c139-408b-8903-8c7e68a32486"
      },
      "execution_count": null,
      "outputs": [
        {
          "output_type": "stream",
          "name": "stdout",
          "text": [
            "Accuracy: 1.0\n",
            "R squared: 1.0\n"
          ]
        }
      ]
    },
    {
      "cell_type": "code",
      "source": [
        "from sklearn.svm import SVR\n",
        "\n",
        "svr = SVR()\n",
        "svr.fit(X_train,y_train)\n",
        "svr_y_pred = svr.predict(X_train)\n",
        "print(\"Accuracy: {}\".format(svr.score(X_train,y_train)))\n",
        "print(\"R squared: {}\".format(r2_score(y_true=y_train,y_pred=svr_y_pred)))"
      ],
      "metadata": {
        "colab": {
          "base_uri": "https://localhost:8080/"
        },
        "id": "4QqgdWRKJD5h",
        "outputId": "b86acea9-2f57-469e-bf55-f4e36725a70a"
      },
      "execution_count": null,
      "outputs": [
        {
          "output_type": "stream",
          "name": "stdout",
          "text": [
            "Accuracy: 0.9806405899711558\n",
            "R squared: 0.9806405899711558\n"
          ]
        }
      ]
    },
    {
      "cell_type": "code",
      "source": [
        "svr_y_pred = svr.predict(X_test)\n",
        "print(\"Accuracy: {}\".format(svr.score(X_test,y_test)))\n",
        "print(\"R squared: {}\".format(r2_score(y_true=y_test,y_pred=svr_y_pred)))\n"
      ],
      "metadata": {
        "colab": {
          "base_uri": "https://localhost:8080/"
        },
        "id": "c1xTcoHbJGcv",
        "outputId": "408767b2-4cde-408d-f5fd-d810dabb9e33"
      },
      "execution_count": null,
      "outputs": [
        {
          "output_type": "stream",
          "name": "stdout",
          "text": [
            "Accuracy: 0.9804593170056264\n",
            "R squared: 0.9804593170056264\n"
          ]
        }
      ]
    },
    {
      "cell_type": "code",
      "source": [
        "from sklearn.naive_bayes import GaussianNB  \n",
        "classifier_nb = GaussianNB()  \n",
        "classifier_nb.fit(X_train, y_train)    "
      ],
      "metadata": {
        "colab": {
          "base_uri": "https://localhost:8080/"
        },
        "id": "866gjB4nJIw2",
        "outputId": "0f0766ff-d6b5-4595-c509-a092f9f85e8b"
      },
      "execution_count": null,
      "outputs": [
        {
          "output_type": "execute_result",
          "data": {
            "text/plain": [
              "GaussianNB()"
            ]
          },
          "metadata": {},
          "execution_count": 426
        }
      ]
    },
    {
      "cell_type": "code",
      "source": [
        "y_pred_nb = classifier_nb.predict(X_test)"
      ],
      "metadata": {
        "id": "AGQL4VA3JdKg"
      },
      "execution_count": null,
      "outputs": []
    },
    {
      "cell_type": "code",
      "source": [
        "nb=classifier_nb.predict(X_train)\n",
        "accuracy_nb=accuracy_score(nb,y_train)*100\n",
        "accuracy_nb"
      ],
      "metadata": {
        "colab": {
          "base_uri": "https://localhost:8080/"
        },
        "id": "W2O2QSscJSl9",
        "outputId": "a0951365-5ee4-40be-c635-8668e5821e87"
      },
      "execution_count": null,
      "outputs": [
        {
          "output_type": "execute_result",
          "data": {
            "text/plain": [
              "100.0"
            ]
          },
          "metadata": {},
          "execution_count": 428
        }
      ]
    },
    {
      "cell_type": "code",
      "source": [
        "accuracy_nb=accuracy_score(y_pred_nb,y_test)*100\n",
        "print(\"Accuracy of the Decision Tree Classifier model is {:.2f}\".format(accuracy_nb))"
      ],
      "metadata": {
        "colab": {
          "base_uri": "https://localhost:8080/"
        },
        "id": "8aLjiD6MJUX2",
        "outputId": "ce02975c-1e78-47a3-eb32-7376993e08a5"
      },
      "execution_count": null,
      "outputs": [
        {
          "output_type": "stream",
          "name": "stdout",
          "text": [
            "Accuracy of the Decision Tree Classifier model is 100.00\n"
          ]
        }
      ]
    },
    {
      "cell_type": "code",
      "source": [
        "classifier_knn = KNeighborsClassifier(n_neighbors=7)\n",
        "  \n",
        "classifier_knn.fit(X_train, y_train)"
      ],
      "metadata": {
        "colab": {
          "base_uri": "https://localhost:8080/"
        },
        "id": "3_aGw9bfJn2z",
        "outputId": "d37bf8d8-623e-4d5a-bf80-1270f927ba64"
      },
      "execution_count": null,
      "outputs": [
        {
          "output_type": "execute_result",
          "data": {
            "text/plain": [
              "KNeighborsClassifier(n_neighbors=7)"
            ]
          },
          "metadata": {},
          "execution_count": 430
        }
      ]
    },
    {
      "cell_type": "code",
      "source": [
        "y_pred_knn=classifier_knn.predict(X_test)"
      ],
      "metadata": {
        "id": "5PmVbAPnJrYl"
      },
      "execution_count": null,
      "outputs": []
    },
    {
      "cell_type": "code",
      "source": [
        "knn=classifier_knn.predict(X_train)\n",
        "accuracy_knn=accuracy_score(knn,y_train)*100\n",
        "accuracy_knn"
      ],
      "metadata": {
        "colab": {
          "base_uri": "https://localhost:8080/"
        },
        "id": "J8VjHQbLJuHt",
        "outputId": "2ee85e1c-5654-4767-cd81-ab4a0e5f0bcb"
      },
      "execution_count": null,
      "outputs": [
        {
          "output_type": "execute_result",
          "data": {
            "text/plain": [
              "96.69412645768696"
            ]
          },
          "metadata": {},
          "execution_count": 432
        }
      ]
    },
    {
      "cell_type": "code",
      "source": [
        "accuracy_knn=accuracy_score(y_pred_knn,y_test)*100\n",
        "print(\"Accuracy of the knn Classifier model is {:.2f}\".format(accuracy_knn))"
      ],
      "metadata": {
        "colab": {
          "base_uri": "https://localhost:8080/"
        },
        "id": "q1FEI0h4JxL7",
        "outputId": "85cf8b4f-ac3e-4856-b3c4-f16b20ea5408"
      },
      "execution_count": null,
      "outputs": [
        {
          "output_type": "stream",
          "name": "stdout",
          "text": [
            "Accuracy of the knn Classifier model is 95.58\n"
          ]
        }
      ]
    },
    {
      "cell_type": "code",
      "source": [
        "df.head()"
      ],
      "metadata": {
        "colab": {
          "base_uri": "https://localhost:8080/",
          "height": 270
        },
        "id": "wDt6fn3LWhzs",
        "outputId": "dd79b655-1923-457c-8486-c389625811e2"
      },
      "execution_count": null,
      "outputs": [
        {
          "output_type": "execute_result",
          "data": {
            "text/plain": [
              "   employment_industry  opinion_seas_risk  doctor_recc_seasonal  age_group  \\\n",
              "0                    0                  0                     0          3   \n",
              "1                   13                  1                     0          1   \n",
              "2                   15                  0                     0          0   \n",
              "3                    0                  3                     1          4   \n",
              "4                   19                  0                     0          2   \n",
              "\n",
              "   opinion_seas_vacc_effective  opinion_h1n1_risk  doctor_recc_h1n1  \\\n",
              "0                            1                  0                 0   \n",
              "1                            3                  3                 0   \n",
              "2                            3                  0                 0   \n",
              "3                            4                  2                 0   \n",
              "4                            2                  2                 0   \n",
              "\n",
              "   chronic_med_condition  household_children  health_worker  seasonal_vaccine  \n",
              "0                      0                   0              0                 0  \n",
              "1                      0                   0              0                 1  \n",
              "2                      1                   0              0                 0  \n",
              "3                      1                   0              0                 1  \n",
              "4                      0                   0              0                 0  "
            ],
            "text/html": [
              "\n",
              "  <div id=\"df-0a7d5c31-ee7e-4450-bb04-fddcea50821e\">\n",
              "    <div class=\"colab-df-container\">\n",
              "      <div>\n",
              "<style scoped>\n",
              "    .dataframe tbody tr th:only-of-type {\n",
              "        vertical-align: middle;\n",
              "    }\n",
              "\n",
              "    .dataframe tbody tr th {\n",
              "        vertical-align: top;\n",
              "    }\n",
              "\n",
              "    .dataframe thead th {\n",
              "        text-align: right;\n",
              "    }\n",
              "</style>\n",
              "<table border=\"1\" class=\"dataframe\">\n",
              "  <thead>\n",
              "    <tr style=\"text-align: right;\">\n",
              "      <th></th>\n",
              "      <th>employment_industry</th>\n",
              "      <th>opinion_seas_risk</th>\n",
              "      <th>doctor_recc_seasonal</th>\n",
              "      <th>age_group</th>\n",
              "      <th>opinion_seas_vacc_effective</th>\n",
              "      <th>opinion_h1n1_risk</th>\n",
              "      <th>doctor_recc_h1n1</th>\n",
              "      <th>chronic_med_condition</th>\n",
              "      <th>household_children</th>\n",
              "      <th>health_worker</th>\n",
              "      <th>seasonal_vaccine</th>\n",
              "    </tr>\n",
              "  </thead>\n",
              "  <tbody>\n",
              "    <tr>\n",
              "      <th>0</th>\n",
              "      <td>0</td>\n",
              "      <td>0</td>\n",
              "      <td>0</td>\n",
              "      <td>3</td>\n",
              "      <td>1</td>\n",
              "      <td>0</td>\n",
              "      <td>0</td>\n",
              "      <td>0</td>\n",
              "      <td>0</td>\n",
              "      <td>0</td>\n",
              "      <td>0</td>\n",
              "    </tr>\n",
              "    <tr>\n",
              "      <th>1</th>\n",
              "      <td>13</td>\n",
              "      <td>1</td>\n",
              "      <td>0</td>\n",
              "      <td>1</td>\n",
              "      <td>3</td>\n",
              "      <td>3</td>\n",
              "      <td>0</td>\n",
              "      <td>0</td>\n",
              "      <td>0</td>\n",
              "      <td>0</td>\n",
              "      <td>1</td>\n",
              "    </tr>\n",
              "    <tr>\n",
              "      <th>2</th>\n",
              "      <td>15</td>\n",
              "      <td>0</td>\n",
              "      <td>0</td>\n",
              "      <td>0</td>\n",
              "      <td>3</td>\n",
              "      <td>0</td>\n",
              "      <td>0</td>\n",
              "      <td>1</td>\n",
              "      <td>0</td>\n",
              "      <td>0</td>\n",
              "      <td>0</td>\n",
              "    </tr>\n",
              "    <tr>\n",
              "      <th>3</th>\n",
              "      <td>0</td>\n",
              "      <td>3</td>\n",
              "      <td>1</td>\n",
              "      <td>4</td>\n",
              "      <td>4</td>\n",
              "      <td>2</td>\n",
              "      <td>0</td>\n",
              "      <td>1</td>\n",
              "      <td>0</td>\n",
              "      <td>0</td>\n",
              "      <td>1</td>\n",
              "    </tr>\n",
              "    <tr>\n",
              "      <th>4</th>\n",
              "      <td>19</td>\n",
              "      <td>0</td>\n",
              "      <td>0</td>\n",
              "      <td>2</td>\n",
              "      <td>2</td>\n",
              "      <td>2</td>\n",
              "      <td>0</td>\n",
              "      <td>0</td>\n",
              "      <td>0</td>\n",
              "      <td>0</td>\n",
              "      <td>0</td>\n",
              "    </tr>\n",
              "  </tbody>\n",
              "</table>\n",
              "</div>\n",
              "      <button class=\"colab-df-convert\" onclick=\"convertToInteractive('df-0a7d5c31-ee7e-4450-bb04-fddcea50821e')\"\n",
              "              title=\"Convert this dataframe to an interactive table.\"\n",
              "              style=\"display:none;\">\n",
              "        \n",
              "  <svg xmlns=\"http://www.w3.org/2000/svg\" height=\"24px\"viewBox=\"0 0 24 24\"\n",
              "       width=\"24px\">\n",
              "    <path d=\"M0 0h24v24H0V0z\" fill=\"none\"/>\n",
              "    <path d=\"M18.56 5.44l.94 2.06.94-2.06 2.06-.94-2.06-.94-.94-2.06-.94 2.06-2.06.94zm-11 1L8.5 8.5l.94-2.06 2.06-.94-2.06-.94L8.5 2.5l-.94 2.06-2.06.94zm10 10l.94 2.06.94-2.06 2.06-.94-2.06-.94-.94-2.06-.94 2.06-2.06.94z\"/><path d=\"M17.41 7.96l-1.37-1.37c-.4-.4-.92-.59-1.43-.59-.52 0-1.04.2-1.43.59L10.3 9.45l-7.72 7.72c-.78.78-.78 2.05 0 2.83L4 21.41c.39.39.9.59 1.41.59.51 0 1.02-.2 1.41-.59l7.78-7.78 2.81-2.81c.8-.78.8-2.07 0-2.86zM5.41 20L4 18.59l7.72-7.72 1.47 1.35L5.41 20z\"/>\n",
              "  </svg>\n",
              "      </button>\n",
              "      \n",
              "  <style>\n",
              "    .colab-df-container {\n",
              "      display:flex;\n",
              "      flex-wrap:wrap;\n",
              "      gap: 12px;\n",
              "    }\n",
              "\n",
              "    .colab-df-convert {\n",
              "      background-color: #E8F0FE;\n",
              "      border: none;\n",
              "      border-radius: 50%;\n",
              "      cursor: pointer;\n",
              "      display: none;\n",
              "      fill: #1967D2;\n",
              "      height: 32px;\n",
              "      padding: 0 0 0 0;\n",
              "      width: 32px;\n",
              "    }\n",
              "\n",
              "    .colab-df-convert:hover {\n",
              "      background-color: #E2EBFA;\n",
              "      box-shadow: 0px 1px 2px rgba(60, 64, 67, 0.3), 0px 1px 3px 1px rgba(60, 64, 67, 0.15);\n",
              "      fill: #174EA6;\n",
              "    }\n",
              "\n",
              "    [theme=dark] .colab-df-convert {\n",
              "      background-color: #3B4455;\n",
              "      fill: #D2E3FC;\n",
              "    }\n",
              "\n",
              "    [theme=dark] .colab-df-convert:hover {\n",
              "      background-color: #434B5C;\n",
              "      box-shadow: 0px 1px 3px 1px rgba(0, 0, 0, 0.15);\n",
              "      filter: drop-shadow(0px 1px 2px rgba(0, 0, 0, 0.3));\n",
              "      fill: #FFFFFF;\n",
              "    }\n",
              "  </style>\n",
              "\n",
              "      <script>\n",
              "        const buttonEl =\n",
              "          document.querySelector('#df-0a7d5c31-ee7e-4450-bb04-fddcea50821e button.colab-df-convert');\n",
              "        buttonEl.style.display =\n",
              "          google.colab.kernel.accessAllowed ? 'block' : 'none';\n",
              "\n",
              "        async function convertToInteractive(key) {\n",
              "          const element = document.querySelector('#df-0a7d5c31-ee7e-4450-bb04-fddcea50821e');\n",
              "          const dataTable =\n",
              "            await google.colab.kernel.invokeFunction('convertToInteractive',\n",
              "                                                     [key], {});\n",
              "          if (!dataTable) return;\n",
              "\n",
              "          const docLinkHtml = 'Like what you see? Visit the ' +\n",
              "            '<a target=\"_blank\" href=https://colab.research.google.com/notebooks/data_table.ipynb>data table notebook</a>'\n",
              "            + ' to learn more about interactive tables.';\n",
              "          element.innerHTML = '';\n",
              "          dataTable['output_type'] = 'display_data';\n",
              "          await google.colab.output.renderOutput(dataTable, element);\n",
              "          const docLink = document.createElement('div');\n",
              "          docLink.innerHTML = docLinkHtml;\n",
              "          element.appendChild(docLink);\n",
              "        }\n",
              "      </script>\n",
              "    </div>\n",
              "  </div>\n",
              "  "
            ]
          },
          "metadata": {},
          "execution_count": 434
        }
      ]
    },
    {
      "cell_type": "code",
      "source": [
        "\n",
        "new=[[15,0,0,0,3,0,0,1,0,0,0]]"
      ],
      "metadata": {
        "id": "leKECXtlaKnQ"
      },
      "execution_count": null,
      "outputs": []
    },
    {
      "cell_type": "code",
      "source": [
        "out= dec_tree.predict(new)\n",
        "out"
      ],
      "metadata": {
        "colab": {
          "base_uri": "https://localhost:8080/"
        },
        "id": "-nIT_-DParM5",
        "outputId": "90158a73-bf66-449d-a886-5e564284fed1"
      },
      "execution_count": null,
      "outputs": [
        {
          "output_type": "stream",
          "name": "stderr",
          "text": [
            "/usr/local/lib/python3.8/dist-packages/sklearn/base.py:450: UserWarning: X does not have valid feature names, but DecisionTreeRegressor was fitted with feature names\n",
            "  warnings.warn(\n"
          ]
        },
        {
          "output_type": "execute_result",
          "data": {
            "text/plain": [
              "array([0.])"
            ]
          },
          "metadata": {},
          "execution_count": 436
        }
      ]
    },
    {
      "cell_type": "code",
      "source": [
        "out= classifier_nb.predict(new)\n",
        "out"
      ],
      "metadata": {
        "colab": {
          "base_uri": "https://localhost:8080/"
        },
        "id": "gnPqnlX2av0c",
        "outputId": "b3393025-d359-4a1c-8bf5-070c31f11f10"
      },
      "execution_count": null,
      "outputs": [
        {
          "output_type": "stream",
          "name": "stderr",
          "text": [
            "/usr/local/lib/python3.8/dist-packages/sklearn/base.py:450: UserWarning: X does not have valid feature names, but GaussianNB was fitted with feature names\n",
            "  warnings.warn(\n"
          ]
        },
        {
          "output_type": "execute_result",
          "data": {
            "text/plain": [
              "array([0])"
            ]
          },
          "metadata": {},
          "execution_count": 437
        }
      ]
    },
    {
      "cell_type": "code",
      "source": [
        "out= rf_tree.predict(new)\n",
        "out"
      ],
      "metadata": {
        "colab": {
          "base_uri": "https://localhost:8080/"
        },
        "id": "u04dYB1Xa1K6",
        "outputId": "df3cfaa0-9566-4fda-e57b-a7edee28d382"
      },
      "execution_count": null,
      "outputs": [
        {
          "output_type": "stream",
          "name": "stderr",
          "text": [
            "/usr/local/lib/python3.8/dist-packages/sklearn/base.py:450: UserWarning: X does not have valid feature names, but RandomForestRegressor was fitted with feature names\n",
            "  warnings.warn(\n"
          ]
        },
        {
          "output_type": "execute_result",
          "data": {
            "text/plain": [
              "array([0.])"
            ]
          },
          "metadata": {},
          "execution_count": 438
        }
      ]
    },
    {
      "cell_type": "code",
      "source": [
        "out=classifier_knn.predict(new)\n",
        "out"
      ],
      "metadata": {
        "colab": {
          "base_uri": "https://localhost:8080/"
        },
        "id": "VLGKlFhla5Dn",
        "outputId": "346eec64-02fd-4418-b9fd-c62b53f0c5f2"
      },
      "execution_count": null,
      "outputs": [
        {
          "output_type": "stream",
          "name": "stderr",
          "text": [
            "/usr/local/lib/python3.8/dist-packages/sklearn/base.py:450: UserWarning: X does not have valid feature names, but KNeighborsClassifier was fitted with feature names\n",
            "  warnings.warn(\n"
          ]
        },
        {
          "output_type": "execute_result",
          "data": {
            "text/plain": [
              "array([0])"
            ]
          },
          "metadata": {},
          "execution_count": 440
        }
      ]
    }
  ]
}