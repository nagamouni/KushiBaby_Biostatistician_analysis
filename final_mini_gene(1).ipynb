{
  "nbformat": 4,
  "nbformat_minor": 0,
  "metadata": {
    "colab": {
      "provenance": []
    },
    "kernelspec": {
      "name": "python3",
      "display_name": "Python 3"
    },
    "language_info": {
      "name": "python"
    }
  },
  "cells": [
    {
      "cell_type": "code",
      "execution_count": null,
      "metadata": {
        "id": "VhJn83D3KpLZ"
      },
      "outputs": [],
      "source": [
        "\n",
        "import pandas as pd\n",
        "import numpy as np\n",
        "import matplotlib.pyplot as plt\n",
        "import seaborn as sns \n"
      ]
    },
    {
      "cell_type": "code",
      "source": [
        "from google.colab import drive\n",
        "drive.mount('/content/drive')"
      ],
      "metadata": {
        "colab": {
          "base_uri": "https://localhost:8080/"
        },
        "id": "nZJNOrTnMAv2",
        "outputId": "5c7c6b4e-b925-4019-bb4a-be8198dea6e5"
      },
      "execution_count": null,
      "outputs": [
        {
          "output_type": "stream",
          "name": "stdout",
          "text": [
            "Drive already mounted at /content/drive; to attempt to forcibly remount, call drive.mount(\"/content/drive\", force_remount=True).\n"
          ]
        }
      ]
    },
    {
      "cell_type": "code",
      "source": [
        "data=pd.read_csv(\"/content/drive/MyDrive/gene expression cancer RNA-Seq Data Set/data.csv\")"
      ],
      "metadata": {
        "id": "L_PVytCMLghu"
      },
      "execution_count": null,
      "outputs": []
    },
    {
      "cell_type": "code",
      "source": [
        "data1=pd.read_csv(\"/content/drive/MyDrive/gene expression cancer RNA-Seq Data Set/labels.csv\")"
      ],
      "metadata": {
        "id": "Rc0nOeL7LiAx"
      },
      "execution_count": null,
      "outputs": []
    },
    {
      "cell_type": "code",
      "source": [
        "data['Class']=data1['Class']"
      ],
      "metadata": {
        "id": "nAcqsC4hLo4u"
      },
      "execution_count": null,
      "outputs": []
    },
    {
      "cell_type": "code",
      "source": [
        "data.drop('Unnamed: 0',axis=1,inplace=True)"
      ],
      "metadata": {
        "id": "9I-zlPu5LtkE"
      },
      "execution_count": null,
      "outputs": []
    },
    {
      "cell_type": "code",
      "source": [
        "X=data.iloc[:,0:20531]\n",
        "y=data.iloc[:,-1]\n"
      ],
      "metadata": {
        "id": "fXaMngcqMzeF"
      },
      "execution_count": null,
      "outputs": []
    },
    {
      "cell_type": "code",
      "source": [
        "from sklearn.model_selection import train_test_split\n",
        "\n",
        "X_train, X_test, y_train, y_test =\\\n",
        "    train_test_split(X, y, \n",
        "                     test_size=0.3, \n",
        "                     random_state=0, \n",
        "                     stratify=y)"
      ],
      "metadata": {
        "id": "D0pHmElVM1qE"
      },
      "execution_count": null,
      "outputs": []
    },
    {
      "cell_type": "code",
      "source": [
        "data['Class'].value_counts()"
      ],
      "metadata": {
        "colab": {
          "base_uri": "https://localhost:8080/"
        },
        "id": "gpWs9kNTbZWa",
        "outputId": "568383f3-5fdd-4f1b-c3bb-0abbb137acf2"
      },
      "execution_count": null,
      "outputs": [
        {
          "output_type": "execute_result",
          "data": {
            "text/plain": [
              "BRCA    300\n",
              "KIRC    146\n",
              "LUAD    141\n",
              "PRAD    136\n",
              "COAD     78\n",
              "Name: Class, dtype: int64"
            ]
          },
          "metadata": {},
          "execution_count": 21
        }
      ]
    },
    {
      "cell_type": "code",
      "source": [
        "from sklearn.preprocessing import StandardScaler\n",
        "\n",
        "\n",
        "sc = StandardScaler()\n",
        "X_train_std = sc.fit_transform(X_train)\n",
        "X_test_std = sc.transform(X_test)"
      ],
      "metadata": {
        "id": "UeI0rz5CM3fG"
      },
      "execution_count": null,
      "outputs": []
    },
    {
      "cell_type": "code",
      "source": [
        "#apply SelectKBest class to extract top 10 best features\n",
        "from sklearn.feature_selection import SelectKBest\n",
        "from sklearn.feature_selection import chi2\n",
        "bestfeatures = SelectKBest(score_func=chi2, k=10)\n",
        "fit = bestfeatures.fit(X,y)\n",
        "dfscores = pd.DataFrame(fit.scores_)\n",
        "dfcolumns = pd.DataFrame(X.columns)\n",
        "#concat two dataframes for better visualization \n",
        "featureScores = pd.concat([dfcolumns,dfscores],axis=1)\n",
        "featureScores.columns = ['Specs','Score']  #naming the dataframe columns\n",
        "print(featureScores.nlargest(20,'Score'))  #print 20 best features"
      ],
      "metadata": {
        "colab": {
          "base_uri": "https://localhost:8080/"
        },
        "id": "oAJ2plBNM5AC",
        "outputId": "cfe82b08-9955-4170-c64b-19aba79442f0"
      },
      "execution_count": null,
      "outputs": [
        {
          "output_type": "stream",
          "name": "stdout",
          "text": [
            "            Specs        Score\n",
            "9176    gene_9176  8580.566498\n",
            "9175    gene_9175  7363.380532\n",
            "15898  gene_15898  6902.074640\n",
            "220      gene_220  6333.703681\n",
            "219      gene_219  6259.461507\n",
            "15896  gene_15896  6167.421060\n",
            "18135  gene_18135  6068.309487\n",
            "15899  gene_15899  6060.031639\n",
            "12069  gene_12069  6057.465466\n",
            "15895  gene_15895  5993.573219\n",
            "13976  gene_13976  5784.707717\n",
            "16132  gene_16132  5678.660643\n",
            "12995  gene_12995  5607.494517\n",
            "3439    gene_3439  5267.251896\n",
            "19153  gene_19153  5210.506981\n",
            "5829    gene_5829  5169.020002\n",
            "450      gene_450  5164.083569\n",
            "16169  gene_16169  5074.756132\n",
            "15591  gene_15591  4984.815446\n",
            "11903  gene_11903  4978.029220\n"
          ]
        }
      ]
    },
    {
      "cell_type": "code",
      "source": [
        "df=data.iloc[:,[9176,9175,15898,220,219,15896,18135,15899,12069,15895,13976,16132,12995,3439,19153,5829,450,16169,15591,1190,-1]]\n",
        "df"
      ],
      "metadata": {
        "colab": {
          "base_uri": "https://localhost:8080/",
          "height": 488
        },
        "id": "R6GrUhmAM64T",
        "outputId": "1de1405b-2cc8-43ae-d67c-97059c638ce0"
      },
      "execution_count": null,
      "outputs": [
        {
          "output_type": "execute_result",
          "data": {
            "text/plain": [
              "     gene_9176  gene_9175  gene_15898  gene_220  gene_219  gene_15896  \\\n",
              "0    18.525161  17.173570    1.334282  0.591871  0.591871    0.591871   \n",
              "1     0.000000   0.000000   13.609213  0.000000  0.000000   13.532125   \n",
              "2    16.053597  14.818422    1.074163  0.452595  0.000000    1.074163   \n",
              "3    18.371794  17.371079    0.434882  0.434882  1.039419    4.216416   \n",
              "4     0.000000   1.580097    1.095654  0.000000  0.000000    0.360982   \n",
              "..         ...        ...         ...       ...       ...         ...   \n",
              "796   1.611739   1.955573    0.000000  0.000000  0.000000    0.000000   \n",
              "797   0.000000   0.618051   18.640513  0.000000  0.000000   16.084458   \n",
              "798   4.812406   3.648673    1.325099  0.000000  1.002595    0.586693   \n",
              "799  18.166516  16.418269    2.577175  0.000000  0.000000    0.000000   \n",
              "800  16.864488  15.605103    0.000000  0.000000  1.603929    5.602694   \n",
              "\n",
              "     gene_18135  gene_15899  gene_12069  gene_15895  ...  gene_16132  \\\n",
              "0      6.878308    0.000000    4.692126    0.000000  ...    0.000000   \n",
              "1      0.000000   12.695983    0.000000   10.068832  ...    0.000000   \n",
              "2     12.900029    0.000000   14.766151    0.000000  ...    0.452595   \n",
              "3     13.907304    0.000000    8.653719    0.000000  ...    0.000000   \n",
              "4      0.000000    0.000000    0.000000    0.000000  ...    0.000000   \n",
              "..          ...         ...         ...         ...  ...         ...   \n",
              "796    0.000000    0.000000    0.496922    0.000000  ...    0.000000   \n",
              "797    0.000000    6.997044    0.000000   12.005982  ...    0.618051   \n",
              "798    3.911778    0.000000    3.092089    4.677458  ...    1.002595   \n",
              "799   12.741256    0.000000   16.649719    3.239566  ...    0.995304   \n",
              "800    8.390233    0.000000    0.000000    0.000000  ...    0.000000   \n",
              "\n",
              "     gene_12995  gene_3439  gene_19153  gene_5829  gene_450  gene_16169  \\\n",
              "0     13.186662   3.266292    1.010279   0.000000  0.000000    3.478079   \n",
              "1      0.000000   0.323658    0.000000   0.000000  0.000000    0.000000   \n",
              "2      3.000252   0.000000    0.000000   2.785739  0.000000    0.000000   \n",
              "3     14.465586   0.000000    0.768587   1.464093  0.000000    0.768587   \n",
              "4      0.360982   0.000000    0.000000   0.000000  0.360982    0.649386   \n",
              "..          ...        ...         ...        ...       ...         ...   \n",
              "796    1.159435   0.000000    0.000000   0.000000  0.865919    0.865919   \n",
              "797    0.000000   1.049282    0.000000   0.000000  0.000000    0.000000   \n",
              "798    0.000000   8.309003    4.911955  11.518225  0.000000    0.000000   \n",
              "799    5.294672   0.000000    0.000000   0.581881  0.000000    1.578746   \n",
              "800   10.876202   0.000000    1.238665   0.000000  0.000000    1.238665   \n",
              "\n",
              "     gene_15591  gene_1190  Class  \n",
              "0      0.000000   7.031572   PRAD  \n",
              "1      6.555574   8.786832   LUAD  \n",
              "2      0.000000   5.388975   PRAD  \n",
              "3      0.000000   8.317494   PRAD  \n",
              "4      0.000000   8.571768   BRCA  \n",
              "..          ...        ...    ...  \n",
              "796    0.000000   9.928974   BRCA  \n",
              "797    4.616440   5.850112   LUAD  \n",
              "798    0.000000   8.814191   COAD  \n",
              "799    0.000000   7.854881   PRAD  \n",
              "800    0.000000   8.646688   PRAD  \n",
              "\n",
              "[801 rows x 21 columns]"
            ],
            "text/html": [
              "\n",
              "  <div id=\"df-5fb309d6-5748-4a4d-9b43-43e0f1799554\">\n",
              "    <div class=\"colab-df-container\">\n",
              "      <div>\n",
              "<style scoped>\n",
              "    .dataframe tbody tr th:only-of-type {\n",
              "        vertical-align: middle;\n",
              "    }\n",
              "\n",
              "    .dataframe tbody tr th {\n",
              "        vertical-align: top;\n",
              "    }\n",
              "\n",
              "    .dataframe thead th {\n",
              "        text-align: right;\n",
              "    }\n",
              "</style>\n",
              "<table border=\"1\" class=\"dataframe\">\n",
              "  <thead>\n",
              "    <tr style=\"text-align: right;\">\n",
              "      <th></th>\n",
              "      <th>gene_9176</th>\n",
              "      <th>gene_9175</th>\n",
              "      <th>gene_15898</th>\n",
              "      <th>gene_220</th>\n",
              "      <th>gene_219</th>\n",
              "      <th>gene_15896</th>\n",
              "      <th>gene_18135</th>\n",
              "      <th>gene_15899</th>\n",
              "      <th>gene_12069</th>\n",
              "      <th>gene_15895</th>\n",
              "      <th>...</th>\n",
              "      <th>gene_16132</th>\n",
              "      <th>gene_12995</th>\n",
              "      <th>gene_3439</th>\n",
              "      <th>gene_19153</th>\n",
              "      <th>gene_5829</th>\n",
              "      <th>gene_450</th>\n",
              "      <th>gene_16169</th>\n",
              "      <th>gene_15591</th>\n",
              "      <th>gene_1190</th>\n",
              "      <th>Class</th>\n",
              "    </tr>\n",
              "  </thead>\n",
              "  <tbody>\n",
              "    <tr>\n",
              "      <th>0</th>\n",
              "      <td>18.525161</td>\n",
              "      <td>17.173570</td>\n",
              "      <td>1.334282</td>\n",
              "      <td>0.591871</td>\n",
              "      <td>0.591871</td>\n",
              "      <td>0.591871</td>\n",
              "      <td>6.878308</td>\n",
              "      <td>0.000000</td>\n",
              "      <td>4.692126</td>\n",
              "      <td>0.000000</td>\n",
              "      <td>...</td>\n",
              "      <td>0.000000</td>\n",
              "      <td>13.186662</td>\n",
              "      <td>3.266292</td>\n",
              "      <td>1.010279</td>\n",
              "      <td>0.000000</td>\n",
              "      <td>0.000000</td>\n",
              "      <td>3.478079</td>\n",
              "      <td>0.000000</td>\n",
              "      <td>7.031572</td>\n",
              "      <td>PRAD</td>\n",
              "    </tr>\n",
              "    <tr>\n",
              "      <th>1</th>\n",
              "      <td>0.000000</td>\n",
              "      <td>0.000000</td>\n",
              "      <td>13.609213</td>\n",
              "      <td>0.000000</td>\n",
              "      <td>0.000000</td>\n",
              "      <td>13.532125</td>\n",
              "      <td>0.000000</td>\n",
              "      <td>12.695983</td>\n",
              "      <td>0.000000</td>\n",
              "      <td>10.068832</td>\n",
              "      <td>...</td>\n",
              "      <td>0.000000</td>\n",
              "      <td>0.000000</td>\n",
              "      <td>0.323658</td>\n",
              "      <td>0.000000</td>\n",
              "      <td>0.000000</td>\n",
              "      <td>0.000000</td>\n",
              "      <td>0.000000</td>\n",
              "      <td>6.555574</td>\n",
              "      <td>8.786832</td>\n",
              "      <td>LUAD</td>\n",
              "    </tr>\n",
              "    <tr>\n",
              "      <th>2</th>\n",
              "      <td>16.053597</td>\n",
              "      <td>14.818422</td>\n",
              "      <td>1.074163</td>\n",
              "      <td>0.452595</td>\n",
              "      <td>0.000000</td>\n",
              "      <td>1.074163</td>\n",
              "      <td>12.900029</td>\n",
              "      <td>0.000000</td>\n",
              "      <td>14.766151</td>\n",
              "      <td>0.000000</td>\n",
              "      <td>...</td>\n",
              "      <td>0.452595</td>\n",
              "      <td>3.000252</td>\n",
              "      <td>0.000000</td>\n",
              "      <td>0.000000</td>\n",
              "      <td>2.785739</td>\n",
              "      <td>0.000000</td>\n",
              "      <td>0.000000</td>\n",
              "      <td>0.000000</td>\n",
              "      <td>5.388975</td>\n",
              "      <td>PRAD</td>\n",
              "    </tr>\n",
              "    <tr>\n",
              "      <th>3</th>\n",
              "      <td>18.371794</td>\n",
              "      <td>17.371079</td>\n",
              "      <td>0.434882</td>\n",
              "      <td>0.434882</td>\n",
              "      <td>1.039419</td>\n",
              "      <td>4.216416</td>\n",
              "      <td>13.907304</td>\n",
              "      <td>0.000000</td>\n",
              "      <td>8.653719</td>\n",
              "      <td>0.000000</td>\n",
              "      <td>...</td>\n",
              "      <td>0.000000</td>\n",
              "      <td>14.465586</td>\n",
              "      <td>0.000000</td>\n",
              "      <td>0.768587</td>\n",
              "      <td>1.464093</td>\n",
              "      <td>0.000000</td>\n",
              "      <td>0.768587</td>\n",
              "      <td>0.000000</td>\n",
              "      <td>8.317494</td>\n",
              "      <td>PRAD</td>\n",
              "    </tr>\n",
              "    <tr>\n",
              "      <th>4</th>\n",
              "      <td>0.000000</td>\n",
              "      <td>1.580097</td>\n",
              "      <td>1.095654</td>\n",
              "      <td>0.000000</td>\n",
              "      <td>0.000000</td>\n",
              "      <td>0.360982</td>\n",
              "      <td>0.000000</td>\n",
              "      <td>0.000000</td>\n",
              "      <td>0.000000</td>\n",
              "      <td>0.000000</td>\n",
              "      <td>...</td>\n",
              "      <td>0.000000</td>\n",
              "      <td>0.360982</td>\n",
              "      <td>0.000000</td>\n",
              "      <td>0.000000</td>\n",
              "      <td>0.000000</td>\n",
              "      <td>0.360982</td>\n",
              "      <td>0.649386</td>\n",
              "      <td>0.000000</td>\n",
              "      <td>8.571768</td>\n",
              "      <td>BRCA</td>\n",
              "    </tr>\n",
              "    <tr>\n",
              "      <th>...</th>\n",
              "      <td>...</td>\n",
              "      <td>...</td>\n",
              "      <td>...</td>\n",
              "      <td>...</td>\n",
              "      <td>...</td>\n",
              "      <td>...</td>\n",
              "      <td>...</td>\n",
              "      <td>...</td>\n",
              "      <td>...</td>\n",
              "      <td>...</td>\n",
              "      <td>...</td>\n",
              "      <td>...</td>\n",
              "      <td>...</td>\n",
              "      <td>...</td>\n",
              "      <td>...</td>\n",
              "      <td>...</td>\n",
              "      <td>...</td>\n",
              "      <td>...</td>\n",
              "      <td>...</td>\n",
              "      <td>...</td>\n",
              "      <td>...</td>\n",
              "    </tr>\n",
              "    <tr>\n",
              "      <th>796</th>\n",
              "      <td>1.611739</td>\n",
              "      <td>1.955573</td>\n",
              "      <td>0.000000</td>\n",
              "      <td>0.000000</td>\n",
              "      <td>0.000000</td>\n",
              "      <td>0.000000</td>\n",
              "      <td>0.000000</td>\n",
              "      <td>0.000000</td>\n",
              "      <td>0.496922</td>\n",
              "      <td>0.000000</td>\n",
              "      <td>...</td>\n",
              "      <td>0.000000</td>\n",
              "      <td>1.159435</td>\n",
              "      <td>0.000000</td>\n",
              "      <td>0.000000</td>\n",
              "      <td>0.000000</td>\n",
              "      <td>0.865919</td>\n",
              "      <td>0.865919</td>\n",
              "      <td>0.000000</td>\n",
              "      <td>9.928974</td>\n",
              "      <td>BRCA</td>\n",
              "    </tr>\n",
              "    <tr>\n",
              "      <th>797</th>\n",
              "      <td>0.000000</td>\n",
              "      <td>0.618051</td>\n",
              "      <td>18.640513</td>\n",
              "      <td>0.000000</td>\n",
              "      <td>0.000000</td>\n",
              "      <td>16.084458</td>\n",
              "      <td>0.000000</td>\n",
              "      <td>6.997044</td>\n",
              "      <td>0.000000</td>\n",
              "      <td>12.005982</td>\n",
              "      <td>...</td>\n",
              "      <td>0.618051</td>\n",
              "      <td>0.000000</td>\n",
              "      <td>1.049282</td>\n",
              "      <td>0.000000</td>\n",
              "      <td>0.000000</td>\n",
              "      <td>0.000000</td>\n",
              "      <td>0.000000</td>\n",
              "      <td>4.616440</td>\n",
              "      <td>5.850112</td>\n",
              "      <td>LUAD</td>\n",
              "    </tr>\n",
              "    <tr>\n",
              "      <th>798</th>\n",
              "      <td>4.812406</td>\n",
              "      <td>3.648673</td>\n",
              "      <td>1.325099</td>\n",
              "      <td>0.000000</td>\n",
              "      <td>1.002595</td>\n",
              "      <td>0.586693</td>\n",
              "      <td>3.911778</td>\n",
              "      <td>0.000000</td>\n",
              "      <td>3.092089</td>\n",
              "      <td>4.677458</td>\n",
              "      <td>...</td>\n",
              "      <td>1.002595</td>\n",
              "      <td>0.000000</td>\n",
              "      <td>8.309003</td>\n",
              "      <td>4.911955</td>\n",
              "      <td>11.518225</td>\n",
              "      <td>0.000000</td>\n",
              "      <td>0.000000</td>\n",
              "      <td>0.000000</td>\n",
              "      <td>8.814191</td>\n",
              "      <td>COAD</td>\n",
              "    </tr>\n",
              "    <tr>\n",
              "      <th>799</th>\n",
              "      <td>18.166516</td>\n",
              "      <td>16.418269</td>\n",
              "      <td>2.577175</td>\n",
              "      <td>0.000000</td>\n",
              "      <td>0.000000</td>\n",
              "      <td>0.000000</td>\n",
              "      <td>12.741256</td>\n",
              "      <td>0.000000</td>\n",
              "      <td>16.649719</td>\n",
              "      <td>3.239566</td>\n",
              "      <td>...</td>\n",
              "      <td>0.995304</td>\n",
              "      <td>5.294672</td>\n",
              "      <td>0.000000</td>\n",
              "      <td>0.000000</td>\n",
              "      <td>0.581881</td>\n",
              "      <td>0.000000</td>\n",
              "      <td>1.578746</td>\n",
              "      <td>0.000000</td>\n",
              "      <td>7.854881</td>\n",
              "      <td>PRAD</td>\n",
              "    </tr>\n",
              "    <tr>\n",
              "      <th>800</th>\n",
              "      <td>16.864488</td>\n",
              "      <td>15.605103</td>\n",
              "      <td>0.000000</td>\n",
              "      <td>0.000000</td>\n",
              "      <td>1.603929</td>\n",
              "      <td>5.602694</td>\n",
              "      <td>8.390233</td>\n",
              "      <td>0.000000</td>\n",
              "      <td>0.000000</td>\n",
              "      <td>0.000000</td>\n",
              "      <td>...</td>\n",
              "      <td>0.000000</td>\n",
              "      <td>10.876202</td>\n",
              "      <td>0.000000</td>\n",
              "      <td>1.238665</td>\n",
              "      <td>0.000000</td>\n",
              "      <td>0.000000</td>\n",
              "      <td>1.238665</td>\n",
              "      <td>0.000000</td>\n",
              "      <td>8.646688</td>\n",
              "      <td>PRAD</td>\n",
              "    </tr>\n",
              "  </tbody>\n",
              "</table>\n",
              "<p>801 rows × 21 columns</p>\n",
              "</div>\n",
              "      <button class=\"colab-df-convert\" onclick=\"convertToInteractive('df-5fb309d6-5748-4a4d-9b43-43e0f1799554')\"\n",
              "              title=\"Convert this dataframe to an interactive table.\"\n",
              "              style=\"display:none;\">\n",
              "        \n",
              "  <svg xmlns=\"http://www.w3.org/2000/svg\" height=\"24px\"viewBox=\"0 0 24 24\"\n",
              "       width=\"24px\">\n",
              "    <path d=\"M0 0h24v24H0V0z\" fill=\"none\"/>\n",
              "    <path d=\"M18.56 5.44l.94 2.06.94-2.06 2.06-.94-2.06-.94-.94-2.06-.94 2.06-2.06.94zm-11 1L8.5 8.5l.94-2.06 2.06-.94-2.06-.94L8.5 2.5l-.94 2.06-2.06.94zm10 10l.94 2.06.94-2.06 2.06-.94-2.06-.94-.94-2.06-.94 2.06-2.06.94z\"/><path d=\"M17.41 7.96l-1.37-1.37c-.4-.4-.92-.59-1.43-.59-.52 0-1.04.2-1.43.59L10.3 9.45l-7.72 7.72c-.78.78-.78 2.05 0 2.83L4 21.41c.39.39.9.59 1.41.59.51 0 1.02-.2 1.41-.59l7.78-7.78 2.81-2.81c.8-.78.8-2.07 0-2.86zM5.41 20L4 18.59l7.72-7.72 1.47 1.35L5.41 20z\"/>\n",
              "  </svg>\n",
              "      </button>\n",
              "      \n",
              "  <style>\n",
              "    .colab-df-container {\n",
              "      display:flex;\n",
              "      flex-wrap:wrap;\n",
              "      gap: 12px;\n",
              "    }\n",
              "\n",
              "    .colab-df-convert {\n",
              "      background-color: #E8F0FE;\n",
              "      border: none;\n",
              "      border-radius: 50%;\n",
              "      cursor: pointer;\n",
              "      display: none;\n",
              "      fill: #1967D2;\n",
              "      height: 32px;\n",
              "      padding: 0 0 0 0;\n",
              "      width: 32px;\n",
              "    }\n",
              "\n",
              "    .colab-df-convert:hover {\n",
              "      background-color: #E2EBFA;\n",
              "      box-shadow: 0px 1px 2px rgba(60, 64, 67, 0.3), 0px 1px 3px 1px rgba(60, 64, 67, 0.15);\n",
              "      fill: #174EA6;\n",
              "    }\n",
              "\n",
              "    [theme=dark] .colab-df-convert {\n",
              "      background-color: #3B4455;\n",
              "      fill: #D2E3FC;\n",
              "    }\n",
              "\n",
              "    [theme=dark] .colab-df-convert:hover {\n",
              "      background-color: #434B5C;\n",
              "      box-shadow: 0px 1px 3px 1px rgba(0, 0, 0, 0.15);\n",
              "      filter: drop-shadow(0px 1px 2px rgba(0, 0, 0, 0.3));\n",
              "      fill: #FFFFFF;\n",
              "    }\n",
              "  </style>\n",
              "\n",
              "      <script>\n",
              "        const buttonEl =\n",
              "          document.querySelector('#df-5fb309d6-5748-4a4d-9b43-43e0f1799554 button.colab-df-convert');\n",
              "        buttonEl.style.display =\n",
              "          google.colab.kernel.accessAllowed ? 'block' : 'none';\n",
              "\n",
              "        async function convertToInteractive(key) {\n",
              "          const element = document.querySelector('#df-5fb309d6-5748-4a4d-9b43-43e0f1799554');\n",
              "          const dataTable =\n",
              "            await google.colab.kernel.invokeFunction('convertToInteractive',\n",
              "                                                     [key], {});\n",
              "          if (!dataTable) return;\n",
              "\n",
              "          const docLinkHtml = 'Like what you see? Visit the ' +\n",
              "            '<a target=\"_blank\" href=https://colab.research.google.com/notebooks/data_table.ipynb>data table notebook</a>'\n",
              "            + ' to learn more about interactive tables.';\n",
              "          element.innerHTML = '';\n",
              "          dataTable['output_type'] = 'display_data';\n",
              "          await google.colab.output.renderOutput(dataTable, element);\n",
              "          const docLink = document.createElement('div');\n",
              "          docLink.innerHTML = docLinkHtml;\n",
              "          element.appendChild(docLink);\n",
              "        }\n",
              "      </script>\n",
              "    </div>\n",
              "  </div>\n",
              "  "
            ]
          },
          "metadata": {},
          "execution_count": 24
        }
      ]
    },
    {
      "cell_type": "code",
      "source": [
        "\n",
        "sns.catplot(data=df, x=\"Class\", y=\"gene_9176\", hue=\"Class\", kind=\"bar\")"
      ],
      "metadata": {
        "colab": {
          "base_uri": "https://localhost:8080/",
          "height": 387
        },
        "id": "Lf8jMtsrVbpP",
        "outputId": "ba7c21fe-0571-467b-cd11-16b5f4214049"
      },
      "execution_count": null,
      "outputs": [
        {
          "output_type": "execute_result",
          "data": {
            "text/plain": [
              "<seaborn.axisgrid.FacetGrid at 0x7fd651096160>"
            ]
          },
          "metadata": {},
          "execution_count": 25
        },
        {
          "output_type": "display_data",
          "data": {
            "text/plain": [
              "<Figure size 360x360 with 1 Axes>"
            ],
            "image/png": "[encoded data removed]"
          },
          "metadata": {
            "needs_background": "light"
          }
        }
      ]
    },
    {
      "cell_type": "code",
      "source": [
        "\n",
        "sns.catplot(data=df, x=\"Class\", y=\"gene_9175\", hue=\"Class\", kind=\"bar\")"
      ],
      "metadata": {
        "colab": {
          "base_uri": "https://localhost:8080/",
          "height": 387
        },
        "id": "boReDdH9Vbly",
        "outputId": "38510c88-ee6f-4814-a566-dc7e1eb84316"
      },
      "execution_count": null,
      "outputs": [
        {
          "output_type": "execute_result",
          "data": {
            "text/plain": [
              "<seaborn.axisgrid.FacetGrid at 0x7fd64e277190>"
            ]
          },
          "metadata": {},
          "execution_count": 26
        },
        {
          "output_type": "display_data",
          "data": {
            "text/plain": [
              "<Figure size 360x360 with 1 Axes>"
            ],
            "image/png": "[encoded data removed]"
          },
          "metadata": {
            "needs_background": "light"
          }
        }
      ]
    },
    {
      "cell_type": "code",
      "source": [
        "\n",
        "sns.catplot(data=df, x=\"Class\", y=\"gene_15898\", hue=\"Class\", kind=\"bar\")"
      ],
      "metadata": {
        "colab": {
          "base_uri": "https://localhost:8080/",
          "height": 387
        },
        "id": "_gSUGxPcVbkJ",
        "outputId": "8293a664-ce7e-4219-be0b-0c4a1512c63c"
      },
      "execution_count": null,
      "outputs": [
        {
          "output_type": "execute_result",
          "data": {
            "text/plain": [
              "<seaborn.axisgrid.FacetGrid at 0x7fd64deb7430>"
            ]
          },
          "metadata": {},
          "execution_count": 27
        },
        {
          "output_type": "display_data",
          "data": {
            "text/plain": [
              "<Figure size 360x360 with 1 Axes>"
            ],
            "image/png": "[encoded data removed]"
          },
          "metadata": {
            "needs_background": "light"
          }
        }
      ]
    },
    {
      "cell_type": "code",
      "source": [
        "\n",
        "sns.catplot(data=df, x=\"Class\", y=\"gene_220\", hue=\"Class\", kind=\"bar\")"
      ],
      "metadata": {
        "colab": {
          "base_uri": "https://localhost:8080/",
          "height": 387
        },
        "id": "4SScPMWqVbiH",
        "outputId": "6eb1a1a5-e952-4a8b-bde7-e860b39bc58f"
      },
      "execution_count": null,
      "outputs": [
        {
          "output_type": "execute_result",
          "data": {
            "text/plain": [
              "<seaborn.axisgrid.FacetGrid at 0x7fd652fead00>"
            ]
          },
          "metadata": {},
          "execution_count": 28
        },
        {
          "output_type": "display_data",
          "data": {
            "text/plain": [
              "<Figure size 360x360 with 1 Axes>"
            ],
            "image/png": "[encoded data removed]"
          },
          "metadata": {
            "needs_background": "light"
          }
        }
      ]
    },
    {
      "cell_type": "code",
      "source": [
        "\n",
        "sns.catplot(data=df, x=\"Class\", y=\"gene_219\", hue=\"Class\", kind=\"bar\")"
      ],
      "metadata": {
        "colab": {
          "base_uri": "https://localhost:8080/",
          "height": 387
        },
        "id": "-DOJlZe4VbgA",
        "outputId": "71b87220-54bf-4552-fcb6-7d72fb3a7d02"
      },
      "execution_count": null,
      "outputs": [
        {
          "output_type": "execute_result",
          "data": {
            "text/plain": [
              "<seaborn.axisgrid.FacetGrid at 0x7fd6519aae50>"
            ]
          },
          "metadata": {},
          "execution_count": 29
        },
        {
          "output_type": "display_data",
          "data": {
            "text/plain": [
              "<Figure size 360x360 with 1 Axes>"
            ],
            "image/png": "[encoded data removed]"
          },
          "metadata": {
            "needs_background": "light"
          }
        }
      ]
    },
    {
      "cell_type": "code",
      "source": [
        "\n",
        "sns.catplot(data=df, x=\"Class\", y=\"gene_18135\", hue=\"Class\", kind=\"bar\")"
      ],
      "metadata": {
        "colab": {
          "base_uri": "https://localhost:8080/",
          "height": 387
        },
        "id": "fPBpYPDCVbd9",
        "outputId": "268cc614-4712-47e0-8ec0-6ffeb7a4aa32"
      },
      "execution_count": null,
      "outputs": [
        {
          "output_type": "execute_result",
          "data": {
            "text/plain": [
              "<seaborn.axisgrid.FacetGrid at 0x7fd653866f40>"
            ]
          },
          "metadata": {},
          "execution_count": 30
        },
        {
          "output_type": "display_data",
          "data": {
            "text/plain": [
              "<Figure size 360x360 with 1 Axes>"
            ],
            "image/png": "[encoded data removed]"
          },
          "metadata": {
            "needs_background": "light"
          }
        }
      ]
    },
    {
      "cell_type": "code",
      "source": [
        "\n",
        "sns.catplot(data=df, x=\"Class\", y=\"gene_15896\", hue=\"Class\", kind=\"bar\")"
      ],
      "metadata": {
        "colab": {
          "base_uri": "https://localhost:8080/",
          "height": 387
        },
        "id": "9ZFZYkKJVbcI",
        "outputId": "47206bac-d086-48c6-f142-f7df21b4e5f7"
      },
      "execution_count": null,
      "outputs": [
        {
          "output_type": "execute_result",
          "data": {
            "text/plain": [
              "<seaborn.axisgrid.FacetGrid at 0x7fd652103220>"
            ]
          },
          "metadata": {},
          "execution_count": 31
        },
        {
          "output_type": "display_data",
          "data": {
            "text/plain": [
              "<Figure size 360x360 with 1 Axes>"
            ],
            "image/png": "[encoded data removed]"
          },
          "metadata": {
            "needs_background": "light"
          }
        }
      ]
    },
    {
      "cell_type": "code",
      "source": [
        "\n",
        "sns.catplot(data=df, x=\"Class\", y=\"gene_15899\", hue=\"Class\", kind=\"bar\")"
      ],
      "metadata": {
        "colab": {
          "base_uri": "https://localhost:8080/",
          "height": 387
        },
        "id": "DNJRxiC9VbaT",
        "outputId": "8c66fbcc-edf4-4725-fe15-898548a59fad"
      },
      "execution_count": null,
      "outputs": [
        {
          "output_type": "execute_result",
          "data": {
            "text/plain": [
              "<seaborn.axisgrid.FacetGrid at 0x7fd64ffeb790>"
            ]
          },
          "metadata": {},
          "execution_count": 32
        },
        {
          "output_type": "display_data",
          "data": {
            "text/plain": [
              "<Figure size 360x360 with 1 Axes>"
            ],
            "image/png": "[encoded data removed]"
          },
          "metadata": {
            "needs_background": "light"
          }
        }
      ]
    },
    {
      "cell_type": "code",
      "source": [
        "\n",
        "sns.catplot(data=df, x=\"Class\", y=\"gene_12069\", hue=\"Class\", kind=\"bar\")"
      ],
      "metadata": {
        "colab": {
          "base_uri": "https://localhost:8080/",
          "height": 387
        },
        "id": "eJe9oRKsVbYc",
        "outputId": "91df16eb-8dbf-41c0-a911-05f7b7800502"
      },
      "execution_count": null,
      "outputs": [
        {
          "output_type": "execute_result",
          "data": {
            "text/plain": [
              "<seaborn.axisgrid.FacetGrid at 0x7fd651ec8f40>"
            ]
          },
          "metadata": {},
          "execution_count": 33
        },
        {
          "output_type": "display_data",
          "data": {
            "text/plain": [
              "<Figure size 360x360 with 1 Axes>"
            ],
            "image/png": "[encoded data removed]"
          },
          "metadata": {
            "needs_background": "light"
          }
        }
      ]
    },
    {
      "cell_type": "code",
      "source": [
        "\n",
        "sns.catplot(data=df, x=\"Class\", y=\"gene_15895\", hue=\"Class\", kind=\"bar\")"
      ],
      "metadata": {
        "colab": {
          "base_uri": "https://localhost:8080/",
          "height": 387
        },
        "id": "2LlR1PRxVbV8",
        "outputId": "a126b7ac-d614-47d9-ff08-b5218605eae8"
      },
      "execution_count": null,
      "outputs": [
        {
          "output_type": "execute_result",
          "data": {
            "text/plain": [
              "<seaborn.axisgrid.FacetGrid at 0x7fd650c511f0>"
            ]
          },
          "metadata": {},
          "execution_count": 34
        },
        {
          "output_type": "display_data",
          "data": {
            "text/plain": [
              "<Figure size 360x360 with 1 Axes>"
            ],
            "image/png": "[encoded data removed]"
          },
          "metadata": {
            "needs_background": "light"
          }
        }
      ]
    },
    {
      "cell_type": "code",
      "source": [
        "\n",
        "sns.catplot(data=df, x=\"Class\", y=\"gene_13976\", hue=\"Class\", kind=\"bar\")"
      ],
      "metadata": {
        "colab": {
          "base_uri": "https://localhost:8080/",
          "height": 387
        },
        "id": "pjbDcFtYVbTj",
        "outputId": "a21fb612-82d4-4437-e227-edc0a832449a"
      },
      "execution_count": null,
      "outputs": [
        {
          "output_type": "execute_result",
          "data": {
            "text/plain": [
              "<seaborn.axisgrid.FacetGrid at 0x7fd651e9abb0>"
            ]
          },
          "metadata": {},
          "execution_count": 35
        },
        {
          "output_type": "display_data",
          "data": {
            "text/plain": [
              "<Figure size 360x360 with 1 Axes>"
            ],
            "image/png": "[encoded data removed]"
          },
          "metadata": {
            "needs_background": "light"
          }
        }
      ]
    },
    {
      "cell_type": "code",
      "source": [
        "\n",
        "sns.catplot(data=df, x=\"Class\", y=\"gene_12995\", hue=\"Class\", kind=\"bar\")"
      ],
      "metadata": {
        "colab": {
          "base_uri": "https://localhost:8080/",
          "height": 387
        },
        "id": "iiuIpPiuVbRd",
        "outputId": "c2fb45b5-205c-4a9c-f3e2-4da6de1164af"
      },
      "execution_count": null,
      "outputs": [
        {
          "output_type": "execute_result",
          "data": {
            "text/plain": [
              "<seaborn.axisgrid.FacetGrid at 0x7fd650691b50>"
            ]
          },
          "metadata": {},
          "execution_count": 36
        },
        {
          "output_type": "display_data",
          "data": {
            "text/plain": [
              "<Figure size 360x360 with 1 Axes>"
            ],
            "image/png": "[encoded data removed]"
          },
          "metadata": {
            "needs_background": "light"
          }
        }
      ]
    },
    {
      "cell_type": "code",
      "source": [
        "\n",
        "sns.catplot(data=df, x=\"Class\", y=\"gene_3439\", hue=\"Class\", kind=\"bar\")"
      ],
      "metadata": {
        "colab": {
          "base_uri": "https://localhost:8080/",
          "height": 387
        },
        "id": "Vm-aakXDVbPF",
        "outputId": "d4e7c62d-6d84-4dc4-af17-a90ff52225d5"
      },
      "execution_count": null,
      "outputs": [
        {
          "output_type": "execute_result",
          "data": {
            "text/plain": [
              "<seaborn.axisgrid.FacetGrid at 0x7fd6520d7e20>"
            ]
          },
          "metadata": {},
          "execution_count": 37
        },
        {
          "output_type": "display_data",
          "data": {
            "text/plain": [
              "<Figure size 360x360 with 1 Axes>"
            ],
            "image/png": "[encoded data removed]"
          },
          "metadata": {
            "needs_background": "light"
          }
        }
      ]
    },
    {
      "cell_type": "code",
      "source": [
        "\n",
        "sns.catplot(data=df, x=\"Class\", y=\"gene_19153\", hue=\"Class\", kind=\"bar\")"
      ],
      "metadata": {
        "colab": {
          "base_uri": "https://localhost:8080/",
          "height": 387
        },
        "id": "CoPmoOZiVbNG",
        "outputId": "a0c8649f-872b-4adf-fcf2-16d73f84e44b"
      },
      "execution_count": null,
      "outputs": [
        {
          "output_type": "execute_result",
          "data": {
            "text/plain": [
              "<seaborn.axisgrid.FacetGrid at 0x7fd651d40eb0>"
            ]
          },
          "metadata": {},
          "execution_count": 38
        },
        {
          "output_type": "display_data",
          "data": {
            "text/plain": [
              "<Figure size 360x360 with 1 Axes>"
            ],
            "image/png": "[encoded data removed]"
          },
          "metadata": {
            "needs_background": "light"
          }
        }
      ]
    },
    {
      "cell_type": "code",
      "source": [
        "\n",
        "sns.catplot(data=df, x=\"Class\", y=\"gene_5829\", hue=\"Class\", kind=\"bar\")"
      ],
      "metadata": {
        "colab": {
          "base_uri": "https://localhost:8080/",
          "height": 387
        },
        "id": "83658RIDVbKu",
        "outputId": "9ece2b27-12a0-4e2d-84c3-5e0f64fcaa35"
      },
      "execution_count": null,
      "outputs": [
        {
          "output_type": "execute_result",
          "data": {
            "text/plain": [
              "<seaborn.axisgrid.FacetGrid at 0x7fd650cac610>"
            ]
          },
          "metadata": {},
          "execution_count": 39
        },
        {
          "output_type": "display_data",
          "data": {
            "text/plain": [
              "<Figure size 360x360 with 1 Axes>"
            ],
            "image/png": "[encoded data removed]"
          },
          "metadata": {
            "needs_background": "light"
          }
        }
      ]
    },
    {
      "cell_type": "code",
      "source": [
        "\n",
        "sns.catplot(data=df, x=\"Class\", y=\"gene_450\", hue=\"Class\", kind=\"bar\")"
      ],
      "metadata": {
        "colab": {
          "base_uri": "https://localhost:8080/",
          "height": 387
        },
        "id": "yOIUtOzuVbI3",
        "outputId": "ada520a2-9463-45d7-85ac-f993f03aa3bc"
      },
      "execution_count": null,
      "outputs": [
        {
          "output_type": "execute_result",
          "data": {
            "text/plain": [
              "<seaborn.axisgrid.FacetGrid at 0x7fd65222e1c0>"
            ]
          },
          "metadata": {},
          "execution_count": 40
        },
        {
          "output_type": "display_data",
          "data": {
            "text/plain": [
              "<Figure size 360x360 with 1 Axes>"
            ],
            "image/png": "[encoded data removed]"
          },
          "metadata": {
            "needs_background": "light"
          }
        }
      ]
    },
    {
      "cell_type": "code",
      "source": [
        "\n",
        "sns.catplot(data=df, x=\"Class\", y=\"gene_16169\", hue=\"Class\", kind=\"bar\")"
      ],
      "metadata": {
        "colab": {
          "base_uri": "https://localhost:8080/",
          "height": 387
        },
        "id": "Sku4lgnIVbGz",
        "outputId": "640f3190-8558-44cf-c833-61ceee7d8e7f"
      },
      "execution_count": null,
      "outputs": [
        {
          "output_type": "execute_result",
          "data": {
            "text/plain": [
              "<seaborn.axisgrid.FacetGrid at 0x7fd653850160>"
            ]
          },
          "metadata": {},
          "execution_count": 41
        },
        {
          "output_type": "display_data",
          "data": {
            "text/plain": [
              "<Figure size 360x360 with 1 Axes>"
            ],
            "image/png": "[encoded data removed]"
          },
          "metadata": {
            "needs_background": "light"
          }
        }
      ]
    },
    {
      "cell_type": "code",
      "source": [
        "\n",
        "sns.catplot(data=df, x=\"Class\", y=\"gene_15591\", hue=\"Class\", kind=\"bar\")"
      ],
      "metadata": {
        "colab": {
          "base_uri": "https://localhost:8080/",
          "height": 387
        },
        "id": "ArocioDOVbEQ",
        "outputId": "6e8459dd-e156-46e9-98d5-b14a6738608f"
      },
      "execution_count": null,
      "outputs": [
        {
          "output_type": "execute_result",
          "data": {
            "text/plain": [
              "<seaborn.axisgrid.FacetGrid at 0x7fd65148c100>"
            ]
          },
          "metadata": {},
          "execution_count": 42
        },
        {
          "output_type": "display_data",
          "data": {
            "text/plain": [
              "<Figure size 360x360 with 1 Axes>"
            ],
            "image/png": "[encoded data removed]"
          },
          "metadata": {
            "needs_background": "light"
          }
        }
      ]
    },
    {
      "cell_type": "code",
      "source": [
        "\n",
        "sns.catplot(data=df, x=\"Class\", y=\"gene_1190\", hue=\"Class\", kind=\"bar\")"
      ],
      "metadata": {
        "colab": {
          "base_uri": "https://localhost:8080/",
          "height": 387
        },
        "id": "t4Iz39J5WUs2",
        "outputId": "5bb02e8d-fbff-4ef6-de67-c7ef31f51426"
      },
      "execution_count": null,
      "outputs": [
        {
          "output_type": "execute_result",
          "data": {
            "text/plain": [
              "<seaborn.axisgrid.FacetGrid at 0x7fd64b20edf0>"
            ]
          },
          "metadata": {},
          "execution_count": 43
        },
        {
          "output_type": "display_data",
          "data": {
            "text/plain": [
              "<Figure size 360x360 with 1 Axes>"
            ],
            "image/png": "[encoded data removed]"
          },
          "metadata": {
            "needs_background": "light"
          }
        }
      ]
    },
    {
      "cell_type": "code",
      "source": [
        "sns.catplot(data=df, x=\"Class\", kind=\"count\", palette=\"ch:.25\")"
      ],
      "metadata": {
        "colab": {
          "base_uri": "https://localhost:8080/",
          "height": 387
        },
        "id": "LzVsm5-DWWrX",
        "outputId": "3e3198a1-84b8-430e-ac83-653afbcc7a6d"
      },
      "execution_count": null,
      "outputs": [
        {
          "output_type": "execute_result",
          "data": {
            "text/plain": [
              "<seaborn.axisgrid.FacetGrid at 0x7fd6515f9220>"
            ]
          },
          "metadata": {},
          "execution_count": 44
        },
        {
          "output_type": "display_data",
          "data": {
            "text/plain": [
              "<Figure size 360x360 with 1 Axes>"
            ],
            "image/png": "[encoded data removed]"
          },
          "metadata": {
            "needs_background": "light"
          }
        }
      ]
    },
    {
      "cell_type": "code",
      "source": [],
      "metadata": {
        "id": "Q7KCV22BWrbZ"
      },
      "execution_count": null,
      "outputs": []
    },
    {
      "cell_type": "code",
      "source": [
        "from sklearn import preprocessing\n",
        "label_encoder = preprocessing.LabelEncoder()\n",
        "df['Class']= label_encoder.fit_transform(df['Class'])\n",
        "df['Class'].unique()"
      ],
      "metadata": {
        "colab": {
          "base_uri": "https://localhost:8080/"
        },
        "id": "DfiaQrPJNZQY",
        "outputId": "ac19dd37-2335-4efc-cdbb-905d81b8f207"
      },
      "execution_count": null,
      "outputs": [
        {
          "output_type": "stream",
          "name": "stderr",
          "text": [
            "<ipython-input-45-a102804cd712>:3: SettingWithCopyWarning: \n",
            "A value is trying to be set on a copy of a slice from a DataFrame.\n",
            "Try using .loc[row_indexer,col_indexer] = value instead\n",
            "\n",
            "See the caveats in the documentation: https://pandas.pydata.org/pandas-docs/stable/user_guide/indexing.html#returning-a-view-versus-a-copy\n",
            "  df['Class']= label_encoder.fit_transform(df['Class'])\n"
          ]
        },
        {
          "output_type": "execute_result",
          "data": {
            "text/plain": [
              "array([4, 3, 0, 2, 1])"
            ]
          },
          "metadata": {},
          "execution_count": 45
        }
      ]
    },
    {
      "cell_type": "code",
      "source": [
        "import mlxtend\n",
        "from mlxtend.frequent_patterns import apriori\n",
        "from mlxtend.frequent_patterns import association_rules"
      ],
      "metadata": {
        "id": "VIWi-g7sM9aT"
      },
      "execution_count": null,
      "outputs": []
    },
    {
      "cell_type": "code",
      "source": [
        "from sklearn.model_selection import train_test_split\n",
        "from sklearn.metrics import confusion_matrix\n",
        "from sklearn.metrics import accuracy_score\n",
        "from sklearn.ensemble import RandomForestClassifier\n",
        "from mlxtend.plotting import plot_confusion_matrix\n",
        "from sklearn.tree import DecisionTreeClassifier\n",
        "from sklearn.linear_model import LogisticRegression\n",
        "from sklearn.neighbors import KNeighborsClassifier"
      ],
      "metadata": {
        "id": "RckRiPhpNCpT"
      },
      "execution_count": null,
      "outputs": []
    },
    {
      "cell_type": "code",
      "source": [
        "X=df.iloc[:,0:20]\n",
        "y=df.iloc[:,-1]\n"
      ],
      "metadata": {
        "id": "c24nKLJjNETI"
      },
      "execution_count": null,
      "outputs": []
    },
    {
      "cell_type": "code",
      "source": [
        "X_train, X_test, y_train, y_test = train_test_split(X, y, test_size=0.3, random_state=0)"
      ],
      "metadata": {
        "id": "IYWpPN_FNF9u"
      },
      "execution_count": null,
      "outputs": []
    },
    {
      "cell_type": "code",
      "source": [
        "print(\"X Training data shape: \",X_train.shape)\n",
        "print(\"X Testing data shape: \",X_test.shape)\n",
        "print(\"y Training data shape: \",y_train.shape)\n",
        "print(\"y Testing data shape: \",y_test.shape)"
      ],
      "metadata": {
        "colab": {
          "base_uri": "https://localhost:8080/"
        },
        "id": "VyBUYjlRNHqM",
        "outputId": "cd2df2a1-35f2-438d-c70c-9f8e81cef994"
      },
      "execution_count": null,
      "outputs": [
        {
          "output_type": "stream",
          "name": "stdout",
          "text": [
            "X Training data shape:  (560, 20)\n",
            "X Testing data shape:  (241, 20)\n",
            "y Training data shape:  (560,)\n",
            "y Testing data shape:  (241,)\n"
          ]
        }
      ]
    },
    {
      "cell_type": "code",
      "source": [
        "from sklearn.tree import DecisionTreeRegressor\n",
        "from sklearn.metrics import r2_score\n",
        "dec_tree = DecisionTreeRegressor(random_state=0)\n",
        "dec_tree.fit(X_train,y_train)\n",
        "dec_tree_y_pred = dec_tree.predict(X_train)\n",
        "print(\"Accuracy: {}\".format(dec_tree.score(X_train,y_train)))\n",
        "print(\"R squared: {}\".format(r2_score(y_true=y_train,y_pred=dec_tree_y_pred)))"
      ],
      "metadata": {
        "colab": {
          "base_uri": "https://localhost:8080/"
        },
        "id": "k2LbWRnANJD7",
        "outputId": "5a74c2cc-e1db-46d4-f84b-987133e60615"
      },
      "execution_count": null,
      "outputs": [
        {
          "output_type": "stream",
          "name": "stdout",
          "text": [
            "Accuracy: 1.0\n",
            "R squared: 1.0\n"
          ]
        }
      ]
    },
    {
      "cell_type": "code",
      "source": [
        "dec_tree_y_pred = dec_tree.predict(X_test)\n",
        "print(\"Accuracy: {}\".format(dec_tree.score(X_test,y_test)))\n",
        "print(\"R squared: {}\".format(r2_score(y_true=y_test,y_pred=dec_tree_y_pred)))"
      ],
      "metadata": {
        "colab": {
          "base_uri": "https://localhost:8080/"
        },
        "id": "TvpFI2SmNW80",
        "outputId": "8fd50b09-2be2-493b-9fc2-548558c300df"
      },
      "execution_count": null,
      "outputs": [
        {
          "output_type": "stream",
          "name": "stdout",
          "text": [
            "Accuracy: 0.9631385744876109\n",
            "R squared: 0.9631385744876109\n"
          ]
        }
      ]
    },
    {
      "cell_type": "code",
      "source": [
        "from sklearn.ensemble import RandomForestRegressor\n",
        "\n",
        "rf_tree = RandomForestRegressor(random_state=0)\n",
        "rf_tree.fit(X_train,y_train)\n",
        "rf_tree_y_pred = rf_tree.predict(X_train)\n",
        "print(\"Accuracy: {}\".format(rf_tree.score(X_train,y_train)))\n",
        "print(\"R squared: {}\".format(r2_score(y_true=y_train,y_pred=rf_tree_y_pred)))"
      ],
      "metadata": {
        "colab": {
          "base_uri": "https://localhost:8080/"
        },
        "id": "2V8aHYe4Nd35",
        "outputId": "8feb1622-1847-4f6e-dac4-aaf0e216cde5"
      },
      "execution_count": null,
      "outputs": [
        {
          "output_type": "stream",
          "name": "stdout",
          "text": [
            "Accuracy: 0.9945343592785431\n",
            "R squared: 0.9945343592785431\n"
          ]
        }
      ]
    },
    {
      "cell_type": "code",
      "source": [
        "rf_tree_y_pred = rf_tree.predict(X_test)\n",
        "print(\"Accuracy: {}\".format(rf_tree.score(X_test,y_test)))\n",
        "print(\"R squared: {}\".format(r2_score(y_true=y_test,y_pred=rf_tree_y_pred)))"
      ],
      "metadata": {
        "colab": {
          "base_uri": "https://localhost:8080/"
        },
        "id": "tuNdPufaNgIw",
        "outputId": "b799621c-2844-491f-8cfb-795f4c79fc87"
      },
      "execution_count": null,
      "outputs": [
        {
          "output_type": "stream",
          "name": "stdout",
          "text": [
            "Accuracy: 0.9926163054086731\n",
            "R squared: 0.9926163054086731\n"
          ]
        }
      ]
    },
    {
      "cell_type": "code",
      "source": [
        "from sklearn.svm import SVR\n",
        "\n",
        "svr = SVR()\n",
        "svr.fit(X_train,y_train)\n",
        "svr_y_pred = svr.predict(X_train)\n",
        "print(\"Accuracy: {}\".format(svr.score(X_train,y_train)))\n",
        "print(\"R squared: {}\".format(r2_score(y_true=y_train,y_pred=svr_y_pred)))"
      ],
      "metadata": {
        "colab": {
          "base_uri": "https://localhost:8080/"
        },
        "id": "l_AjHJqoNhgQ",
        "outputId": "8a9e5d0a-90f1-40a1-c949-7d662159312b"
      },
      "execution_count": null,
      "outputs": [
        {
          "output_type": "stream",
          "name": "stdout",
          "text": [
            "Accuracy: 0.9699066976690411\n",
            "R squared: 0.9699066976690411\n"
          ]
        }
      ]
    },
    {
      "cell_type": "code",
      "source": [
        "svr_y_pred = svr.predict(X_test)\n",
        "print(\"Accuracy: {}\".format(svr.score(X_test,y_test)))\n",
        "print(\"R squared: {}\".format(r2_score(y_true=y_test,y_pred=svr_y_pred)))\n"
      ],
      "metadata": {
        "colab": {
          "base_uri": "https://localhost:8080/"
        },
        "id": "nSweHw6CNi_g",
        "outputId": "d9810ea0-0eea-4df9-e75c-de4255312a1d"
      },
      "execution_count": null,
      "outputs": [
        {
          "output_type": "stream",
          "name": "stdout",
          "text": [
            "Accuracy: 0.986122895296595\n",
            "R squared: 0.986122895296595\n"
          ]
        }
      ]
    },
    {
      "cell_type": "code",
      "source": [
        "from sklearn.naive_bayes import GaussianNB  \n",
        "classifier_nb = GaussianNB()  \n",
        "classifier_nb.fit(X_train, y_train)  "
      ],
      "metadata": {
        "colab": {
          "base_uri": "https://localhost:8080/"
        },
        "id": "Tji2-WZRd-Fn",
        "outputId": "b0afa84e-0887-4d80-8ded-9e925f7c5c3f"
      },
      "execution_count": null,
      "outputs": [
        {
          "output_type": "execute_result",
          "data": {
            "text/plain": [
              "GaussianNB()"
            ]
          },
          "metadata": {},
          "execution_count": 57
        }
      ]
    },
    {
      "cell_type": "code",
      "source": [
        "y_pred_nb = classifier_nb.predict(X_test)  "
      ],
      "metadata": {
        "id": "RVC_Uw18eCZm"
      },
      "execution_count": null,
      "outputs": []
    },
    {
      "cell_type": "code",
      "source": [
        "nb=classifier_nb.predict(X_train)\n",
        "accuracy_nb=accuracy_score(nb,y_train)*100\n",
        "accuracy_nb"
      ],
      "metadata": {
        "colab": {
          "base_uri": "https://localhost:8080/"
        },
        "id": "5-neOMMGeCWE",
        "outputId": "9971e75e-87b3-4943-ca2e-85b915e970a0"
      },
      "execution_count": null,
      "outputs": [
        {
          "output_type": "execute_result",
          "data": {
            "text/plain": [
              "97.32142857142857"
            ]
          },
          "metadata": {},
          "execution_count": 59
        }
      ]
    },
    {
      "cell_type": "code",
      "source": [
        "accuracy_nb=accuracy_score(y_pred_nb,y_test)*100\n",
        "print(\"Accuracy of the Decision Tree Classifier model is {:.2f}\".format(accuracy_nb))"
      ],
      "metadata": {
        "colab": {
          "base_uri": "https://localhost:8080/"
        },
        "id": "ctMFQmcieCMc",
        "outputId": "e0c9db92-12fe-4728-b717-757708c37ffb"
      },
      "execution_count": null,
      "outputs": [
        {
          "output_type": "stream",
          "name": "stdout",
          "text": [
            "Accuracy of the Decision Tree Classifier model is 98.76\n"
          ]
        }
      ]
    },
    {
      "cell_type": "code",
      "source": [
        "classifier_knn = KNeighborsClassifier(n_neighbors=7)\n",
        "  \n",
        "classifier_knn.fit(X_train, y_train)"
      ],
      "metadata": {
        "colab": {
          "base_uri": "https://localhost:8080/"
        },
        "id": "ySfyaPUDeQy_",
        "outputId": "e0ecf4ab-08d5-4580-d5af-674d687c2e6e"
      },
      "execution_count": null,
      "outputs": [
        {
          "output_type": "execute_result",
          "data": {
            "text/plain": [
              "KNeighborsClassifier(n_neighbors=7)"
            ]
          },
          "metadata": {},
          "execution_count": 61
        }
      ]
    },
    {
      "cell_type": "code",
      "source": [
        "y_pred_knn=classifier_knn.predict(X_test)"
      ],
      "metadata": {
        "id": "b5pcyYFJeQw3"
      },
      "execution_count": null,
      "outputs": []
    },
    {
      "cell_type": "code",
      "source": [
        "knn=classifier_knn.predict(X_train)\n",
        "accuracy_knn=accuracy_score(knn,y_train)*100\n",
        "accuracy_knn"
      ],
      "metadata": {
        "colab": {
          "base_uri": "https://localhost:8080/"
        },
        "id": "qUf0pwfAeQue",
        "outputId": "2dc279a4-d70e-4bc6-b582-7c4d300bc341"
      },
      "execution_count": null,
      "outputs": [
        {
          "output_type": "execute_result",
          "data": {
            "text/plain": [
              "98.21428571428571"
            ]
          },
          "metadata": {},
          "execution_count": 63
        }
      ]
    },
    {
      "cell_type": "code",
      "source": [
        "accuracy_knn=accuracy_score(y_pred_knn,y_test)*100\n",
        "print(\"Accuracy of the knn Classifier model is {:.2f}\".format(accuracy_knn))"
      ],
      "metadata": {
        "colab": {
          "base_uri": "https://localhost:8080/"
        },
        "id": "KxbDSkVFeQsG",
        "outputId": "8ad9d572-4d6f-4ebf-878e-706986954268"
      },
      "execution_count": null,
      "outputs": [
        {
          "output_type": "stream",
          "name": "stdout",
          "text": [
            "Accuracy of the knn Classifier model is 99.17\n"
          ]
        }
      ]
    },
    {
      "cell_type": "code",
      "source": [],
      "metadata": {
        "id": "1nz0dZpNeQpn"
      },
      "execution_count": null,
      "outputs": []
    },
    {
      "cell_type": "code",
      "source": [
        "df.head()"
      ],
      "metadata": {
        "colab": {
          "base_uri": "https://localhost:8080/",
          "height": 300
        },
        "id": "1kIm2i9bNpHz",
        "outputId": "7e6a3fca-f5b7-44ce-844a-27637a0d6bca"
      },
      "execution_count": null,
      "outputs": [
        {
          "output_type": "execute_result",
          "data": {
            "text/plain": [
              "   gene_9176  gene_9175  gene_15898  gene_220  gene_219  gene_15896  \\\n",
              "0  18.525161  17.173570    1.334282  0.591871  0.591871    0.591871   \n",
              "1   0.000000   0.000000   13.609213  0.000000  0.000000   13.532125   \n",
              "2  16.053597  14.818422    1.074163  0.452595  0.000000    1.074163   \n",
              "3  18.371794  17.371079    0.434882  0.434882  1.039419    4.216416   \n",
              "4   0.000000   1.580097    1.095654  0.000000  0.000000    0.360982   \n",
              "\n",
              "   gene_18135  gene_15899  gene_12069  gene_15895  ...  gene_16132  \\\n",
              "0    6.878308    0.000000    4.692126    0.000000  ...    0.000000   \n",
              "1    0.000000   12.695983    0.000000   10.068832  ...    0.000000   \n",
              "2   12.900029    0.000000   14.766151    0.000000  ...    0.452595   \n",
              "3   13.907304    0.000000    8.653719    0.000000  ...    0.000000   \n",
              "4    0.000000    0.000000    0.000000    0.000000  ...    0.000000   \n",
              "\n",
              "   gene_12995  gene_3439  gene_19153  gene_5829  gene_450  gene_16169  \\\n",
              "0   13.186662   3.266292    1.010279   0.000000  0.000000    3.478079   \n",
              "1    0.000000   0.323658    0.000000   0.000000  0.000000    0.000000   \n",
              "2    3.000252   0.000000    0.000000   2.785739  0.000000    0.000000   \n",
              "3   14.465586   0.000000    0.768587   1.464093  0.000000    0.768587   \n",
              "4    0.360982   0.000000    0.000000   0.000000  0.360982    0.649386   \n",
              "\n",
              "   gene_15591  gene_1190  Class  \n",
              "0    0.000000   7.031572      4  \n",
              "1    6.555574   8.786832      3  \n",
              "2    0.000000   5.388975      4  \n",
              "3    0.000000   8.317494      4  \n",
              "4    0.000000   8.571768      0  \n",
              "\n",
              "[5 rows x 21 columns]"
            ],
            "text/html": [
              "\n",
              "  <div id=\"df-9a34d955-036a-4551-88cd-29f7b4240f49\">\n",
              "    <div class=\"colab-df-container\">\n",
              "      <div>\n",
              "<style scoped>\n",
              "    .dataframe tbody tr th:only-of-type {\n",
              "        vertical-align: middle;\n",
              "    }\n",
              "\n",
              "    .dataframe tbody tr th {\n",
              "        vertical-align: top;\n",
              "    }\n",
              "\n",
              "    .dataframe thead th {\n",
              "        text-align: right;\n",
              "    }\n",
              "</style>\n",
              "<table border=\"1\" class=\"dataframe\">\n",
              "  <thead>\n",
              "    <tr style=\"text-align: right;\">\n",
              "      <th></th>\n",
              "      <th>gene_9176</th>\n",
              "      <th>gene_9175</th>\n",
              "      <th>gene_15898</th>\n",
              "      <th>gene_220</th>\n",
              "      <th>gene_219</th>\n",
              "      <th>gene_15896</th>\n",
              "      <th>gene_18135</th>\n",
              "      <th>gene_15899</th>\n",
              "      <th>gene_12069</th>\n",
              "      <th>gene_15895</th>\n",
              "      <th>...</th>\n",
              "      <th>gene_16132</th>\n",
              "      <th>gene_12995</th>\n",
              "      <th>gene_3439</th>\n",
              "      <th>gene_19153</th>\n",
              "      <th>gene_5829</th>\n",
              "      <th>gene_450</th>\n",
              "      <th>gene_16169</th>\n",
              "      <th>gene_15591</th>\n",
              "      <th>gene_1190</th>\n",
              "      <th>Class</th>\n",
              "    </tr>\n",
              "  </thead>\n",
              "  <tbody>\n",
              "    <tr>\n",
              "      <th>0</th>\n",
              "      <td>18.525161</td>\n",
              "      <td>17.173570</td>\n",
              "      <td>1.334282</td>\n",
              "      <td>0.591871</td>\n",
              "      <td>0.591871</td>\n",
              "      <td>0.591871</td>\n",
              "      <td>6.878308</td>\n",
              "      <td>0.000000</td>\n",
              "      <td>4.692126</td>\n",
              "      <td>0.000000</td>\n",
              "      <td>...</td>\n",
              "      <td>0.000000</td>\n",
              "      <td>13.186662</td>\n",
              "      <td>3.266292</td>\n",
              "      <td>1.010279</td>\n",
              "      <td>0.000000</td>\n",
              "      <td>0.000000</td>\n",
              "      <td>3.478079</td>\n",
              "      <td>0.000000</td>\n",
              "      <td>7.031572</td>\n",
              "      <td>4</td>\n",
              "    </tr>\n",
              "    <tr>\n",
              "      <th>1</th>\n",
              "      <td>0.000000</td>\n",
              "      <td>0.000000</td>\n",
              "      <td>13.609213</td>\n",
              "      <td>0.000000</td>\n",
              "      <td>0.000000</td>\n",
              "      <td>13.532125</td>\n",
              "      <td>0.000000</td>\n",
              "      <td>12.695983</td>\n",
              "      <td>0.000000</td>\n",
              "      <td>10.068832</td>\n",
              "      <td>...</td>\n",
              "      <td>0.000000</td>\n",
              "      <td>0.000000</td>\n",
              "      <td>0.323658</td>\n",
              "      <td>0.000000</td>\n",
              "      <td>0.000000</td>\n",
              "      <td>0.000000</td>\n",
              "      <td>0.000000</td>\n",
              "      <td>6.555574</td>\n",
              "      <td>8.786832</td>\n",
              "      <td>3</td>\n",
              "    </tr>\n",
              "    <tr>\n",
              "      <th>2</th>\n",
              "      <td>16.053597</td>\n",
              "      <td>14.818422</td>\n",
              "      <td>1.074163</td>\n",
              "      <td>0.452595</td>\n",
              "      <td>0.000000</td>\n",
              "      <td>1.074163</td>\n",
              "      <td>12.900029</td>\n",
              "      <td>0.000000</td>\n",
              "      <td>14.766151</td>\n",
              "      <td>0.000000</td>\n",
              "      <td>...</td>\n",
              "      <td>0.452595</td>\n",
              "      <td>3.000252</td>\n",
              "      <td>0.000000</td>\n",
              "      <td>0.000000</td>\n",
              "      <td>2.785739</td>\n",
              "      <td>0.000000</td>\n",
              "      <td>0.000000</td>\n",
              "      <td>0.000000</td>\n",
              "      <td>5.388975</td>\n",
              "      <td>4</td>\n",
              "    </tr>\n",
              "    <tr>\n",
              "      <th>3</th>\n",
              "      <td>18.371794</td>\n",
              "      <td>17.371079</td>\n",
              "      <td>0.434882</td>\n",
              "      <td>0.434882</td>\n",
              "      <td>1.039419</td>\n",
              "      <td>4.216416</td>\n",
              "      <td>13.907304</td>\n",
              "      <td>0.000000</td>\n",
              "      <td>8.653719</td>\n",
              "      <td>0.000000</td>\n",
              "      <td>...</td>\n",
              "      <td>0.000000</td>\n",
              "      <td>14.465586</td>\n",
              "      <td>0.000000</td>\n",
              "      <td>0.768587</td>\n",
              "      <td>1.464093</td>\n",
              "      <td>0.000000</td>\n",
              "      <td>0.768587</td>\n",
              "      <td>0.000000</td>\n",
              "      <td>8.317494</td>\n",
              "      <td>4</td>\n",
              "    </tr>\n",
              "    <tr>\n",
              "      <th>4</th>\n",
              "      <td>0.000000</td>\n",
              "      <td>1.580097</td>\n",
              "      <td>1.095654</td>\n",
              "      <td>0.000000</td>\n",
              "      <td>0.000000</td>\n",
              "      <td>0.360982</td>\n",
              "      <td>0.000000</td>\n",
              "      <td>0.000000</td>\n",
              "      <td>0.000000</td>\n",
              "      <td>0.000000</td>\n",
              "      <td>...</td>\n",
              "      <td>0.000000</td>\n",
              "      <td>0.360982</td>\n",
              "      <td>0.000000</td>\n",
              "      <td>0.000000</td>\n",
              "      <td>0.000000</td>\n",
              "      <td>0.360982</td>\n",
              "      <td>0.649386</td>\n",
              "      <td>0.000000</td>\n",
              "      <td>8.571768</td>\n",
              "      <td>0</td>\n",
              "    </tr>\n",
              "  </tbody>\n",
              "</table>\n",
              "<p>5 rows × 21 columns</p>\n",
              "</div>\n",
              "      <button class=\"colab-df-convert\" onclick=\"convertToInteractive('df-9a34d955-036a-4551-88cd-29f7b4240f49')\"\n",
              "              title=\"Convert this dataframe to an interactive table.\"\n",
              "              style=\"display:none;\">\n",
              "        \n",
              "  <svg xmlns=\"http://www.w3.org/2000/svg\" height=\"24px\"viewBox=\"0 0 24 24\"\n",
              "       width=\"24px\">\n",
              "    <path d=\"M0 0h24v24H0V0z\" fill=\"none\"/>\n",
              "    <path d=\"M18.56 5.44l.94 2.06.94-2.06 2.06-.94-2.06-.94-.94-2.06-.94 2.06-2.06.94zm-11 1L8.5 8.5l.94-2.06 2.06-.94-2.06-.94L8.5 2.5l-.94 2.06-2.06.94zm10 10l.94 2.06.94-2.06 2.06-.94-2.06-.94-.94-2.06-.94 2.06-2.06.94z\"/><path d=\"M17.41 7.96l-1.37-1.37c-.4-.4-.92-.59-1.43-.59-.52 0-1.04.2-1.43.59L10.3 9.45l-7.72 7.72c-.78.78-.78 2.05 0 2.83L4 21.41c.39.39.9.59 1.41.59.51 0 1.02-.2 1.41-.59l7.78-7.78 2.81-2.81c.8-.78.8-2.07 0-2.86zM5.41 20L4 18.59l7.72-7.72 1.47 1.35L5.41 20z\"/>\n",
              "  </svg>\n",
              "      </button>\n",
              "      \n",
              "  <style>\n",
              "    .colab-df-container {\n",
              "      display:flex;\n",
              "      flex-wrap:wrap;\n",
              "      gap: 12px;\n",
              "    }\n",
              "\n",
              "    .colab-df-convert {\n",
              "      background-color: #E8F0FE;\n",
              "      border: none;\n",
              "      border-radius: 50%;\n",
              "      cursor: pointer;\n",
              "      display: none;\n",
              "      fill: #1967D2;\n",
              "      height: 32px;\n",
              "      padding: 0 0 0 0;\n",
              "      width: 32px;\n",
              "    }\n",
              "\n",
              "    .colab-df-convert:hover {\n",
              "      background-color: #E2EBFA;\n",
              "      box-shadow: 0px 1px 2px rgba(60, 64, 67, 0.3), 0px 1px 3px 1px rgba(60, 64, 67, 0.15);\n",
              "      fill: #174EA6;\n",
              "    }\n",
              "\n",
              "    [theme=dark] .colab-df-convert {\n",
              "      background-color: #3B4455;\n",
              "      fill: #D2E3FC;\n",
              "    }\n",
              "\n",
              "    [theme=dark] .colab-df-convert:hover {\n",
              "      background-color: #434B5C;\n",
              "      box-shadow: 0px 1px 3px 1px rgba(0, 0, 0, 0.15);\n",
              "      filter: drop-shadow(0px 1px 2px rgba(0, 0, 0, 0.3));\n",
              "      fill: #FFFFFF;\n",
              "    }\n",
              "  </style>\n",
              "\n",
              "      <script>\n",
              "        const buttonEl =\n",
              "          document.querySelector('#df-9a34d955-036a-4551-88cd-29f7b4240f49 button.colab-df-convert');\n",
              "        buttonEl.style.display =\n",
              "          google.colab.kernel.accessAllowed ? 'block' : 'none';\n",
              "\n",
              "        async function convertToInteractive(key) {\n",
              "          const element = document.querySelector('#df-9a34d955-036a-4551-88cd-29f7b4240f49');\n",
              "          const dataTable =\n",
              "            await google.colab.kernel.invokeFunction('convertToInteractive',\n",
              "                                                     [key], {});\n",
              "          if (!dataTable) return;\n",
              "\n",
              "          const docLinkHtml = 'Like what you see? Visit the ' +\n",
              "            '<a target=\"_blank\" href=https://colab.research.google.com/notebooks/data_table.ipynb>data table notebook</a>'\n",
              "            + ' to learn more about interactive tables.';\n",
              "          element.innerHTML = '';\n",
              "          dataTable['output_type'] = 'display_data';\n",
              "          await google.colab.output.renderOutput(dataTable, element);\n",
              "          const docLink = document.createElement('div');\n",
              "          docLink.innerHTML = docLinkHtml;\n",
              "          element.appendChild(docLink);\n",
              "        }\n",
              "      </script>\n",
              "    </div>\n",
              "  </div>\n",
              "  "
            ]
          },
          "metadata": {},
          "execution_count": 65
        }
      ]
    },
    {
      "cell_type": "code",
      "source": [
        "df.info()"
      ],
      "metadata": {
        "colab": {
          "base_uri": "https://localhost:8080/"
        },
        "id": "wPgBwFT_NrsX",
        "outputId": "c7c0d544-2d63-4d59-fff1-9eff0cb9d859"
      },
      "execution_count": null,
      "outputs": [
        {
          "output_type": "stream",
          "name": "stdout",
          "text": [
            "<class 'pandas.core.frame.DataFrame'>\n",
            "RangeIndex: 801 entries, 0 to 800\n",
            "Data columns (total 21 columns):\n",
            " #   Column      Non-Null Count  Dtype  \n",
            "---  ------      --------------  -----  \n",
            " 0   gene_9176   801 non-null    float64\n",
            " 1   gene_9175   801 non-null    float64\n",
            " 2   gene_15898  801 non-null    float64\n",
            " 3   gene_220    801 non-null    float64\n",
            " 4   gene_219    801 non-null    float64\n",
            " 5   gene_15896  801 non-null    float64\n",
            " 6   gene_18135  801 non-null    float64\n",
            " 7   gene_15899  801 non-null    float64\n",
            " 8   gene_12069  801 non-null    float64\n",
            " 9   gene_15895  801 non-null    float64\n",
            " 10  gene_13976  801 non-null    float64\n",
            " 11  gene_16132  801 non-null    float64\n",
            " 12  gene_12995  801 non-null    float64\n",
            " 13  gene_3439   801 non-null    float64\n",
            " 14  gene_19153  801 non-null    float64\n",
            " 15  gene_5829   801 non-null    float64\n",
            " 16  gene_450    801 non-null    float64\n",
            " 17  gene_16169  801 non-null    float64\n",
            " 18  gene_15591  801 non-null    float64\n",
            " 19  gene_1190   801 non-null    float64\n",
            " 20  Class       801 non-null    int64  \n",
            "dtypes: float64(20), int64(1)\n",
            "memory usage: 131.5 KB\n"
          ]
        }
      ]
    },
    {
      "cell_type": "code",
      "source": [
        "df.head(5)"
      ],
      "metadata": {
        "colab": {
          "base_uri": "https://localhost:8080/",
          "height": 300
        },
        "id": "BjemHuzyN65F",
        "outputId": "81befcfc-45d8-4152-9f06-d3e5b4a61bd3"
      },
      "execution_count": null,
      "outputs": [
        {
          "output_type": "execute_result",
          "data": {
            "text/plain": [
              "   gene_9176  gene_9175  gene_15898  gene_220  gene_219  gene_15896  \\\n",
              "0  18.525161  17.173570    1.334282  0.591871  0.591871    0.591871   \n",
              "1   0.000000   0.000000   13.609213  0.000000  0.000000   13.532125   \n",
              "2  16.053597  14.818422    1.074163  0.452595  0.000000    1.074163   \n",
              "3  18.371794  17.371079    0.434882  0.434882  1.039419    4.216416   \n",
              "4   0.000000   1.580097    1.095654  0.000000  0.000000    0.360982   \n",
              "\n",
              "   gene_18135  gene_15899  gene_12069  gene_15895  ...  gene_16132  \\\n",
              "0    6.878308    0.000000    4.692126    0.000000  ...    0.000000   \n",
              "1    0.000000   12.695983    0.000000   10.068832  ...    0.000000   \n",
              "2   12.900029    0.000000   14.766151    0.000000  ...    0.452595   \n",
              "3   13.907304    0.000000    8.653719    0.000000  ...    0.000000   \n",
              "4    0.000000    0.000000    0.000000    0.000000  ...    0.000000   \n",
              "\n",
              "   gene_12995  gene_3439  gene_19153  gene_5829  gene_450  gene_16169  \\\n",
              "0   13.186662   3.266292    1.010279   0.000000  0.000000    3.478079   \n",
              "1    0.000000   0.323658    0.000000   0.000000  0.000000    0.000000   \n",
              "2    3.000252   0.000000    0.000000   2.785739  0.000000    0.000000   \n",
              "3   14.465586   0.000000    0.768587   1.464093  0.000000    0.768587   \n",
              "4    0.360982   0.000000    0.000000   0.000000  0.360982    0.649386   \n",
              "\n",
              "   gene_15591  gene_1190  Class  \n",
              "0    0.000000   7.031572      4  \n",
              "1    6.555574   8.786832      3  \n",
              "2    0.000000   5.388975      4  \n",
              "3    0.000000   8.317494      4  \n",
              "4    0.000000   8.571768      0  \n",
              "\n",
              "[5 rows x 21 columns]"
            ],
            "text/html": [
              "\n",
              "  <div id=\"df-82c6fe86-0624-4e73-b453-f92ea02e7c79\">\n",
              "    <div class=\"colab-df-container\">\n",
              "      <div>\n",
              "<style scoped>\n",
              "    .dataframe tbody tr th:only-of-type {\n",
              "        vertical-align: middle;\n",
              "    }\n",
              "\n",
              "    .dataframe tbody tr th {\n",
              "        vertical-align: top;\n",
              "    }\n",
              "\n",
              "    .dataframe thead th {\n",
              "        text-align: right;\n",
              "    }\n",
              "</style>\n",
              "<table border=\"1\" class=\"dataframe\">\n",
              "  <thead>\n",
              "    <tr style=\"text-align: right;\">\n",
              "      <th></th>\n",
              "      <th>gene_9176</th>\n",
              "      <th>gene_9175</th>\n",
              "      <th>gene_15898</th>\n",
              "      <th>gene_220</th>\n",
              "      <th>gene_219</th>\n",
              "      <th>gene_15896</th>\n",
              "      <th>gene_18135</th>\n",
              "      <th>gene_15899</th>\n",
              "      <th>gene_12069</th>\n",
              "      <th>gene_15895</th>\n",
              "      <th>...</th>\n",
              "      <th>gene_16132</th>\n",
              "      <th>gene_12995</th>\n",
              "      <th>gene_3439</th>\n",
              "      <th>gene_19153</th>\n",
              "      <th>gene_5829</th>\n",
              "      <th>gene_450</th>\n",
              "      <th>gene_16169</th>\n",
              "      <th>gene_15591</th>\n",
              "      <th>gene_1190</th>\n",
              "      <th>Class</th>\n",
              "    </tr>\n",
              "  </thead>\n",
              "  <tbody>\n",
              "    <tr>\n",
              "      <th>0</th>\n",
              "      <td>18.525161</td>\n",
              "      <td>17.173570</td>\n",
              "      <td>1.334282</td>\n",
              "      <td>0.591871</td>\n",
              "      <td>0.591871</td>\n",
              "      <td>0.591871</td>\n",
              "      <td>6.878308</td>\n",
              "      <td>0.000000</td>\n",
              "      <td>4.692126</td>\n",
              "      <td>0.000000</td>\n",
              "      <td>...</td>\n",
              "      <td>0.000000</td>\n",
              "      <td>13.186662</td>\n",
              "      <td>3.266292</td>\n",
              "      <td>1.010279</td>\n",
              "      <td>0.000000</td>\n",
              "      <td>0.000000</td>\n",
              "      <td>3.478079</td>\n",
              "      <td>0.000000</td>\n",
              "      <td>7.031572</td>\n",
              "      <td>4</td>\n",
              "    </tr>\n",
              "    <tr>\n",
              "      <th>1</th>\n",
              "      <td>0.000000</td>\n",
              "      <td>0.000000</td>\n",
              "      <td>13.609213</td>\n",
              "      <td>0.000000</td>\n",
              "      <td>0.000000</td>\n",
              "      <td>13.532125</td>\n",
              "      <td>0.000000</td>\n",
              "      <td>12.695983</td>\n",
              "      <td>0.000000</td>\n",
              "      <td>10.068832</td>\n",
              "      <td>...</td>\n",
              "      <td>0.000000</td>\n",
              "      <td>0.000000</td>\n",
              "      <td>0.323658</td>\n",
              "      <td>0.000000</td>\n",
              "      <td>0.000000</td>\n",
              "      <td>0.000000</td>\n",
              "      <td>0.000000</td>\n",
              "      <td>6.555574</td>\n",
              "      <td>8.786832</td>\n",
              "      <td>3</td>\n",
              "    </tr>\n",
              "    <tr>\n",
              "      <th>2</th>\n",
              "      <td>16.053597</td>\n",
              "      <td>14.818422</td>\n",
              "      <td>1.074163</td>\n",
              "      <td>0.452595</td>\n",
              "      <td>0.000000</td>\n",
              "      <td>1.074163</td>\n",
              "      <td>12.900029</td>\n",
              "      <td>0.000000</td>\n",
              "      <td>14.766151</td>\n",
              "      <td>0.000000</td>\n",
              "      <td>...</td>\n",
              "      <td>0.452595</td>\n",
              "      <td>3.000252</td>\n",
              "      <td>0.000000</td>\n",
              "      <td>0.000000</td>\n",
              "      <td>2.785739</td>\n",
              "      <td>0.000000</td>\n",
              "      <td>0.000000</td>\n",
              "      <td>0.000000</td>\n",
              "      <td>5.388975</td>\n",
              "      <td>4</td>\n",
              "    </tr>\n",
              "    <tr>\n",
              "      <th>3</th>\n",
              "      <td>18.371794</td>\n",
              "      <td>17.371079</td>\n",
              "      <td>0.434882</td>\n",
              "      <td>0.434882</td>\n",
              "      <td>1.039419</td>\n",
              "      <td>4.216416</td>\n",
              "      <td>13.907304</td>\n",
              "      <td>0.000000</td>\n",
              "      <td>8.653719</td>\n",
              "      <td>0.000000</td>\n",
              "      <td>...</td>\n",
              "      <td>0.000000</td>\n",
              "      <td>14.465586</td>\n",
              "      <td>0.000000</td>\n",
              "      <td>0.768587</td>\n",
              "      <td>1.464093</td>\n",
              "      <td>0.000000</td>\n",
              "      <td>0.768587</td>\n",
              "      <td>0.000000</td>\n",
              "      <td>8.317494</td>\n",
              "      <td>4</td>\n",
              "    </tr>\n",
              "    <tr>\n",
              "      <th>4</th>\n",
              "      <td>0.000000</td>\n",
              "      <td>1.580097</td>\n",
              "      <td>1.095654</td>\n",
              "      <td>0.000000</td>\n",
              "      <td>0.000000</td>\n",
              "      <td>0.360982</td>\n",
              "      <td>0.000000</td>\n",
              "      <td>0.000000</td>\n",
              "      <td>0.000000</td>\n",
              "      <td>0.000000</td>\n",
              "      <td>...</td>\n",
              "      <td>0.000000</td>\n",
              "      <td>0.360982</td>\n",
              "      <td>0.000000</td>\n",
              "      <td>0.000000</td>\n",
              "      <td>0.000000</td>\n",
              "      <td>0.360982</td>\n",
              "      <td>0.649386</td>\n",
              "      <td>0.000000</td>\n",
              "      <td>8.571768</td>\n",
              "      <td>0</td>\n",
              "    </tr>\n",
              "  </tbody>\n",
              "</table>\n",
              "<p>5 rows × 21 columns</p>\n",
              "</div>\n",
              "      <button class=\"colab-df-convert\" onclick=\"convertToInteractive('df-82c6fe86-0624-4e73-b453-f92ea02e7c79')\"\n",
              "              title=\"Convert this dataframe to an interactive table.\"\n",
              "              style=\"display:none;\">\n",
              "        \n",
              "  <svg xmlns=\"http://www.w3.org/2000/svg\" height=\"24px\"viewBox=\"0 0 24 24\"\n",
              "       width=\"24px\">\n",
              "    <path d=\"M0 0h24v24H0V0z\" fill=\"none\"/>\n",
              "    <path d=\"M18.56 5.44l.94 2.06.94-2.06 2.06-.94-2.06-.94-.94-2.06-.94 2.06-2.06.94zm-11 1L8.5 8.5l.94-2.06 2.06-.94-2.06-.94L8.5 2.5l-.94 2.06-2.06.94zm10 10l.94 2.06.94-2.06 2.06-.94-2.06-.94-.94-2.06-.94 2.06-2.06.94z\"/><path d=\"M17.41 7.96l-1.37-1.37c-.4-.4-.92-.59-1.43-.59-.52 0-1.04.2-1.43.59L10.3 9.45l-7.72 7.72c-.78.78-.78 2.05 0 2.83L4 21.41c.39.39.9.59 1.41.59.51 0 1.02-.2 1.41-.59l7.78-7.78 2.81-2.81c.8-.78.8-2.07 0-2.86zM5.41 20L4 18.59l7.72-7.72 1.47 1.35L5.41 20z\"/>\n",
              "  </svg>\n",
              "      </button>\n",
              "      \n",
              "  <style>\n",
              "    .colab-df-container {\n",
              "      display:flex;\n",
              "      flex-wrap:wrap;\n",
              "      gap: 12px;\n",
              "    }\n",
              "\n",
              "    .colab-df-convert {\n",
              "      background-color: #E8F0FE;\n",
              "      border: none;\n",
              "      border-radius: 50%;\n",
              "      cursor: pointer;\n",
              "      display: none;\n",
              "      fill: #1967D2;\n",
              "      height: 32px;\n",
              "      padding: 0 0 0 0;\n",
              "      width: 32px;\n",
              "    }\n",
              "\n",
              "    .colab-df-convert:hover {\n",
              "      background-color: #E2EBFA;\n",
              "      box-shadow: 0px 1px 2px rgba(60, 64, 67, 0.3), 0px 1px 3px 1px rgba(60, 64, 67, 0.15);\n",
              "      fill: #174EA6;\n",
              "    }\n",
              "\n",
              "    [theme=dark] .colab-df-convert {\n",
              "      background-color: #3B4455;\n",
              "      fill: #D2E3FC;\n",
              "    }\n",
              "\n",
              "    [theme=dark] .colab-df-convert:hover {\n",
              "      background-color: #434B5C;\n",
              "      box-shadow: 0px 1px 3px 1px rgba(0, 0, 0, 0.15);\n",
              "      filter: drop-shadow(0px 1px 2px rgba(0, 0, 0, 0.3));\n",
              "      fill: #FFFFFF;\n",
              "    }\n",
              "  </style>\n",
              "\n",
              "      <script>\n",
              "        const buttonEl =\n",
              "          document.querySelector('#df-82c6fe86-0624-4e73-b453-f92ea02e7c79 button.colab-df-convert');\n",
              "        buttonEl.style.display =\n",
              "          google.colab.kernel.accessAllowed ? 'block' : 'none';\n",
              "\n",
              "        async function convertToInteractive(key) {\n",
              "          const element = document.querySelector('#df-82c6fe86-0624-4e73-b453-f92ea02e7c79');\n",
              "          const dataTable =\n",
              "            await google.colab.kernel.invokeFunction('convertToInteractive',\n",
              "                                                     [key], {});\n",
              "          if (!dataTable) return;\n",
              "\n",
              "          const docLinkHtml = 'Like what you see? Visit the ' +\n",
              "            '<a target=\"_blank\" href=https://colab.research.google.com/notebooks/data_table.ipynb>data table notebook</a>'\n",
              "            + ' to learn more about interactive tables.';\n",
              "          element.innerHTML = '';\n",
              "          dataTable['output_type'] = 'display_data';\n",
              "          await google.colab.output.renderOutput(dataTable, element);\n",
              "          const docLink = document.createElement('div');\n",
              "          docLink.innerHTML = docLinkHtml;\n",
              "          element.appendChild(docLink);\n",
              "        }\n",
              "      </script>\n",
              "    </div>\n",
              "  </div>\n",
              "  "
            ]
          },
          "metadata": {},
          "execution_count": 67
        }
      ]
    },
    {
      "cell_type": "code",
      "source": [
        "xxnew1=[[0.000000,1.580097 \t,1.095654 \t,0.000000,0.000000 \t,0.360982 \t,0.000000 \t,0.000000,0.000000,0.000000,0.000000,0.000000,0.360982,0.000000,0.000000,0.000000,0.360982 \t,0.649386,0.000000 \t,8.571768]]"
      ],
      "metadata": {
        "id": "lWqlSyilYc84"
      },
      "execution_count": null,
      "outputs": []
    },
    {
      "cell_type": "code",
      "source": [
        "out= classifier_knn.predict(xxnew1)\n",
        "out"
      ],
      "metadata": {
        "colab": {
          "base_uri": "https://localhost:8080/"
        },
        "id": "kcU6oVKqZKN0",
        "outputId": "caedff45-5ab4-4950-b194-98547e5b9421"
      },
      "execution_count": null,
      "outputs": [
        {
          "output_type": "stream",
          "name": "stderr",
          "text": [
            "/usr/local/lib/python3.8/dist-packages/sklearn/base.py:450: UserWarning: X does not have valid feature names, but KNeighborsClassifier was fitted with feature names\n",
            "  warnings.warn(\n"
          ]
        },
        {
          "output_type": "execute_result",
          "data": {
            "text/plain": [
              "array([0])"
            ]
          },
          "metadata": {},
          "execution_count": 70
        }
      ]
    },
    {
      "cell_type": "code",
      "source": [
        "out=classifier_knn.predict(xxnew1)\n",
        "out"
      ],
      "metadata": {
        "colab": {
          "base_uri": "https://localhost:8080/"
        },
        "id": "tTkwdn_qZKKZ",
        "outputId": "8ad04100-dd26-4c3c-9b18-53f0fbedd609"
      },
      "execution_count": null,
      "outputs": [
        {
          "output_type": "stream",
          "name": "stderr",
          "text": [
            "/usr/local/lib/python3.8/dist-packages/sklearn/base.py:450: UserWarning: X does not have valid feature names, but KNeighborsClassifier was fitted with feature names\n",
            "  warnings.warn(\n"
          ]
        },
        {
          "output_type": "execute_result",
          "data": {
            "text/plain": [
              "array([0])"
            ]
          },
          "metadata": {},
          "execution_count": 72
        }
      ]
    },
    {
      "cell_type": "code",
      "source": [
        "\n",
        "new=[[18.525161,17.173570,1.334282,0.591871,0.591871 \t,0.591871,6.878308 \t,0.000000 \t,4.692126 \t,0.000000,12.205063 \t,0.000000,13.186662,3.266292,1.010279 \t,0.000000,0.000000,3.478079,0.000000,7.031572]]"
      ],
      "metadata": {
        "id": "XCTTlMu9NkYE"
      },
      "execution_count": null,
      "outputs": []
    },
    {
      "cell_type": "code",
      "source": [
        "out= rf_tree.predict(new)\n",
        "out"
      ],
      "metadata": {
        "colab": {
          "base_uri": "https://localhost:8080/"
        },
        "id": "8d_5ppFcNnK7",
        "outputId": "bceaa963-47f4-4a37-b527-6e1a9c4e33e0"
      },
      "execution_count": null,
      "outputs": [
        {
          "output_type": "stream",
          "name": "stderr",
          "text": [
            "/usr/local/lib/python3.8/dist-packages/sklearn/base.py:450: UserWarning: X does not have valid feature names, but RandomForestRegressor was fitted with feature names\n",
            "  warnings.warn(\n"
          ]
        },
        {
          "output_type": "execute_result",
          "data": {
            "text/plain": [
              "array([4.])"
            ]
          },
          "metadata": {},
          "execution_count": 74
        }
      ]
    },
    {
      "cell_type": "code",
      "source": [
        "out= classifier_nb.predict(new)\n",
        "out"
      ],
      "metadata": {
        "colab": {
          "base_uri": "https://localhost:8080/"
        },
        "id": "Z8cY_rrYTIwZ",
        "outputId": "36bb8d04-8288-4c97-a103-bb3c9c286527"
      },
      "execution_count": null,
      "outputs": [
        {
          "output_type": "stream",
          "name": "stderr",
          "text": [
            "/usr/local/lib/python3.8/dist-packages/sklearn/base.py:450: UserWarning: X does not have valid feature names, but GaussianNB was fitted with feature names\n",
            "  warnings.warn(\n"
          ]
        },
        {
          "output_type": "execute_result",
          "data": {
            "text/plain": [
              "array([4])"
            ]
          },
          "metadata": {},
          "execution_count": 75
        }
      ]
    },
    {
      "cell_type": "code",
      "source": [
        "out= dec_tree.predict(new)\n",
        "out"
      ],
      "metadata": {
        "colab": {
          "base_uri": "https://localhost:8080/"
        },
        "id": "SKMEzeokT7kc",
        "outputId": "dde69a8a-9ce8-45bc-8afa-05b5a73a5106"
      },
      "execution_count": null,
      "outputs": [
        {
          "output_type": "stream",
          "name": "stderr",
          "text": [
            "/usr/local/lib/python3.8/dist-packages/sklearn/base.py:450: UserWarning: X does not have valid feature names, but DecisionTreeRegressor was fitted with feature names\n",
            "  warnings.warn(\n"
          ]
        },
        {
          "output_type": "execute_result",
          "data": {
            "text/plain": [
              "array([4.])"
            ]
          },
          "metadata": {},
          "execution_count": 76
        }
      ]
    },
    {
      "cell_type": "code",
      "source": [],
      "metadata": {
        "id": "Y9B5ma3jUD8Z"
      },
      "execution_count": null,
      "outputs": []
    },
    {
      "cell_type": "code",
      "source": [
        "from sklearn.ensemble import RandomForestClassifier\n"
      ],
      "metadata": {
        "id": "zvgixpcQtWTw"
      },
      "execution_count": null,
      "outputs": []
    },
    {
      "cell_type": "code",
      "source": [
        "classifier_dtc=DecisionTreeClassifier(criterion=\"entropy\")\n",
        "classifier_dtc.fit(X_train,y_train)\n",
        "y_pred_dtc=classifier_dtc.predict(X_test)\n",
        "y_pred_dtc"
      ],
      "metadata": {
        "colab": {
          "base_uri": "https://localhost:8080/"
        },
        "id": "p2BYH2oYtWQq",
        "outputId": "095dcdf5-2eb4-4ee2-b868-8cac9852bc2f"
      },
      "execution_count": null,
      "outputs": [
        {
          "output_type": "execute_result",
          "data": {
            "text/plain": [
              "array([0, 0, 4, 0, 0, 3, 3, 0, 2, 0, 1, 2, 0, 0, 0, 0, 3, 3, 0, 0, 0, 0,\n",
              "       4, 3, 3, 2, 1, 4, 3, 0, 3, 0, 3, 2, 1, 2, 0, 2, 3, 1, 3, 4, 3, 2,\n",
              "       0, 4, 0, 2, 2, 0, 2, 0, 4, 4, 4, 4, 0, 4, 0, 0, 1, 4, 0, 2, 4, 0,\n",
              "       2, 2, 1, 4, 3, 1, 0, 0, 3, 0, 0, 0, 1, 3, 0, 1, 2, 3, 3, 0, 4, 0,\n",
              "       2, 4, 0, 0, 2, 3, 3, 3, 0, 4, 2, 0, 0, 3, 4, 0, 4, 2, 2, 3, 3, 0,\n",
              "       1, 2, 0, 0, 1, 0, 0, 0, 0, 0, 3, 0, 4, 1, 0, 0, 2, 0, 0, 3, 0, 0,\n",
              "       3, 4, 4, 0, 4, 1, 3, 0, 0, 2, 0, 4, 0, 0, 4, 3, 2, 0, 3, 0, 0, 2,\n",
              "       3, 0, 0, 3, 4, 1, 2, 2, 2, 0, 4, 0, 0, 0, 3, 2, 4, 0, 4, 1, 3, 1,\n",
              "       3, 4, 4, 2, 0, 0, 1, 2, 2, 0, 0, 0, 0, 0, 0, 0, 2, 4, 0, 0, 3, 4,\n",
              "       0, 2, 2, 0, 4, 0, 0, 1, 1, 0, 0, 0, 0, 2, 3, 0, 2, 0, 4, 1, 0, 4,\n",
              "       0, 1, 3, 0, 3, 3, 1, 0, 1, 0, 2, 3, 4, 1, 4, 2, 4, 2, 1, 0, 4])"
            ]
          },
          "metadata": {},
          "execution_count": 78
        }
      ]
    },
    {
      "cell_type": "code",
      "source": [
        "dec=classifier_dtc.predict(X_train)\n",
        "accuracy_dectree=accuracy_score(dec,y_train)*100\n",
        "accuracy_dectree"
      ],
      "metadata": {
        "colab": {
          "base_uri": "https://localhost:8080/"
        },
        "id": "T8Y3eYartWO1",
        "outputId": "deb46d41-ba7b-4d5a-f86b-89d13f1eb08a"
      },
      "execution_count": null,
      "outputs": [
        {
          "output_type": "execute_result",
          "data": {
            "text/plain": [
              "100.0"
            ]
          },
          "metadata": {},
          "execution_count": 79
        }
      ]
    },
    {
      "cell_type": "code",
      "source": [
        "accuracy_dectree=accuracy_score(y_pred_dtc,y_test)*100\n",
        "print(\"Accuracy of the Decision Tree Classifier model is {:.2f}\".format(accuracy_dectree))"
      ],
      "metadata": {
        "colab": {
          "base_uri": "https://localhost:8080/"
        },
        "id": "rLOCgyYKtwkk",
        "outputId": "162e60c2-9445-4bef-a814-7413aaa47c9f"
      },
      "execution_count": null,
      "outputs": [
        {
          "output_type": "stream",
          "name": "stdout",
          "text": [
            "Accuracy of the Decision Tree Classifier model is 99.17\n"
          ]
        }
      ]
    },
    {
      "cell_type": "code",
      "source": [
        "cm_dtc = confusion_matrix(y_test, y_pred_dtc)\n",
        "fig, ax = plot_confusion_matrix(conf_mat=cm_dtc, figsize=(6, 6), cmap=plt.cm.Greens)\n",
        "plt.xlabel('Predictions', fontsize=18)\n",
        "plt.ylabel('Actuals', fontsize=18)\n",
        "plt.title('Confusion Matrix', fontsize=18)\n",
        "plt.show()"
      ],
      "metadata": {
        "colab": {
          "base_uri": "https://localhost:8080/",
          "height": 432
        },
        "id": "0VLMfwMatykG",
        "outputId": "9e2a8277-180e-4ce1-9118-fdbf4d1a6561"
      },
      "execution_count": null,
      "outputs": [
        {
          "output_type": "display_data",
          "data": {
            "text/plain": [
              "<Figure size 432x432 with 1 Axes>"
            ],
            "image/png": "[encoded data removed]"
          },
          "metadata": {
            "needs_background": "light"
          }
        }
      ]
    },
    {
      "cell_type": "code",
      "source": [
        "from sklearn.metrics import classification_report\n",
        "print(classification_report(y_test, y_pred_dtc))\n"
      ],
      "metadata": {
        "colab": {
          "base_uri": "https://localhost:8080/"
        },
        "id": "CKq0LAV7t6Za",
        "outputId": "825d3b5b-e8b9-4945-8189-e3815149952f"
      },
      "execution_count": null,
      "outputs": [
        {
          "output_type": "stream",
          "name": "stdout",
          "text": [
            "              precision    recall  f1-score   support\n",
            "\n",
            "           0       1.00      0.98      0.99       100\n",
            "           1       1.00      1.00      1.00        25\n",
            "           2       1.00      1.00      1.00        39\n",
            "           3       0.95      1.00      0.97        38\n",
            "           4       1.00      1.00      1.00        39\n",
            "\n",
            "    accuracy                           0.99       241\n",
            "   macro avg       0.99      1.00      0.99       241\n",
            "weighted avg       0.99      0.99      0.99       241\n",
            "\n"
          ]
        }
      ]
    },
    {
      "cell_type": "code",
      "source": [
        "-"
      ],
      "metadata": {
        "id": "5M02kZUsuTyi"
      },
      "execution_count": null,
      "outputs": []
    }
  ]
}